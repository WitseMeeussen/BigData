{
 "cells": [
  {
   "cell_type": "code",
   "execution_count": 5,
   "metadata": {},
   "outputs": [],
   "source": [
    "#!pip install fastai"
   ]
  },
  {
   "cell_type": "code",
   "execution_count": 7,
   "metadata": {},
   "outputs": [
    {
     "name": "stdout",
     "output_type": "stream",
     "text": [
      " * Serving Flask app '__main__' (lazy loading)\n",
      " * Environment: production\n",
      "   WARNING: This is a development server. Do not use it in a production deployment.\n",
      "   Use a production WSGI server instead.\n",
      " * Debug mode: off\n"
     ]
    },
    {
     "name": "stderr",
     "output_type": "stream",
     "text": [
      " * Running on http://127.0.0.1:5000/ (Press CTRL+C to quit)\n"
     ]
    },
    {
     "name": "stdout",
     "output_type": "stream",
     "text": [
      "{'sample_class': 'sample_hidden'}\n"
     ]
    },
    {
     "data": {
      "text/html": [],
      "text/plain": [
       "<IPython.core.display.HTML object>"
      ]
     },
     "metadata": {},
     "output_type": "display_data"
    },
    {
     "data": {
      "text/html": [],
      "text/plain": [
       "<IPython.core.display.HTML object>"
      ]
     },
     "metadata": {},
     "output_type": "display_data"
    },
    {
     "data": {
      "text/html": [],
      "text/plain": [
       "<IPython.core.display.HTML object>"
      ]
     },
     "metadata": {},
     "output_type": "display_data"
    },
    {
     "data": {
      "text/html": [],
      "text/plain": [
       "<IPython.core.display.HTML object>"
      ]
     },
     "metadata": {},
     "output_type": "display_data"
    },
    {
     "data": {
      "text/html": [],
      "text/plain": [
       "<IPython.core.display.HTML object>"
      ]
     },
     "metadata": {},
     "output_type": "display_data"
    },
    {
     "data": {
      "text/html": [],
      "text/plain": [
       "<IPython.core.display.HTML object>"
      ]
     },
     "metadata": {},
     "output_type": "display_data"
    },
    {
     "data": {
      "text/html": [],
      "text/plain": [
       "<IPython.core.display.HTML object>"
      ]
     },
     "metadata": {},
     "output_type": "display_data"
    },
    {
     "data": {
      "text/html": [],
      "text/plain": [
       "<IPython.core.display.HTML object>"
      ]
     },
     "metadata": {},
     "output_type": "display_data"
    },
    {
     "data": {
      "text/html": [],
      "text/plain": [
       "<IPython.core.display.HTML object>"
      ]
     },
     "metadata": {},
     "output_type": "display_data"
    },
    {
     "data": {
      "text/html": [],
      "text/plain": [
       "<IPython.core.display.HTML object>"
      ]
     },
     "metadata": {},
     "output_type": "display_data"
    },
    {
     "data": {
      "text/html": [],
      "text/plain": [
       "<IPython.core.display.HTML object>"
      ]
     },
     "metadata": {},
     "output_type": "display_data"
    },
    {
     "data": {
      "text/html": [],
      "text/plain": [
       "<IPython.core.display.HTML object>"
      ]
     },
     "metadata": {},
     "output_type": "display_data"
    },
    {
     "data": {
      "text/html": [],
      "text/plain": [
       "<IPython.core.display.HTML object>"
      ]
     },
     "metadata": {},
     "output_type": "display_data"
    },
    {
     "data": {
      "text/html": [],
      "text/plain": [
       "<IPython.core.display.HTML object>"
      ]
     },
     "metadata": {},
     "output_type": "display_data"
    },
    {
     "name": "stderr",
     "output_type": "stream",
     "text": [
      "127.0.0.1 - - [12/Dec/2021 13:38:26] \"GET / HTTP/1.1\" 200 -\n"
     ]
    },
    {
     "name": "stdout",
     "output_type": "stream",
     "text": [
      "{'sample_class': 'sample_hidden'}\n"
     ]
    },
    {
     "data": {
      "text/html": [],
      "text/plain": [
       "<IPython.core.display.HTML object>"
      ]
     },
     "metadata": {},
     "output_type": "display_data"
    },
    {
     "data": {
      "text/html": [],
      "text/plain": [
       "<IPython.core.display.HTML object>"
      ]
     },
     "metadata": {},
     "output_type": "display_data"
    },
    {
     "data": {
      "text/html": [],
      "text/plain": [
       "<IPython.core.display.HTML object>"
      ]
     },
     "metadata": {},
     "output_type": "display_data"
    },
    {
     "data": {
      "text/html": [],
      "text/plain": [
       "<IPython.core.display.HTML object>"
      ]
     },
     "metadata": {},
     "output_type": "display_data"
    },
    {
     "data": {
      "text/html": [],
      "text/plain": [
       "<IPython.core.display.HTML object>"
      ]
     },
     "metadata": {},
     "output_type": "display_data"
    },
    {
     "data": {
      "text/html": [],
      "text/plain": [
       "<IPython.core.display.HTML object>"
      ]
     },
     "metadata": {},
     "output_type": "display_data"
    },
    {
     "data": {
      "text/html": [],
      "text/plain": [
       "<IPython.core.display.HTML object>"
      ]
     },
     "metadata": {},
     "output_type": "display_data"
    },
    {
     "data": {
      "text/html": [],
      "text/plain": [
       "<IPython.core.display.HTML object>"
      ]
     },
     "metadata": {},
     "output_type": "display_data"
    },
    {
     "data": {
      "text/html": [],
      "text/plain": [
       "<IPython.core.display.HTML object>"
      ]
     },
     "metadata": {},
     "output_type": "display_data"
    },
    {
     "data": {
      "text/html": [],
      "text/plain": [
       "<IPython.core.display.HTML object>"
      ]
     },
     "metadata": {},
     "output_type": "display_data"
    },
    {
     "data": {
      "text/html": [],
      "text/plain": [
       "<IPython.core.display.HTML object>"
      ]
     },
     "metadata": {},
     "output_type": "display_data"
    },
    {
     "data": {
      "text/html": [],
      "text/plain": [
       "<IPython.core.display.HTML object>"
      ]
     },
     "metadata": {},
     "output_type": "display_data"
    },
    {
     "data": {
      "text/html": [],
      "text/plain": [
       "<IPython.core.display.HTML object>"
      ]
     },
     "metadata": {},
     "output_type": "display_data"
    },
    {
     "data": {
      "text/html": [],
      "text/plain": [
       "<IPython.core.display.HTML object>"
      ]
     },
     "metadata": {},
     "output_type": "display_data"
    },
    {
     "name": "stderr",
     "output_type": "stream",
     "text": [
      "127.0.0.1 - - [12/Dec/2021 13:38:28] \"GET / HTTP/1.1\" 200 -\n",
      "127.0.0.1 - - [12/Dec/2021 13:38:28] \"GET /static/css/style.css HTTP/1.1\" 200 -\n",
      "127.0.0.1 - - [12/Dec/2021 13:38:28] \"GET /static//data/indoislamic/indoislamic4.png HTTP/1.1\" 308 -\n",
      "127.0.0.1 - - [12/Dec/2021 13:38:28] \"GET /static//data/federal/federal9.png HTTP/1.1\" 308 -\n",
      "127.0.0.1 - - [12/Dec/2021 13:38:28] \"GET /static/pictures/Stars.png HTTP/1.1\" 304 -\n",
      "127.0.0.1 - - [12/Dec/2021 13:38:28] \"GET /static/data/tudor/tudor17.png HTTP/1.1\" 200 -\n",
      "127.0.0.1 - - [12/Dec/2021 13:38:28] \"GET /static/data/roman/roman11.png HTTP/1.1\" 200 -\n",
      "127.0.0.1 - - [12/Dec/2021 13:38:28] \"GET /static/data/gothic/gothic9.png HTTP/1.1\" 304 -\n",
      "127.0.0.1 - - [12/Dec/2021 13:38:29] \"GET /static/data/indoislamic/indoislamic4.png HTTP/1.1\" 200 -\n",
      "127.0.0.1 - - [12/Dec/2021 13:38:29] \"GET /static//data/ancient%20egyptian/ancient%20egyptian17.png HTTP/1.1\" 308 -\n",
      "127.0.0.1 - - [12/Dec/2021 13:38:29] \"GET /static/data/federal/federal9.png HTTP/1.1\" 200 -\n",
      "127.0.0.1 - - [12/Dec/2021 13:38:29] \"GET /static//data/brutalism/brutalism10.png HTTP/1.1\" 308 -\n",
      "127.0.0.1 - - [12/Dec/2021 13:38:29] \"GET /static/data/art%20deco/art%20deco16.png HTTP/1.1\" 200 -\n",
      "127.0.0.1 - - [12/Dec/2021 13:38:29] \"GET /static/data/baroque/baroque15.png HTTP/1.1\" 200 -\n",
      "127.0.0.1 - - [12/Dec/2021 13:38:29] \"GET /static/data/ancient%20egyptian/ancient%20egyptian17.png HTTP/1.1\" 200 -\n",
      "127.0.0.1 - - [12/Dec/2021 13:38:29] \"GET /static/data/cunstructivist/cunstructivist17.png HTTP/1.1\" 304 -\n",
      "127.0.0.1 - - [12/Dec/2021 13:38:29] \"GET /static//data/expressionist/expressionist9.png HTTP/1.1\" 308 -\n",
      "127.0.0.1 - - [12/Dec/2021 13:38:29] \"GET /static/data/brutalism/brutalism10.png HTTP/1.1\" 200 -\n",
      "127.0.0.1 - - [12/Dec/2021 13:38:29] \"GET /static//data/modern/modern2.png HTTP/1.1\" 308 -\n",
      "127.0.0.1 - - [12/Dec/2021 13:38:29] \"GET /static//data/moorisch/moorisch10.png HTTP/1.1\" 308 -\n",
      "127.0.0.1 - - [12/Dec/2021 13:38:29] \"GET /static//data/rococo/rococo4.png HTTP/1.1\" 308 -\n",
      "127.0.0.1 - - [12/Dec/2021 13:38:29] \"GET /static/data/expressionist/expressionist9.png HTTP/1.1\" 200 -\n",
      "127.0.0.1 - - [12/Dec/2021 13:38:29] \"GET /static/data/modern/modern2.png HTTP/1.1\" 200 -\n",
      "127.0.0.1 - - [12/Dec/2021 13:38:29] \"GET /static/data/moorisch/moorisch10.png HTTP/1.1\" 200 -\n",
      "127.0.0.1 - - [12/Dec/2021 13:38:30] \"GET /static/data/rococo/rococo4.png HTTP/1.1\" 200 -\n"
     ]
    },
    {
     "name": "stdout",
     "output_type": "stream",
     "text": [
      "{'sample_class': 'sample_hidden'}\n"
     ]
    },
    {
     "data": {
      "text/html": [],
      "text/plain": [
       "<IPython.core.display.HTML object>"
      ]
     },
     "metadata": {},
     "output_type": "display_data"
    },
    {
     "data": {
      "text/html": [],
      "text/plain": [
       "<IPython.core.display.HTML object>"
      ]
     },
     "metadata": {},
     "output_type": "display_data"
    },
    {
     "data": {
      "text/html": [],
      "text/plain": [
       "<IPython.core.display.HTML object>"
      ]
     },
     "metadata": {},
     "output_type": "display_data"
    },
    {
     "data": {
      "text/html": [],
      "text/plain": [
       "<IPython.core.display.HTML object>"
      ]
     },
     "metadata": {},
     "output_type": "display_data"
    },
    {
     "data": {
      "text/html": [],
      "text/plain": [
       "<IPython.core.display.HTML object>"
      ]
     },
     "metadata": {},
     "output_type": "display_data"
    },
    {
     "data": {
      "text/html": [],
      "text/plain": [
       "<IPython.core.display.HTML object>"
      ]
     },
     "metadata": {},
     "output_type": "display_data"
    },
    {
     "data": {
      "text/html": [],
      "text/plain": [
       "<IPython.core.display.HTML object>"
      ]
     },
     "metadata": {},
     "output_type": "display_data"
    },
    {
     "data": {
      "text/html": [],
      "text/plain": [
       "<IPython.core.display.HTML object>"
      ]
     },
     "metadata": {},
     "output_type": "display_data"
    },
    {
     "data": {
      "text/html": [],
      "text/plain": [
       "<IPython.core.display.HTML object>"
      ]
     },
     "metadata": {},
     "output_type": "display_data"
    },
    {
     "data": {
      "text/html": [],
      "text/plain": [
       "<IPython.core.display.HTML object>"
      ]
     },
     "metadata": {},
     "output_type": "display_data"
    },
    {
     "data": {
      "text/html": [],
      "text/plain": [
       "<IPython.core.display.HTML object>"
      ]
     },
     "metadata": {},
     "output_type": "display_data"
    },
    {
     "data": {
      "text/html": [],
      "text/plain": [
       "<IPython.core.display.HTML object>"
      ]
     },
     "metadata": {},
     "output_type": "display_data"
    },
    {
     "data": {
      "text/html": [],
      "text/plain": [
       "<IPython.core.display.HTML object>"
      ]
     },
     "metadata": {},
     "output_type": "display_data"
    },
    {
     "data": {
      "text/html": [],
      "text/plain": [
       "<IPython.core.display.HTML object>"
      ]
     },
     "metadata": {},
     "output_type": "display_data"
    },
    {
     "name": "stderr",
     "output_type": "stream",
     "text": [
      "127.0.0.1 - - [12/Dec/2021 13:40:12] \"GET / HTTP/1.1\" 200 -\n",
      "127.0.0.1 - - [12/Dec/2021 13:40:12] \"GET /static//data/ancient%20egyptian/ancient%20egyptian7.png HTTP/1.1\" 308 -\n",
      "127.0.0.1 - - [12/Dec/2021 13:40:12] \"GET /static/css/style.css HTTP/1.1\" 200 -\n",
      "127.0.0.1 - - [12/Dec/2021 13:40:12] \"GET /static//data/tudor/tudor1.png HTTP/1.1\" 308 -\n",
      "127.0.0.1 - - [12/Dec/2021 13:40:12] \"GET /static/pictures/Stars.png HTTP/1.1\" 304 -\n",
      "127.0.0.1 - - [12/Dec/2021 13:40:12] \"GET /static//data/federal/federal3.png HTTP/1.1\" 308 -\n",
      "127.0.0.1 - - [12/Dec/2021 13:40:12] \"GET /static/data/gothic/gothic17.png HTTP/1.1\" 304 -\n",
      "127.0.0.1 - - [12/Dec/2021 13:40:12] \"GET /static/data/indoislamic/indoislamic15.png HTTP/1.1\" 304 -\n",
      "127.0.0.1 - - [12/Dec/2021 13:40:12] \"GET /static/data/roman/roman0.png HTTP/1.1\" 304 -\n",
      "127.0.0.1 - - [12/Dec/2021 13:40:12] \"GET /static/data/tudor/tudor1.png HTTP/1.1\" 200 -\n",
      "127.0.0.1 - - [12/Dec/2021 13:40:12] \"GET /static/data/federal/federal3.png HTTP/1.1\" 200 -\n",
      "127.0.0.1 - - [12/Dec/2021 13:40:12] \"GET /static//data/brutalism/brutalism13.png HTTP/1.1\" 308 -\n",
      "127.0.0.1 - - [12/Dec/2021 13:40:12] \"GET /static//data/cunstructivist/cunstructivist18.png HTTP/1.1\" 308 -\n",
      "127.0.0.1 - - [12/Dec/2021 13:40:12] \"GET /static/data/art%20deco/art%20deco16.png HTTP/1.1\" 304 -\n",
      "127.0.0.1 - - [12/Dec/2021 13:40:12] \"GET /static/data/baroque/baroque7.png HTTP/1.1\" 304 -\n",
      "127.0.0.1 - - [12/Dec/2021 13:40:12] \"GET /static/data/ancient%20egyptian/ancient%20egyptian7.png HTTP/1.1\" 200 -\n",
      "127.0.0.1 - - [12/Dec/2021 13:40:13] \"GET /static/data/expressionist/expressionist12.png HTTP/1.1\" 304 -\n",
      "127.0.0.1 - - [12/Dec/2021 13:40:13] \"GET /static/data/brutalism/brutalism13.png HTTP/1.1\" 200 -\n",
      "127.0.0.1 - - [12/Dec/2021 13:40:13] \"GET /static/data/cunstructivist/cunstructivist18.png HTTP/1.1\" 200 -\n",
      "127.0.0.1 - - [12/Dec/2021 13:40:13] \"GET /static/data/modern/modern10.png HTTP/1.1\" 304 -\n",
      "127.0.0.1 - - [12/Dec/2021 13:40:13] \"GET /static/data/moorisch/moorisch9.png HTTP/1.1\" 304 -\n",
      "127.0.0.1 - - [12/Dec/2021 13:40:13] \"GET /static//data/rococo/rococo13.png HTTP/1.1\" 308 -\n",
      "127.0.0.1 - - [12/Dec/2021 13:40:13] \"GET /static/data/rococo/rococo13.png HTTP/1.1\" 200 -\n"
     ]
    },
    {
     "name": "stdout",
     "output_type": "stream",
     "text": [
      "{'sample_class': 'sample_hidden'}\n"
     ]
    },
    {
     "data": {
      "text/html": [],
      "text/plain": [
       "<IPython.core.display.HTML object>"
      ]
     },
     "metadata": {},
     "output_type": "display_data"
    },
    {
     "data": {
      "text/html": [],
      "text/plain": [
       "<IPython.core.display.HTML object>"
      ]
     },
     "metadata": {},
     "output_type": "display_data"
    },
    {
     "data": {
      "text/html": [],
      "text/plain": [
       "<IPython.core.display.HTML object>"
      ]
     },
     "metadata": {},
     "output_type": "display_data"
    },
    {
     "data": {
      "text/html": [],
      "text/plain": [
       "<IPython.core.display.HTML object>"
      ]
     },
     "metadata": {},
     "output_type": "display_data"
    },
    {
     "data": {
      "text/html": [],
      "text/plain": [
       "<IPython.core.display.HTML object>"
      ]
     },
     "metadata": {},
     "output_type": "display_data"
    },
    {
     "data": {
      "text/html": [],
      "text/plain": [
       "<IPython.core.display.HTML object>"
      ]
     },
     "metadata": {},
     "output_type": "display_data"
    },
    {
     "data": {
      "text/html": [],
      "text/plain": [
       "<IPython.core.display.HTML object>"
      ]
     },
     "metadata": {},
     "output_type": "display_data"
    },
    {
     "data": {
      "text/html": [],
      "text/plain": [
       "<IPython.core.display.HTML object>"
      ]
     },
     "metadata": {},
     "output_type": "display_data"
    },
    {
     "data": {
      "text/html": [],
      "text/plain": [
       "<IPython.core.display.HTML object>"
      ]
     },
     "metadata": {},
     "output_type": "display_data"
    },
    {
     "data": {
      "text/html": [],
      "text/plain": [
       "<IPython.core.display.HTML object>"
      ]
     },
     "metadata": {},
     "output_type": "display_data"
    },
    {
     "data": {
      "text/html": [],
      "text/plain": [
       "<IPython.core.display.HTML object>"
      ]
     },
     "metadata": {},
     "output_type": "display_data"
    },
    {
     "data": {
      "text/html": [],
      "text/plain": [
       "<IPython.core.display.HTML object>"
      ]
     },
     "metadata": {},
     "output_type": "display_data"
    },
    {
     "data": {
      "text/html": [],
      "text/plain": [
       "<IPython.core.display.HTML object>"
      ]
     },
     "metadata": {},
     "output_type": "display_data"
    },
    {
     "data": {
      "text/html": [],
      "text/plain": [
       "<IPython.core.display.HTML object>"
      ]
     },
     "metadata": {},
     "output_type": "display_data"
    },
    {
     "name": "stderr",
     "output_type": "stream",
     "text": [
      "127.0.0.1 - - [12/Dec/2021 13:41:06] \"GET / HTTP/1.1\" 200 -\n",
      "127.0.0.1 - - [12/Dec/2021 13:41:06] \"GET /static//data/ancient%20egyptian/ancient%20egyptian2.png HTTP/1.1\" 308 -\n",
      "127.0.0.1 - - [12/Dec/2021 13:41:06] \"GET /static//data/rococo/rococo5.png HTTP/1.1\" 308 -\n",
      "127.0.0.1 - - [12/Dec/2021 13:41:06] \"GET /static//data/gothic/gothic2.png HTTP/1.1\" 308 -\n",
      "127.0.0.1 - - [12/Dec/2021 13:41:06] \"GET /static//data/indoislamic/indoislamic12.png HTTP/1.1\" 308 -\n",
      "127.0.0.1 - - [12/Dec/2021 13:41:06] \"GET /static//data/expressionist/expressionist2.png HTTP/1.1\" 308 -\n",
      "127.0.0.1 - - [12/Dec/2021 13:41:06] \"GET /static/css/style.css HTTP/1.1\" 200 -\n",
      "127.0.0.1 - - [12/Dec/2021 13:41:06] \"GET /static/data/modern/modern16.png HTTP/1.1\" 304 -\n",
      "127.0.0.1 - - [12/Dec/2021 13:41:07] \"GET /static/data/moorisch/moorisch8.png HTTP/1.1\" 304 -\n",
      "127.0.0.1 - - [12/Dec/2021 13:41:07] \"GET /static/data/federal/federal17.png HTTP/1.1\" 304 -\n",
      "127.0.0.1 - - [12/Dec/2021 13:41:07] \"GET /static/data/roman/roman5.png HTTP/1.1\" 304 -\n",
      "127.0.0.1 - - [12/Dec/2021 13:41:07] \"GET /static/data/rococo/rococo5.png HTTP/1.1\" 200 -\n",
      "127.0.0.1 - - [12/Dec/2021 13:41:07] \"GET /static/data/gothic/gothic2.png HTTP/1.1\" 200 -\n",
      "127.0.0.1 - - [12/Dec/2021 13:41:07] \"GET /static/data/indoislamic/indoislamic12.png HTTP/1.1\" 200 -\n",
      "127.0.0.1 - - [12/Dec/2021 13:41:07] \"GET /static/data/expressionist/expressionist2.png HTTP/1.1\" 200 -\n",
      "127.0.0.1 - - [12/Dec/2021 13:41:07] \"GET /static//data/tudor/tudor0.png HTTP/1.1\" 308 -\n",
      "127.0.0.1 - - [12/Dec/2021 13:41:07] \"GET /static/pictures/Stars.png HTTP/1.1\" 304 -\n",
      "127.0.0.1 - - [12/Dec/2021 13:41:07] \"GET /static//data/brutalism/brutalism15.png HTTP/1.1\" 308 -\n",
      "127.0.0.1 - - [12/Dec/2021 13:41:07] \"GET /static/data/tudor/tudor0.png HTTP/1.1\" 200 -\n",
      "127.0.0.1 - - [12/Dec/2021 13:41:07] \"GET /static/data/art%20deco/art%20deco4.png HTTP/1.1\" 304 -\n",
      "127.0.0.1 - - [12/Dec/2021 13:41:07] \"GET /static/data/brutalism/brutalism15.png HTTP/1.1\" 200 -\n",
      "127.0.0.1 - - [12/Dec/2021 13:41:07] \"GET /static/data/baroque/baroque14.png HTTP/1.1\" 304 -\n",
      "127.0.0.1 - - [12/Dec/2021 13:41:07] \"GET /static/data/cunstructivist/cunstructivist18.png HTTP/1.1\" 304 -\n",
      "127.0.0.1 - - [12/Dec/2021 13:41:07] \"GET /static/data/ancient%20egyptian/ancient%20egyptian2.png HTTP/1.1\" 200 -\n"
     ]
    },
    {
     "name": "stdout",
     "output_type": "stream",
     "text": [
      "{'sample_class': 'sample_hidden'}\n"
     ]
    },
    {
     "data": {
      "text/html": [],
      "text/plain": [
       "<IPython.core.display.HTML object>"
      ]
     },
     "metadata": {},
     "output_type": "display_data"
    },
    {
     "data": {
      "text/html": [],
      "text/plain": [
       "<IPython.core.display.HTML object>"
      ]
     },
     "metadata": {},
     "output_type": "display_data"
    },
    {
     "data": {
      "text/html": [],
      "text/plain": [
       "<IPython.core.display.HTML object>"
      ]
     },
     "metadata": {},
     "output_type": "display_data"
    },
    {
     "data": {
      "text/html": [],
      "text/plain": [
       "<IPython.core.display.HTML object>"
      ]
     },
     "metadata": {},
     "output_type": "display_data"
    },
    {
     "data": {
      "text/html": [],
      "text/plain": [
       "<IPython.core.display.HTML object>"
      ]
     },
     "metadata": {},
     "output_type": "display_data"
    },
    {
     "data": {
      "text/html": [],
      "text/plain": [
       "<IPython.core.display.HTML object>"
      ]
     },
     "metadata": {},
     "output_type": "display_data"
    },
    {
     "data": {
      "text/html": [],
      "text/plain": [
       "<IPython.core.display.HTML object>"
      ]
     },
     "metadata": {},
     "output_type": "display_data"
    },
    {
     "data": {
      "text/html": [],
      "text/plain": [
       "<IPython.core.display.HTML object>"
      ]
     },
     "metadata": {},
     "output_type": "display_data"
    },
    {
     "data": {
      "text/html": [],
      "text/plain": [
       "<IPython.core.display.HTML object>"
      ]
     },
     "metadata": {},
     "output_type": "display_data"
    },
    {
     "data": {
      "text/html": [],
      "text/plain": [
       "<IPython.core.display.HTML object>"
      ]
     },
     "metadata": {},
     "output_type": "display_data"
    },
    {
     "data": {
      "text/html": [],
      "text/plain": [
       "<IPython.core.display.HTML object>"
      ]
     },
     "metadata": {},
     "output_type": "display_data"
    },
    {
     "data": {
      "text/html": [],
      "text/plain": [
       "<IPython.core.display.HTML object>"
      ]
     },
     "metadata": {},
     "output_type": "display_data"
    },
    {
     "data": {
      "text/html": [],
      "text/plain": [
       "<IPython.core.display.HTML object>"
      ]
     },
     "metadata": {},
     "output_type": "display_data"
    },
    {
     "data": {
      "text/html": [],
      "text/plain": [
       "<IPython.core.display.HTML object>"
      ]
     },
     "metadata": {},
     "output_type": "display_data"
    },
    {
     "name": "stderr",
     "output_type": "stream",
     "text": [
      "127.0.0.1 - - [12/Dec/2021 13:41:46] \"GET / HTTP/1.1\" 200 -\n",
      "127.0.0.1 - - [12/Dec/2021 13:41:46] \"GET /static//data/ancient%20egyptian/ancient%20egyptian10.png HTTP/1.1\" 308 -\n",
      "127.0.0.1 - - [12/Dec/2021 13:41:46] \"GET /static/css/style.css HTTP/1.1\" 200 -\n",
      "127.0.0.1 - - [12/Dec/2021 13:41:47] \"GET /static//data/federal/federal15.png HTTP/1.1\" 308 -\n",
      "127.0.0.1 - - [12/Dec/2021 13:41:47] \"GET /static//data/indoislamic/indoislamic9.png HTTP/1.1\" 308 -\n",
      "127.0.0.1 - - [12/Dec/2021 13:41:47] \"GET /static/pictures/Stars.png HTTP/1.1\" 304 -\n",
      "127.0.0.1 - - [12/Dec/2021 13:41:47] \"GET /static/data/roman/roman9.png HTTP/1.1\" 200 -\n",
      "127.0.0.1 - - [12/Dec/2021 13:41:47] \"GET /static/data/gothic/gothic14.png HTTP/1.1\" 200 -\n",
      "127.0.0.1 - - [12/Dec/2021 13:41:47] \"GET /static/data/tudor/tudor7.png HTTP/1.1\" 200 -\n",
      "127.0.0.1 - - [12/Dec/2021 13:41:47] \"GET /static/data/federal/federal15.png HTTP/1.1\" 200 -\n",
      "127.0.0.1 - - [12/Dec/2021 13:41:47] \"GET /static/data/indoislamic/indoislamic9.png HTTP/1.1\" 200 -\n",
      "127.0.0.1 - - [12/Dec/2021 13:41:47] \"GET /static//data/brutalism/brutalism3.png HTTP/1.1\" 308 -\n",
      "127.0.0.1 - - [12/Dec/2021 13:41:47] \"GET /static//data/cunstructivist/cunstructivist19.png HTTP/1.1\" 308 -\n",
      "127.0.0.1 - - [12/Dec/2021 13:41:47] \"GET /static/data/baroque/baroque0.png HTTP/1.1\" 200 -\n",
      "127.0.0.1 - - [12/Dec/2021 13:41:47] \"GET /static/data/art%20deco/art%20deco19.png HTTP/1.1\" 200 -\n",
      "127.0.0.1 - - [12/Dec/2021 13:41:47] \"GET /static/data/ancient%20egyptian/ancient%20egyptian10.png HTTP/1.1\" 200 -\n",
      "127.0.0.1 - - [12/Dec/2021 13:41:47] \"GET /static/data/expressionist/expressionist15.png HTTP/1.1\" 304 -\n",
      "127.0.0.1 - - [12/Dec/2021 13:41:47] \"GET /static/data/brutalism/brutalism3.png HTTP/1.1\" 200 -\n",
      "127.0.0.1 - - [12/Dec/2021 13:41:47] \"GET /static/data/cunstructivist/cunstructivist19.png HTTP/1.1\" 200 -\n",
      "127.0.0.1 - - [12/Dec/2021 13:41:47] \"GET /static//data/moorisch/moorisch3.png HTTP/1.1\" 308 -\n",
      "127.0.0.1 - - [12/Dec/2021 13:41:47] \"GET /static/data/modern/modern9.png HTTP/1.1\" 304 -\n",
      "127.0.0.1 - - [12/Dec/2021 13:41:48] \"GET /static/data/rococo/rococo9.png HTTP/1.1\" 304 -\n",
      "127.0.0.1 - - [12/Dec/2021 13:41:48] \"GET /static/data/moorisch/moorisch3.png HTTP/1.1\" 200 -\n"
     ]
    },
    {
     "name": "stdout",
     "output_type": "stream",
     "text": [
      "{'sample_class': 'sample_hidden'}\n"
     ]
    },
    {
     "data": {
      "text/html": [],
      "text/plain": [
       "<IPython.core.display.HTML object>"
      ]
     },
     "metadata": {},
     "output_type": "display_data"
    },
    {
     "data": {
      "text/html": [],
      "text/plain": [
       "<IPython.core.display.HTML object>"
      ]
     },
     "metadata": {},
     "output_type": "display_data"
    },
    {
     "data": {
      "text/html": [],
      "text/plain": [
       "<IPython.core.display.HTML object>"
      ]
     },
     "metadata": {},
     "output_type": "display_data"
    },
    {
     "data": {
      "text/html": [],
      "text/plain": [
       "<IPython.core.display.HTML object>"
      ]
     },
     "metadata": {},
     "output_type": "display_data"
    },
    {
     "data": {
      "text/html": [],
      "text/plain": [
       "<IPython.core.display.HTML object>"
      ]
     },
     "metadata": {},
     "output_type": "display_data"
    },
    {
     "data": {
      "text/html": [],
      "text/plain": [
       "<IPython.core.display.HTML object>"
      ]
     },
     "metadata": {},
     "output_type": "display_data"
    },
    {
     "data": {
      "text/html": [],
      "text/plain": [
       "<IPython.core.display.HTML object>"
      ]
     },
     "metadata": {},
     "output_type": "display_data"
    },
    {
     "data": {
      "text/html": [],
      "text/plain": [
       "<IPython.core.display.HTML object>"
      ]
     },
     "metadata": {},
     "output_type": "display_data"
    },
    {
     "data": {
      "text/html": [],
      "text/plain": [
       "<IPython.core.display.HTML object>"
      ]
     },
     "metadata": {},
     "output_type": "display_data"
    },
    {
     "data": {
      "text/html": [],
      "text/plain": [
       "<IPython.core.display.HTML object>"
      ]
     },
     "metadata": {},
     "output_type": "display_data"
    },
    {
     "data": {
      "text/html": [],
      "text/plain": [
       "<IPython.core.display.HTML object>"
      ]
     },
     "metadata": {},
     "output_type": "display_data"
    },
    {
     "data": {
      "text/html": [],
      "text/plain": [
       "<IPython.core.display.HTML object>"
      ]
     },
     "metadata": {},
     "output_type": "display_data"
    },
    {
     "data": {
      "text/html": [],
      "text/plain": [
       "<IPython.core.display.HTML object>"
      ]
     },
     "metadata": {},
     "output_type": "display_data"
    },
    {
     "data": {
      "text/html": [],
      "text/plain": [
       "<IPython.core.display.HTML object>"
      ]
     },
     "metadata": {},
     "output_type": "display_data"
    },
    {
     "name": "stderr",
     "output_type": "stream",
     "text": [
      "127.0.0.1 - - [12/Dec/2021 13:42:15] \"GET / HTTP/1.1\" 200 -\n",
      "127.0.0.1 - - [12/Dec/2021 13:42:15] \"GET /static//data/ancient%20egyptian/ancient%20egyptian19.png HTTP/1.1\" 308 -\n",
      "127.0.0.1 - - [12/Dec/2021 13:42:15] \"GET /static/css/style.css HTTP/1.1\" 200 -\n",
      "127.0.0.1 - - [12/Dec/2021 13:42:15] \"GET /static/pictures/Stars.png HTTP/1.1\" 304 -\n",
      "127.0.0.1 - - [12/Dec/2021 13:42:15] \"GET /static/data/gothic/gothic11.png HTTP/1.1\" 304 -\n",
      "127.0.0.1 - - [12/Dec/2021 13:42:15] \"GET /static/data/tudor/tudor3.png HTTP/1.1\" 304 -\n",
      "127.0.0.1 - - [12/Dec/2021 13:42:15] \"GET /static/data/federal/federal13.png HTTP/1.1\" 304 -\n",
      "127.0.0.1 - - [12/Dec/2021 13:42:16] \"GET /static/data/indoislamic/indoislamic9.png HTTP/1.1\" 304 -\n",
      "127.0.0.1 - - [12/Dec/2021 13:42:16] \"GET /static/data/roman/roman1.png HTTP/1.1\" 200 -\n",
      "127.0.0.1 - - [12/Dec/2021 13:42:16] \"GET /static//data/art%20deco/art%20deco8.png HTTP/1.1\" 308 -\n",
      "127.0.0.1 - - [12/Dec/2021 13:42:16] \"GET /static//data/cunstructivist/cunstructivist11.png HTTP/1.1\" 308 -\n",
      "127.0.0.1 - - [12/Dec/2021 13:42:16] \"GET /static/data/art%20deco/art%20deco8.png HTTP/1.1\" 200 -\n",
      "127.0.0.1 - - [12/Dec/2021 13:42:16] \"GET /static/data/ancient%20egyptian/ancient%20egyptian19.png HTTP/1.1\" 200 -\n",
      "127.0.0.1 - - [12/Dec/2021 13:42:16] \"GET /static/data/baroque/baroque18.png HTTP/1.1\" 304 -\n",
      "127.0.0.1 - - [12/Dec/2021 13:42:16] \"GET /static/data/brutalism/brutalism0.png HTTP/1.1\" 304 -\n",
      "127.0.0.1 - - [12/Dec/2021 13:42:16] \"GET /static/data/expressionist/expressionist15.png HTTP/1.1\" 304 -\n",
      "127.0.0.1 - - [12/Dec/2021 13:42:16] \"GET /static/data/cunstructivist/cunstructivist11.png HTTP/1.1\" 200 -\n",
      "127.0.0.1 - - [12/Dec/2021 13:42:16] \"GET /static//data/modern/modern1.png HTTP/1.1\" 308 -\n",
      "127.0.0.1 - - [12/Dec/2021 13:42:16] \"GET /static//data/moorisch/moorisch12.png HTTP/1.1\" 308 -\n",
      "127.0.0.1 - - [12/Dec/2021 13:42:16] \"GET /static/data/rococo/rococo14.png HTTP/1.1\" 304 -\n",
      "127.0.0.1 - - [12/Dec/2021 13:42:16] \"GET /static/data/modern/modern1.png HTTP/1.1\" 200 -\n",
      "127.0.0.1 - - [12/Dec/2021 13:42:16] \"GET /static/data/moorisch/moorisch12.png HTTP/1.1\" 200 -\n"
     ]
    },
    {
     "name": "stdout",
     "output_type": "stream",
     "text": [
      "{'sample_class': 'sample_hidden'}\n"
     ]
    },
    {
     "data": {
      "text/html": [],
      "text/plain": [
       "<IPython.core.display.HTML object>"
      ]
     },
     "metadata": {},
     "output_type": "display_data"
    },
    {
     "data": {
      "text/html": [],
      "text/plain": [
       "<IPython.core.display.HTML object>"
      ]
     },
     "metadata": {},
     "output_type": "display_data"
    },
    {
     "data": {
      "text/html": [],
      "text/plain": [
       "<IPython.core.display.HTML object>"
      ]
     },
     "metadata": {},
     "output_type": "display_data"
    },
    {
     "data": {
      "text/html": [],
      "text/plain": [
       "<IPython.core.display.HTML object>"
      ]
     },
     "metadata": {},
     "output_type": "display_data"
    },
    {
     "data": {
      "text/html": [],
      "text/plain": [
       "<IPython.core.display.HTML object>"
      ]
     },
     "metadata": {},
     "output_type": "display_data"
    },
    {
     "data": {
      "text/html": [],
      "text/plain": [
       "<IPython.core.display.HTML object>"
      ]
     },
     "metadata": {},
     "output_type": "display_data"
    },
    {
     "data": {
      "text/html": [],
      "text/plain": [
       "<IPython.core.display.HTML object>"
      ]
     },
     "metadata": {},
     "output_type": "display_data"
    },
    {
     "data": {
      "text/html": [],
      "text/plain": [
       "<IPython.core.display.HTML object>"
      ]
     },
     "metadata": {},
     "output_type": "display_data"
    },
    {
     "data": {
      "text/html": [],
      "text/plain": [
       "<IPython.core.display.HTML object>"
      ]
     },
     "metadata": {},
     "output_type": "display_data"
    },
    {
     "data": {
      "text/html": [],
      "text/plain": [
       "<IPython.core.display.HTML object>"
      ]
     },
     "metadata": {},
     "output_type": "display_data"
    },
    {
     "data": {
      "text/html": [],
      "text/plain": [
       "<IPython.core.display.HTML object>"
      ]
     },
     "metadata": {},
     "output_type": "display_data"
    },
    {
     "data": {
      "text/html": [],
      "text/plain": [
       "<IPython.core.display.HTML object>"
      ]
     },
     "metadata": {},
     "output_type": "display_data"
    },
    {
     "data": {
      "text/html": [],
      "text/plain": [
       "<IPython.core.display.HTML object>"
      ]
     },
     "metadata": {},
     "output_type": "display_data"
    },
    {
     "data": {
      "text/html": [],
      "text/plain": [
       "<IPython.core.display.HTML object>"
      ]
     },
     "metadata": {},
     "output_type": "display_data"
    },
    {
     "name": "stderr",
     "output_type": "stream",
     "text": [
      "127.0.0.1 - - [12/Dec/2021 13:44:25] \"GET / HTTP/1.1\" 200 -\n",
      "127.0.0.1 - - [12/Dec/2021 13:44:25] \"GET /static//data/ancient%20egyptian/ancient%20egyptian9.png HTTP/1.1\" 308 -\n",
      "127.0.0.1 - - [12/Dec/2021 13:44:25] \"GET /static/css/style.css HTTP/1.1\" 200 -\n",
      "127.0.0.1 - - [12/Dec/2021 13:44:26] \"GET /static//data/federal/federal19.png HTTP/1.1\" 308 -\n",
      "127.0.0.1 - - [12/Dec/2021 13:44:26] \"GET /static//data/tudor/tudor8.png HTTP/1.1\" 308 -\n",
      "127.0.0.1 - - [12/Dec/2021 13:44:26] \"GET /static/pictures/Stars.png HTTP/1.1\" 304 -\n",
      "127.0.0.1 - - [12/Dec/2021 13:44:26] \"GET /static/data/roman/roman0.png HTTP/1.1\" 304 -\n",
      "127.0.0.1 - - [12/Dec/2021 13:44:26] \"GET /static/data/gothic/gothic15.png HTTP/1.1\" 304 -\n",
      "127.0.0.1 - - [12/Dec/2021 13:44:26] \"GET /static/data/indoislamic/indoislamic9.png HTTP/1.1\" 304 -\n",
      "127.0.0.1 - - [12/Dec/2021 13:44:26] \"GET /static/data/federal/federal19.png HTTP/1.1\" 200 -\n",
      "127.0.0.1 - - [12/Dec/2021 13:44:26] \"GET /static/data/tudor/tudor8.png HTTP/1.1\" 200 -\n",
      "127.0.0.1 - - [12/Dec/2021 13:44:26] \"GET /static//data/baroque/baroque16.png HTTP/1.1\" 308 -\n",
      "127.0.0.1 - - [12/Dec/2021 13:44:26] \"GET /static//data/cunstructivist/cunstructivist15.png HTTP/1.1\" 308 -\n",
      "127.0.0.1 - - [12/Dec/2021 13:44:26] \"GET /static/data/brutalism/brutalism13.png HTTP/1.1\" 304 -\n",
      "127.0.0.1 - - [12/Dec/2021 13:44:26] \"GET /static/data/art%20deco/art%20deco6.png HTTP/1.1\" 200 -\n",
      "127.0.0.1 - - [12/Dec/2021 13:44:26] \"GET /static/data/baroque/baroque16.png HTTP/1.1\" 200 -\n",
      "127.0.0.1 - - [12/Dec/2021 13:44:26] \"GET /static/data/ancient%20egyptian/ancient%20egyptian9.png HTTP/1.1\" 200 -\n",
      "127.0.0.1 - - [12/Dec/2021 13:44:26] \"GET /static//data/expressionist/expressionist17.png HTTP/1.1\" 308 -\n",
      "127.0.0.1 - - [12/Dec/2021 13:44:26] \"GET /static/data/cunstructivist/cunstructivist15.png HTTP/1.1\" 200 -\n",
      "127.0.0.1 - - [12/Dec/2021 13:44:26] \"GET /static//data/moorisch/moorisch7.png HTTP/1.1\" 308 -\n",
      "127.0.0.1 - - [12/Dec/2021 13:44:26] \"GET /static/data/modern/modern11.png HTTP/1.1\" 304 -\n",
      "127.0.0.1 - - [12/Dec/2021 13:44:27] \"GET /static/data/rococo/rococo6.png HTTP/1.1\" 304 -\n",
      "127.0.0.1 - - [12/Dec/2021 13:44:27] \"GET /static/data/expressionist/expressionist17.png HTTP/1.1\" 200 -\n",
      "127.0.0.1 - - [12/Dec/2021 13:44:27] \"GET /static/data/moorisch/moorisch7.png HTTP/1.1\" 200 -\n"
     ]
    },
    {
     "name": "stdout",
     "output_type": "stream",
     "text": [
      "{'sample_class': 'sample_hidden'}\n"
     ]
    },
    {
     "data": {
      "text/html": [],
      "text/plain": [
       "<IPython.core.display.HTML object>"
      ]
     },
     "metadata": {},
     "output_type": "display_data"
    },
    {
     "data": {
      "text/html": [],
      "text/plain": [
       "<IPython.core.display.HTML object>"
      ]
     },
     "metadata": {},
     "output_type": "display_data"
    },
    {
     "data": {
      "text/html": [],
      "text/plain": [
       "<IPython.core.display.HTML object>"
      ]
     },
     "metadata": {},
     "output_type": "display_data"
    },
    {
     "data": {
      "text/html": [],
      "text/plain": [
       "<IPython.core.display.HTML object>"
      ]
     },
     "metadata": {},
     "output_type": "display_data"
    },
    {
     "data": {
      "text/html": [],
      "text/plain": [
       "<IPython.core.display.HTML object>"
      ]
     },
     "metadata": {},
     "output_type": "display_data"
    },
    {
     "data": {
      "text/html": [],
      "text/plain": [
       "<IPython.core.display.HTML object>"
      ]
     },
     "metadata": {},
     "output_type": "display_data"
    },
    {
     "data": {
      "text/html": [],
      "text/plain": [
       "<IPython.core.display.HTML object>"
      ]
     },
     "metadata": {},
     "output_type": "display_data"
    },
    {
     "data": {
      "text/html": [],
      "text/plain": [
       "<IPython.core.display.HTML object>"
      ]
     },
     "metadata": {},
     "output_type": "display_data"
    },
    {
     "data": {
      "text/html": [],
      "text/plain": [
       "<IPython.core.display.HTML object>"
      ]
     },
     "metadata": {},
     "output_type": "display_data"
    },
    {
     "data": {
      "text/html": [],
      "text/plain": [
       "<IPython.core.display.HTML object>"
      ]
     },
     "metadata": {},
     "output_type": "display_data"
    },
    {
     "data": {
      "text/html": [],
      "text/plain": [
       "<IPython.core.display.HTML object>"
      ]
     },
     "metadata": {},
     "output_type": "display_data"
    },
    {
     "data": {
      "text/html": [],
      "text/plain": [
       "<IPython.core.display.HTML object>"
      ]
     },
     "metadata": {},
     "output_type": "display_data"
    },
    {
     "data": {
      "text/html": [],
      "text/plain": [
       "<IPython.core.display.HTML object>"
      ]
     },
     "metadata": {},
     "output_type": "display_data"
    },
    {
     "data": {
      "text/html": [],
      "text/plain": [
       "<IPython.core.display.HTML object>"
      ]
     },
     "metadata": {},
     "output_type": "display_data"
    },
    {
     "name": "stderr",
     "output_type": "stream",
     "text": [
      "127.0.0.1 - - [12/Dec/2021 13:44:48] \"GET / HTTP/1.1\" 200 -\n",
      "127.0.0.1 - - [12/Dec/2021 13:44:48] \"GET /static//data/art%20deco/art%20deco9.png HTTP/1.1\" 308 -\n",
      "127.0.0.1 - - [12/Dec/2021 13:44:48] \"GET /static/css/style.css HTTP/1.1\" 200 -\n",
      "127.0.0.1 - - [12/Dec/2021 13:44:48] \"GET /static/pictures/Stars.png HTTP/1.1\" 304 -\n",
      "127.0.0.1 - - [12/Dec/2021 13:44:48] \"GET /static/data/indoislamic/indoislamic14.png HTTP/1.1\" 304 -\n",
      "127.0.0.1 - - [12/Dec/2021 13:44:48] \"GET /static/data/gothic/gothic9.png HTTP/1.1\" 304 -\n",
      "127.0.0.1 - - [12/Dec/2021 13:44:48] \"GET /static/data/roman/roman19.png HTTP/1.1\" 200 -\n",
      "127.0.0.1 - - [12/Dec/2021 13:44:48] \"GET /static/data/federal/federal3.png HTTP/1.1\" 304 -\n",
      "127.0.0.1 - - [12/Dec/2021 13:44:48] \"GET /static/data/tudor/tudor0.png HTTP/1.1\" 304 -\n",
      "127.0.0.1 - - [12/Dec/2021 13:44:48] \"GET /static//data/brutalism/brutalism12.png HTTP/1.1\" 308 -\n",
      "127.0.0.1 - - [12/Dec/2021 13:44:48] \"GET /static/data/ancient%20egyptian/ancient%20egyptian0.png HTTP/1.1\" 304 -\n",
      "127.0.0.1 - - [12/Dec/2021 13:44:48] \"GET /static/data/baroque/baroque11.png HTTP/1.1\" 304 -\n",
      "127.0.0.1 - - [12/Dec/2021 13:44:48] \"GET /static/data/cunstructivist/cunstructivist18.png HTTP/1.1\" 304 -\n",
      "127.0.0.1 - - [12/Dec/2021 13:44:48] \"GET /static/data/art%20deco/art%20deco9.png HTTP/1.1\" 200 -\n",
      "127.0.0.1 - - [12/Dec/2021 13:44:48] \"GET /static//data/expressionist/expressionist14.png HTTP/1.1\" 308 -\n",
      "127.0.0.1 - - [12/Dec/2021 13:44:49] \"GET /static/data/brutalism/brutalism12.png HTTP/1.1\" 200 -\n",
      "127.0.0.1 - - [12/Dec/2021 13:44:49] \"GET /static//data/modern/modern7.png HTTP/1.1\" 308 -\n",
      "127.0.0.1 - - [12/Dec/2021 13:44:49] \"GET /static/data/moorisch/moorisch9.png HTTP/1.1\" 304 -\n",
      "127.0.0.1 - - [12/Dec/2021 13:44:49] \"GET /static/data/rococo/rococo17.png HTTP/1.1\" 304 -\n",
      "127.0.0.1 - - [12/Dec/2021 13:44:49] \"GET /static/data/expressionist/expressionist14.png HTTP/1.1\" 200 -\n",
      "127.0.0.1 - - [12/Dec/2021 13:44:49] \"GET /static/data/modern/modern7.png HTTP/1.1\" 200 -\n",
      "127.0.0.1 - - [12/Dec/2021 13:45:18] \"GET /static/css/style.css HTTP/1.1\" 304 -\n"
     ]
    },
    {
     "name": "stdout",
     "output_type": "stream",
     "text": [
      "{'sample_class': 'sample_hidden'}\n"
     ]
    },
    {
     "data": {
      "text/html": [],
      "text/plain": [
       "<IPython.core.display.HTML object>"
      ]
     },
     "metadata": {},
     "output_type": "display_data"
    },
    {
     "data": {
      "text/html": [],
      "text/plain": [
       "<IPython.core.display.HTML object>"
      ]
     },
     "metadata": {},
     "output_type": "display_data"
    },
    {
     "data": {
      "text/html": [],
      "text/plain": [
       "<IPython.core.display.HTML object>"
      ]
     },
     "metadata": {},
     "output_type": "display_data"
    },
    {
     "data": {
      "text/html": [],
      "text/plain": [
       "<IPython.core.display.HTML object>"
      ]
     },
     "metadata": {},
     "output_type": "display_data"
    },
    {
     "data": {
      "text/html": [],
      "text/plain": [
       "<IPython.core.display.HTML object>"
      ]
     },
     "metadata": {},
     "output_type": "display_data"
    },
    {
     "data": {
      "text/html": [],
      "text/plain": [
       "<IPython.core.display.HTML object>"
      ]
     },
     "metadata": {},
     "output_type": "display_data"
    },
    {
     "data": {
      "text/html": [],
      "text/plain": [
       "<IPython.core.display.HTML object>"
      ]
     },
     "metadata": {},
     "output_type": "display_data"
    },
    {
     "data": {
      "text/html": [],
      "text/plain": [
       "<IPython.core.display.HTML object>"
      ]
     },
     "metadata": {},
     "output_type": "display_data"
    },
    {
     "data": {
      "text/html": [],
      "text/plain": [
       "<IPython.core.display.HTML object>"
      ]
     },
     "metadata": {},
     "output_type": "display_data"
    },
    {
     "data": {
      "text/html": [],
      "text/plain": [
       "<IPython.core.display.HTML object>"
      ]
     },
     "metadata": {},
     "output_type": "display_data"
    },
    {
     "data": {
      "text/html": [],
      "text/plain": [
       "<IPython.core.display.HTML object>"
      ]
     },
     "metadata": {},
     "output_type": "display_data"
    },
    {
     "data": {
      "text/html": [],
      "text/plain": [
       "<IPython.core.display.HTML object>"
      ]
     },
     "metadata": {},
     "output_type": "display_data"
    },
    {
     "data": {
      "text/html": [],
      "text/plain": [
       "<IPython.core.display.HTML object>"
      ]
     },
     "metadata": {},
     "output_type": "display_data"
    },
    {
     "data": {
      "text/html": [],
      "text/plain": [
       "<IPython.core.display.HTML object>"
      ]
     },
     "metadata": {},
     "output_type": "display_data"
    },
    {
     "name": "stderr",
     "output_type": "stream",
     "text": [
      "127.0.0.1 - - [12/Dec/2021 13:46:16] \"GET / HTTP/1.1\" 200 -\n",
      "127.0.0.1 - - [12/Dec/2021 13:46:16] \"GET /static//data/ancient%20egyptian/ancient%20egyptian1.png HTTP/1.1\" 308 -\n",
      "127.0.0.1 - - [12/Dec/2021 13:46:16] \"GET /static/css/style.css HTTP/1.1\" 200 -\n",
      "127.0.0.1 - - [12/Dec/2021 13:46:16] \"GET /static//data/moorisch/moorisch1.png HTTP/1.1\" 308 -\n",
      "127.0.0.1 - - [12/Dec/2021 13:46:16] \"GET /static/data/rococo/rococo18.png HTTP/1.1\" 304 -\n",
      "127.0.0.1 - - [12/Dec/2021 13:46:16] \"GET /static/data/modern/modern2.png HTTP/1.1\" 304 -\n",
      "127.0.0.1 - - [12/Dec/2021 13:46:16] \"GET /static/data/expressionist/expressionist8.png HTTP/1.1\" 304 -\n",
      "127.0.0.1 - - [12/Dec/2021 13:46:16] \"GET /static/data/federal/federal19.png HTTP/1.1\" 304 -\n",
      "127.0.0.1 - - [12/Dec/2021 13:46:16] \"GET /static/data/roman/roman16.png HTTP/1.1\" 304 -\n",
      "127.0.0.1 - - [12/Dec/2021 13:46:16] \"GET /static/data/indoislamic/indoislamic14.png HTTP/1.1\" 304 -\n",
      "127.0.0.1 - - [12/Dec/2021 13:46:16] \"GET /static/data/gothic/gothic19.png HTTP/1.1\" 304 -\n",
      "127.0.0.1 - - [12/Dec/2021 13:46:16] \"GET /static//data/tudor/tudor5.png HTTP/1.1\" 308 -\n",
      "127.0.0.1 - - [12/Dec/2021 13:46:16] \"GET /static/pictures/Stars.png HTTP/1.1\" 304 -\n",
      "127.0.0.1 - - [12/Dec/2021 13:46:16] \"GET /static/data/moorisch/moorisch1.png HTTP/1.1\" 200 -\n",
      "127.0.0.1 - - [12/Dec/2021 13:46:17] \"GET /static/data/tudor/tudor5.png HTTP/1.1\" 200 -\n",
      "127.0.0.1 - - [12/Dec/2021 13:46:17] \"GET /static//data/brutalism/brutalism18.png HTTP/1.1\" 308 -\n",
      "127.0.0.1 - - [12/Dec/2021 13:46:17] \"GET /static/data/baroque/baroque15.png HTTP/1.1\" 304 -\n",
      "127.0.0.1 - - [12/Dec/2021 13:46:17] \"GET /static/data/brutalism/brutalism18.png HTTP/1.1\" 200 -\n",
      "127.0.0.1 - - [12/Dec/2021 13:46:17] \"GET /static/data/cunstructivist/cunstructivist7.png HTTP/1.1\" 304 -\n",
      "127.0.0.1 - - [12/Dec/2021 13:46:17] \"GET /static/data/art%20deco/art%20deco17.png HTTP/1.1\" 200 -\n",
      "127.0.0.1 - - [12/Dec/2021 13:46:17] \"GET /static/data/ancient%20egyptian/ancient%20egyptian1.png HTTP/1.1\" 200 -\n"
     ]
    },
    {
     "name": "stdout",
     "output_type": "stream",
     "text": [
      "{'sample_class': 'sample_hidden'}\n"
     ]
    },
    {
     "data": {
      "text/html": [],
      "text/plain": [
       "<IPython.core.display.HTML object>"
      ]
     },
     "metadata": {},
     "output_type": "display_data"
    },
    {
     "data": {
      "text/html": [],
      "text/plain": [
       "<IPython.core.display.HTML object>"
      ]
     },
     "metadata": {},
     "output_type": "display_data"
    },
    {
     "data": {
      "text/html": [],
      "text/plain": [
       "<IPython.core.display.HTML object>"
      ]
     },
     "metadata": {},
     "output_type": "display_data"
    },
    {
     "data": {
      "text/html": [],
      "text/plain": [
       "<IPython.core.display.HTML object>"
      ]
     },
     "metadata": {},
     "output_type": "display_data"
    },
    {
     "data": {
      "text/html": [],
      "text/plain": [
       "<IPython.core.display.HTML object>"
      ]
     },
     "metadata": {},
     "output_type": "display_data"
    },
    {
     "data": {
      "text/html": [],
      "text/plain": [
       "<IPython.core.display.HTML object>"
      ]
     },
     "metadata": {},
     "output_type": "display_data"
    },
    {
     "data": {
      "text/html": [],
      "text/plain": [
       "<IPython.core.display.HTML object>"
      ]
     },
     "metadata": {},
     "output_type": "display_data"
    },
    {
     "data": {
      "text/html": [],
      "text/plain": [
       "<IPython.core.display.HTML object>"
      ]
     },
     "metadata": {},
     "output_type": "display_data"
    },
    {
     "data": {
      "text/html": [],
      "text/plain": [
       "<IPython.core.display.HTML object>"
      ]
     },
     "metadata": {},
     "output_type": "display_data"
    },
    {
     "data": {
      "text/html": [],
      "text/plain": [
       "<IPython.core.display.HTML object>"
      ]
     },
     "metadata": {},
     "output_type": "display_data"
    },
    {
     "data": {
      "text/html": [],
      "text/plain": [
       "<IPython.core.display.HTML object>"
      ]
     },
     "metadata": {},
     "output_type": "display_data"
    },
    {
     "data": {
      "text/html": [],
      "text/plain": [
       "<IPython.core.display.HTML object>"
      ]
     },
     "metadata": {},
     "output_type": "display_data"
    },
    {
     "data": {
      "text/html": [],
      "text/plain": [
       "<IPython.core.display.HTML object>"
      ]
     },
     "metadata": {},
     "output_type": "display_data"
    },
    {
     "data": {
      "text/html": [],
      "text/plain": [
       "<IPython.core.display.HTML object>"
      ]
     },
     "metadata": {},
     "output_type": "display_data"
    },
    {
     "name": "stderr",
     "output_type": "stream",
     "text": [
      "127.0.0.1 - - [12/Dec/2021 13:46:36] \"GET / HTTP/1.1\" 200 -\n",
      "127.0.0.1 - - [12/Dec/2021 13:46:36] \"GET /static//data/art%20deco/art%20deco18.png HTTP/1.1\" 308 -\n",
      "127.0.0.1 - - [12/Dec/2021 13:46:36] \"GET /static/css/style.css HTTP/1.1\" 200 -\n",
      "127.0.0.1 - - [12/Dec/2021 13:46:36] \"GET /static//data/modern/modern3.png HTTP/1.1\" 308 -\n",
      "127.0.0.1 - - [12/Dec/2021 13:46:36] \"GET /static//data/moorisch/moorisch6.png HTTP/1.1\" 308 -\n",
      "127.0.0.1 - - [12/Dec/2021 13:46:36] \"GET /static/data/roman/roman19.png HTTP/1.1\" 304 -\n",
      "127.0.0.1 - - [12/Dec/2021 13:46:36] \"GET /static/pictures/Stars.png HTTP/1.1\" 304 -\n",
      "127.0.0.1 - - [12/Dec/2021 13:46:36] \"GET /static/data/gothic/gothic2.png HTTP/1.1\" 304 -\n",
      "127.0.0.1 - - [12/Dec/2021 13:46:36] \"GET /static/data/tudor/tudor16.png HTTP/1.1\" 200 -\n",
      "127.0.0.1 - - [12/Dec/2021 13:46:37] \"GET /static/data/federal/federal15.png HTTP/1.1\" 304 -\n",
      "127.0.0.1 - - [12/Dec/2021 13:46:37] \"GET /static/data/modern/modern3.png HTTP/1.1\" 200 -\n",
      "127.0.0.1 - - [12/Dec/2021 13:46:37] \"GET /static/data/moorisch/moorisch6.png HTTP/1.1\" 200 -\n",
      "127.0.0.1 - - [12/Dec/2021 13:46:37] \"GET /static//data/brutalism/brutalism16.png HTTP/1.1\" 308 -\n",
      "127.0.0.1 - - [12/Dec/2021 13:46:37] \"GET /static/data/ancient%20egyptian/ancient%20egyptian19.png HTTP/1.1\" 304 -\n",
      "127.0.0.1 - - [12/Dec/2021 13:46:37] \"GET /static/data/baroque/baroque4.png HTTP/1.1\" 304 -\n",
      "127.0.0.1 - - [12/Dec/2021 13:46:37] \"GET /static/data/brutalism/brutalism16.png HTTP/1.1\" 200 -\n",
      "127.0.0.1 - - [12/Dec/2021 13:46:37] \"GET /static/data/cunstructivist/cunstructivist18.png HTTP/1.1\" 304 -\n",
      "127.0.0.1 - - [12/Dec/2021 13:46:37] \"GET /static/data/art%20deco/art%20deco18.png HTTP/1.1\" 200 -\n",
      "127.0.0.1 - - [12/Dec/2021 13:46:37] \"GET /static/data/expressionist/expressionist2.png HTTP/1.1\" 304 -\n",
      "127.0.0.1 - - [12/Dec/2021 13:46:37] \"GET /static//data/indoislamic/indoislamic1.png HTTP/1.1\" 308 -\n",
      "127.0.0.1 - - [12/Dec/2021 13:46:37] \"GET /static/data/rococo/rococo6.png HTTP/1.1\" 304 -\n",
      "127.0.0.1 - - [12/Dec/2021 13:46:37] \"GET /static/data/indoislamic/indoislamic1.png HTTP/1.1\" 200 -\n"
     ]
    },
    {
     "name": "stdout",
     "output_type": "stream",
     "text": [
      "{'sample_class': 'sample_hidden'}\n"
     ]
    },
    {
     "data": {
      "text/html": [],
      "text/plain": [
       "<IPython.core.display.HTML object>"
      ]
     },
     "metadata": {},
     "output_type": "display_data"
    },
    {
     "data": {
      "text/html": [],
      "text/plain": [
       "<IPython.core.display.HTML object>"
      ]
     },
     "metadata": {},
     "output_type": "display_data"
    },
    {
     "data": {
      "text/html": [],
      "text/plain": [
       "<IPython.core.display.HTML object>"
      ]
     },
     "metadata": {},
     "output_type": "display_data"
    },
    {
     "data": {
      "text/html": [],
      "text/plain": [
       "<IPython.core.display.HTML object>"
      ]
     },
     "metadata": {},
     "output_type": "display_data"
    },
    {
     "data": {
      "text/html": [],
      "text/plain": [
       "<IPython.core.display.HTML object>"
      ]
     },
     "metadata": {},
     "output_type": "display_data"
    },
    {
     "data": {
      "text/html": [],
      "text/plain": [
       "<IPython.core.display.HTML object>"
      ]
     },
     "metadata": {},
     "output_type": "display_data"
    },
    {
     "data": {
      "text/html": [],
      "text/plain": [
       "<IPython.core.display.HTML object>"
      ]
     },
     "metadata": {},
     "output_type": "display_data"
    },
    {
     "data": {
      "text/html": [],
      "text/plain": [
       "<IPython.core.display.HTML object>"
      ]
     },
     "metadata": {},
     "output_type": "display_data"
    },
    {
     "data": {
      "text/html": [],
      "text/plain": [
       "<IPython.core.display.HTML object>"
      ]
     },
     "metadata": {},
     "output_type": "display_data"
    },
    {
     "data": {
      "text/html": [],
      "text/plain": [
       "<IPython.core.display.HTML object>"
      ]
     },
     "metadata": {},
     "output_type": "display_data"
    },
    {
     "data": {
      "text/html": [],
      "text/plain": [
       "<IPython.core.display.HTML object>"
      ]
     },
     "metadata": {},
     "output_type": "display_data"
    },
    {
     "data": {
      "text/html": [],
      "text/plain": [
       "<IPython.core.display.HTML object>"
      ]
     },
     "metadata": {},
     "output_type": "display_data"
    },
    {
     "data": {
      "text/html": [],
      "text/plain": [
       "<IPython.core.display.HTML object>"
      ]
     },
     "metadata": {},
     "output_type": "display_data"
    },
    {
     "data": {
      "text/html": [],
      "text/plain": [
       "<IPython.core.display.HTML object>"
      ]
     },
     "metadata": {},
     "output_type": "display_data"
    },
    {
     "name": "stderr",
     "output_type": "stream",
     "text": [
      "127.0.0.1 - - [12/Dec/2021 13:47:48] \"GET / HTTP/1.1\" 200 -\n",
      "127.0.0.1 - - [12/Dec/2021 13:47:48] \"GET /static//data/brutalism/brutalism6.png HTTP/1.1\" 308 -\n",
      "127.0.0.1 - - [12/Dec/2021 13:47:48] \"GET /static/css/style.css HTTP/1.1\" 200 -\n",
      "127.0.0.1 - - [12/Dec/2021 13:47:48] \"GET /static//data/federal/federal18.png HTTP/1.1\" 308 -\n",
      "127.0.0.1 - - [12/Dec/2021 13:47:48] \"GET /static//data/indoislamic/indoislamic10.png HTTP/1.1\" 308 -\n",
      "127.0.0.1 - - [12/Dec/2021 13:47:48] \"GET /static//data/modern/modern4.png HTTP/1.1\" 308 -\n",
      "127.0.0.1 - - [12/Dec/2021 13:47:48] \"GET /static/data/ancient%20egyptian/ancient%20egyptian6.png HTTP/1.1\" 304 -\n",
      "127.0.0.1 - - [12/Dec/2021 13:47:48] \"GET /static/data/art%20deco/art%20deco12.png HTTP/1.1\" 304 -\n",
      "127.0.0.1 - - [12/Dec/2021 13:47:48] \"GET /static/data/baroque/baroque8.png HTTP/1.1\" 200 -\n",
      "127.0.0.1 - - [12/Dec/2021 13:47:49] \"GET /static/data/cunstructivist/cunstructivist13.png HTTP/1.1\" 304 -\n",
      "127.0.0.1 - - [12/Dec/2021 13:47:49] \"GET /static/data/moorisch/moorisch6.png HTTP/1.1\" 304 -\n",
      "127.0.0.1 - - [12/Dec/2021 13:47:49] \"GET /static/data/rococo/rococo17.png HTTP/1.1\" 304 -\n",
      "127.0.0.1 - - [12/Dec/2021 13:47:49] \"GET /static/data/gothic/gothic17.png HTTP/1.1\" 304 -\n",
      "127.0.0.1 - - [12/Dec/2021 13:47:49] \"GET /static/data/expressionist/expressionist2.png HTTP/1.1\" 304 -\n",
      "127.0.0.1 - - [12/Dec/2021 13:47:49] \"GET /static/data/roman/roman6.png HTTP/1.1\" 304 -\n",
      "127.0.0.1 - - [12/Dec/2021 13:47:49] \"GET /static/data/brutalism/brutalism6.png HTTP/1.1\" 200 -\n",
      "127.0.0.1 - - [12/Dec/2021 13:47:49] \"GET /static/pictures/Stars.png HTTP/1.1\" 304 -\n",
      "127.0.0.1 - - [12/Dec/2021 13:47:49] \"GET /static/data/tudor/tudor3.png HTTP/1.1\" 304 -\n",
      "127.0.0.1 - - [12/Dec/2021 13:47:49] \"GET /static/data/federal/federal18.png HTTP/1.1\" 200 -\n",
      "127.0.0.1 - - [12/Dec/2021 13:47:49] \"GET /static/data/indoislamic/indoislamic10.png HTTP/1.1\" 200 -\n",
      "127.0.0.1 - - [12/Dec/2021 13:47:49] \"GET /static/data/modern/modern4.png HTTP/1.1\" 200 -\n"
     ]
    },
    {
     "name": "stdout",
     "output_type": "stream",
     "text": [
      "{'sample_class': 'sample_hidden'}\n"
     ]
    },
    {
     "data": {
      "text/html": [],
      "text/plain": [
       "<IPython.core.display.HTML object>"
      ]
     },
     "metadata": {},
     "output_type": "display_data"
    },
    {
     "data": {
      "text/html": [],
      "text/plain": [
       "<IPython.core.display.HTML object>"
      ]
     },
     "metadata": {},
     "output_type": "display_data"
    },
    {
     "data": {
      "text/html": [],
      "text/plain": [
       "<IPython.core.display.HTML object>"
      ]
     },
     "metadata": {},
     "output_type": "display_data"
    },
    {
     "data": {
      "text/html": [],
      "text/plain": [
       "<IPython.core.display.HTML object>"
      ]
     },
     "metadata": {},
     "output_type": "display_data"
    },
    {
     "data": {
      "text/html": [],
      "text/plain": [
       "<IPython.core.display.HTML object>"
      ]
     },
     "metadata": {},
     "output_type": "display_data"
    },
    {
     "data": {
      "text/html": [],
      "text/plain": [
       "<IPython.core.display.HTML object>"
      ]
     },
     "metadata": {},
     "output_type": "display_data"
    },
    {
     "data": {
      "text/html": [],
      "text/plain": [
       "<IPython.core.display.HTML object>"
      ]
     },
     "metadata": {},
     "output_type": "display_data"
    },
    {
     "data": {
      "text/html": [],
      "text/plain": [
       "<IPython.core.display.HTML object>"
      ]
     },
     "metadata": {},
     "output_type": "display_data"
    },
    {
     "data": {
      "text/html": [],
      "text/plain": [
       "<IPython.core.display.HTML object>"
      ]
     },
     "metadata": {},
     "output_type": "display_data"
    },
    {
     "data": {
      "text/html": [],
      "text/plain": [
       "<IPython.core.display.HTML object>"
      ]
     },
     "metadata": {},
     "output_type": "display_data"
    },
    {
     "data": {
      "text/html": [],
      "text/plain": [
       "<IPython.core.display.HTML object>"
      ]
     },
     "metadata": {},
     "output_type": "display_data"
    },
    {
     "data": {
      "text/html": [],
      "text/plain": [
       "<IPython.core.display.HTML object>"
      ]
     },
     "metadata": {},
     "output_type": "display_data"
    },
    {
     "data": {
      "text/html": [],
      "text/plain": [
       "<IPython.core.display.HTML object>"
      ]
     },
     "metadata": {},
     "output_type": "display_data"
    },
    {
     "data": {
      "text/html": [],
      "text/plain": [
       "<IPython.core.display.HTML object>"
      ]
     },
     "metadata": {},
     "output_type": "display_data"
    },
    {
     "name": "stderr",
     "output_type": "stream",
     "text": [
      "127.0.0.1 - - [12/Dec/2021 13:48:38] \"GET / HTTP/1.1\" 200 -\n",
      "127.0.0.1 - - [12/Dec/2021 13:48:38] \"GET /static//data/brutalism/brutalism19.png HTTP/1.1\" 308 -\n",
      "127.0.0.1 - - [12/Dec/2021 13:48:38] \"GET /static/css/style.css HTTP/1.1\" 200 -\n",
      "127.0.0.1 - - [12/Dec/2021 13:48:39] \"GET /static//data/moorisch/moorisch11.png HTTP/1.1\" 308 -\n",
      "127.0.0.1 - - [12/Dec/2021 13:48:39] \"GET /static/pictures/Stars.png HTTP/1.1\" 304 -\n",
      "127.0.0.1 - - [12/Dec/2021 13:48:39] \"GET /static/data/modern/modern10.png HTTP/1.1\" 304 -\n",
      "127.0.0.1 - - [12/Dec/2021 13:48:39] \"GET /static/data/gothic/gothic0.png HTTP/1.1\" 304 -\n",
      "127.0.0.1 - - [12/Dec/2021 13:48:39] \"GET /static/data/tudor/tudor7.png HTTP/1.1\" 304 -\n",
      "127.0.0.1 - - [12/Dec/2021 13:48:39] \"GET /static/data/federal/federal13.png HTTP/1.1\" 304 -\n",
      "127.0.0.1 - - [12/Dec/2021 13:48:39] \"GET /static/data/roman/roman14.png HTTP/1.1\" 200 -\n",
      "127.0.0.1 - - [12/Dec/2021 13:48:39] \"GET /static/data/moorisch/moorisch11.png HTTP/1.1\" 200 -\n",
      "127.0.0.1 - - [12/Dec/2021 13:48:39] \"GET /static//data/cunstructivist/cunstructivist0.png HTTP/1.1\" 308 -\n",
      "127.0.0.1 - - [12/Dec/2021 13:48:39] \"GET /static/data/ancient%20egyptian/ancient%20egyptian5.png HTTP/1.1\" 304 -\n",
      "127.0.0.1 - - [12/Dec/2021 13:48:39] \"GET /static/data/cunstructivist/cunstructivist0.png HTTP/1.1\" 200 -\n",
      "127.0.0.1 - - [12/Dec/2021 13:48:39] \"GET /static/data/art%20deco/art%20deco15.png HTTP/1.1\" 304 -\n",
      "127.0.0.1 - - [12/Dec/2021 13:48:39] \"GET /static/data/baroque/baroque2.png HTTP/1.1\" 200 -\n",
      "127.0.0.1 - - [12/Dec/2021 13:48:39] \"GET /static/data/brutalism/brutalism19.png HTTP/1.1\" 200 -\n",
      "127.0.0.1 - - [12/Dec/2021 13:48:39] \"GET /static/data/expressionist/expressionist14.png HTTP/1.1\" 304 -\n",
      "127.0.0.1 - - [12/Dec/2021 13:48:39] \"GET /static/data/indoislamic/indoislamic13.png HTTP/1.1\" 304 -\n",
      "127.0.0.1 - - [12/Dec/2021 13:48:39] \"GET /static/data/rococo/rococo17.png HTTP/1.1\" 304 -\n"
     ]
    },
    {
     "name": "stdout",
     "output_type": "stream",
     "text": [
      "{'sample_class': 'sample_hidden'}\n"
     ]
    },
    {
     "data": {
      "text/html": [],
      "text/plain": [
       "<IPython.core.display.HTML object>"
      ]
     },
     "metadata": {},
     "output_type": "display_data"
    },
    {
     "data": {
      "text/html": [],
      "text/plain": [
       "<IPython.core.display.HTML object>"
      ]
     },
     "metadata": {},
     "output_type": "display_data"
    },
    {
     "data": {
      "text/html": [],
      "text/plain": [
       "<IPython.core.display.HTML object>"
      ]
     },
     "metadata": {},
     "output_type": "display_data"
    },
    {
     "data": {
      "text/html": [],
      "text/plain": [
       "<IPython.core.display.HTML object>"
      ]
     },
     "metadata": {},
     "output_type": "display_data"
    },
    {
     "data": {
      "text/html": [],
      "text/plain": [
       "<IPython.core.display.HTML object>"
      ]
     },
     "metadata": {},
     "output_type": "display_data"
    },
    {
     "data": {
      "text/html": [],
      "text/plain": [
       "<IPython.core.display.HTML object>"
      ]
     },
     "metadata": {},
     "output_type": "display_data"
    },
    {
     "data": {
      "text/html": [],
      "text/plain": [
       "<IPython.core.display.HTML object>"
      ]
     },
     "metadata": {},
     "output_type": "display_data"
    },
    {
     "data": {
      "text/html": [],
      "text/plain": [
       "<IPython.core.display.HTML object>"
      ]
     },
     "metadata": {},
     "output_type": "display_data"
    },
    {
     "data": {
      "text/html": [],
      "text/plain": [
       "<IPython.core.display.HTML object>"
      ]
     },
     "metadata": {},
     "output_type": "display_data"
    },
    {
     "data": {
      "text/html": [],
      "text/plain": [
       "<IPython.core.display.HTML object>"
      ]
     },
     "metadata": {},
     "output_type": "display_data"
    },
    {
     "data": {
      "text/html": [],
      "text/plain": [
       "<IPython.core.display.HTML object>"
      ]
     },
     "metadata": {},
     "output_type": "display_data"
    },
    {
     "data": {
      "text/html": [],
      "text/plain": [
       "<IPython.core.display.HTML object>"
      ]
     },
     "metadata": {},
     "output_type": "display_data"
    },
    {
     "data": {
      "text/html": [],
      "text/plain": [
       "<IPython.core.display.HTML object>"
      ]
     },
     "metadata": {},
     "output_type": "display_data"
    },
    {
     "data": {
      "text/html": [],
      "text/plain": [
       "<IPython.core.display.HTML object>"
      ]
     },
     "metadata": {},
     "output_type": "display_data"
    },
    {
     "name": "stderr",
     "output_type": "stream",
     "text": [
      "127.0.0.1 - - [12/Dec/2021 13:50:30] \"GET / HTTP/1.1\" 200 -\n",
      "127.0.0.1 - - [12/Dec/2021 13:50:30] \"GET /static/css/style.css HTTP/1.1\" 200 -\n",
      "127.0.0.1 - - [12/Dec/2021 13:50:30] \"GET /static//data/cunstructivist/cunstructivist6.png HTTP/1.1\" 308 -\n",
      "127.0.0.1 - - [12/Dec/2021 13:50:30] \"GET /static//data/federal/federal2.png HTTP/1.1\" 308 -\n",
      "127.0.0.1 - - [12/Dec/2021 13:50:30] \"GET /static/pictures/Stars.png HTTP/1.1\" 304 -\n",
      "127.0.0.1 - - [12/Dec/2021 13:50:30] \"GET /static/data/modern/modern15.png HTTP/1.1\" 304 -\n",
      "127.0.0.1 - - [12/Dec/2021 13:50:30] \"GET /static/data/cunstructivist/cunstructivist6.png HTTP/1.1\" 200 -\n",
      "127.0.0.1 - - [12/Dec/2021 13:50:30] \"GET /static/data/roman/roman7.png HTTP/1.1\" 200 -\n",
      "127.0.0.1 - - [12/Dec/2021 13:50:30] \"GET /static/data/moorisch/moorisch13.png HTTP/1.1\" 304 -\n",
      "127.0.0.1 - - [12/Dec/2021 13:50:31] \"GET /static/data/gothic/gothic19.png HTTP/1.1\" 304 -\n",
      "127.0.0.1 - - [12/Dec/2021 13:50:31] \"GET /static/data/tudor/tudor5.png HTTP/1.1\" 304 -\n",
      "127.0.0.1 - - [12/Dec/2021 13:50:31] \"GET /static/data/federal/federal2.png HTTP/1.1\" 200 -\n",
      "127.0.0.1 - - [12/Dec/2021 13:50:31] \"GET /static/data/ancient%20egyptian/ancient%20egyptian17.png HTTP/1.1\" 304 -\n",
      "127.0.0.1 - - [12/Dec/2021 13:50:31] \"GET /static/data/art%20deco/art%20deco0.png HTTP/1.1\" 200 -\n",
      "127.0.0.1 - - [12/Dec/2021 13:50:31] \"GET /static/data/baroque/baroque6.png HTTP/1.1\" 200 -\n",
      "127.0.0.1 - - [12/Dec/2021 13:50:31] \"GET /static/data/brutalism/brutalism12.png HTTP/1.1\" 304 -\n",
      "127.0.0.1 - - [12/Dec/2021 13:50:31] \"GET /static/data/expressionist/expressionist12.png HTTP/1.1\" 304 -\n",
      "127.0.0.1 - - [12/Dec/2021 13:50:31] \"GET /static/data/indoislamic/indoislamic5.png HTTP/1.1\" 304 -\n",
      "127.0.0.1 - - [12/Dec/2021 13:50:31] \"GET /static/data/rococo/rococo9.png HTTP/1.1\" 304 -\n"
     ]
    },
    {
     "name": "stdout",
     "output_type": "stream",
     "text": [
      "{'sample_class': 'sample_hidden'}\n"
     ]
    },
    {
     "data": {
      "text/html": [],
      "text/plain": [
       "<IPython.core.display.HTML object>"
      ]
     },
     "metadata": {},
     "output_type": "display_data"
    },
    {
     "data": {
      "text/html": [],
      "text/plain": [
       "<IPython.core.display.HTML object>"
      ]
     },
     "metadata": {},
     "output_type": "display_data"
    },
    {
     "data": {
      "text/html": [],
      "text/plain": [
       "<IPython.core.display.HTML object>"
      ]
     },
     "metadata": {},
     "output_type": "display_data"
    },
    {
     "data": {
      "text/html": [],
      "text/plain": [
       "<IPython.core.display.HTML object>"
      ]
     },
     "metadata": {},
     "output_type": "display_data"
    },
    {
     "data": {
      "text/html": [],
      "text/plain": [
       "<IPython.core.display.HTML object>"
      ]
     },
     "metadata": {},
     "output_type": "display_data"
    },
    {
     "data": {
      "text/html": [],
      "text/plain": [
       "<IPython.core.display.HTML object>"
      ]
     },
     "metadata": {},
     "output_type": "display_data"
    },
    {
     "data": {
      "text/html": [],
      "text/plain": [
       "<IPython.core.display.HTML object>"
      ]
     },
     "metadata": {},
     "output_type": "display_data"
    },
    {
     "data": {
      "text/html": [],
      "text/plain": [
       "<IPython.core.display.HTML object>"
      ]
     },
     "metadata": {},
     "output_type": "display_data"
    },
    {
     "data": {
      "text/html": [],
      "text/plain": [
       "<IPython.core.display.HTML object>"
      ]
     },
     "metadata": {},
     "output_type": "display_data"
    },
    {
     "data": {
      "text/html": [],
      "text/plain": [
       "<IPython.core.display.HTML object>"
      ]
     },
     "metadata": {},
     "output_type": "display_data"
    },
    {
     "data": {
      "text/html": [],
      "text/plain": [
       "<IPython.core.display.HTML object>"
      ]
     },
     "metadata": {},
     "output_type": "display_data"
    },
    {
     "data": {
      "text/html": [],
      "text/plain": [
       "<IPython.core.display.HTML object>"
      ]
     },
     "metadata": {},
     "output_type": "display_data"
    },
    {
     "data": {
      "text/html": [],
      "text/plain": [
       "<IPython.core.display.HTML object>"
      ]
     },
     "metadata": {},
     "output_type": "display_data"
    },
    {
     "data": {
      "text/html": [],
      "text/plain": [
       "<IPython.core.display.HTML object>"
      ]
     },
     "metadata": {},
     "output_type": "display_data"
    },
    {
     "name": "stderr",
     "output_type": "stream",
     "text": [
      "127.0.0.1 - - [12/Dec/2021 13:50:56] \"GET / HTTP/1.1\" 200 -\n",
      "127.0.0.1 - - [12/Dec/2021 13:50:56] \"GET /static//data/ancient%20egyptian/ancient%20egyptian18.png HTTP/1.1\" 308 -\n",
      "127.0.0.1 - - [12/Dec/2021 13:50:56] \"GET /static/css/style.css HTTP/1.1\" 304 -\n",
      "127.0.0.1 - - [12/Dec/2021 13:50:57] \"GET /static//data/roman/roman18.png HTTP/1.1\" 308 -\n",
      "127.0.0.1 - - [12/Dec/2021 13:50:57] \"GET /static//data/moorisch/moorisch14.png HTTP/1.1\" 308 -\n",
      "127.0.0.1 - - [12/Dec/2021 13:50:57] \"GET /static/data/gothic/gothic12.png HTTP/1.1\" 200 -\n",
      "127.0.0.1 - - [12/Dec/2021 13:50:57] \"GET /static/pictures/Stars.png HTTP/1.1\" 304 -\n",
      "127.0.0.1 - - [12/Dec/2021 13:50:57] \"GET /static/data/federal/federal3.png HTTP/1.1\" 304 -\n",
      "127.0.0.1 - - [12/Dec/2021 13:50:57] \"GET /static/data/modern/modern9.png HTTP/1.1\" 304 -\n",
      "127.0.0.1 - - [12/Dec/2021 13:50:57] \"GET /static/data/tudor/tudor4.png HTTP/1.1\" 200 -\n",
      "127.0.0.1 - - [12/Dec/2021 13:50:57] \"GET /static/data/roman/roman18.png HTTP/1.1\" 200 -\n",
      "127.0.0.1 - - [12/Dec/2021 13:50:57] \"GET /static/data/moorisch/moorisch14.png HTTP/1.1\" 200 -\n",
      "127.0.0.1 - - [12/Dec/2021 13:50:57] \"GET /static//data/cunstructivist/cunstructivist9.png HTTP/1.1\" 308 -\n",
      "127.0.0.1 - - [12/Dec/2021 13:50:57] \"GET /static/data/art%20deco/art%20deco17.png HTTP/1.1\" 304 -\n",
      "127.0.0.1 - - [12/Dec/2021 13:50:57] \"GET /static/data/baroque/baroque6.png HTTP/1.1\" 304 -\n",
      "127.0.0.1 - - [12/Dec/2021 13:50:57] \"GET /static/data/cunstructivist/cunstructivist9.png HTTP/1.1\" 200 -\n",
      "127.0.0.1 - - [12/Dec/2021 13:50:57] \"GET /static/data/brutalism/brutalism10.png HTTP/1.1\" 304 -\n",
      "127.0.0.1 - - [12/Dec/2021 13:50:57] \"GET /static/data/ancient%20egyptian/ancient%20egyptian18.png HTTP/1.1\" 200 -\n",
      "127.0.0.1 - - [12/Dec/2021 13:50:57] \"GET /static//data/expressionist/expressionist16.png HTTP/1.1\" 308 -\n",
      "127.0.0.1 - - [12/Dec/2021 13:50:57] \"GET /static/data/indoislamic/indoislamic12.png HTTP/1.1\" 304 -\n",
      "127.0.0.1 - - [12/Dec/2021 13:50:57] \"GET /static//data/rococo/rococo2.png HTTP/1.1\" 308 -\n",
      "127.0.0.1 - - [12/Dec/2021 13:50:58] \"GET /static/data/expressionist/expressionist16.png HTTP/1.1\" 200 -\n",
      "127.0.0.1 - - [12/Dec/2021 13:50:58] \"GET /static/data/rococo/rococo2.png HTTP/1.1\" 200 -\n"
     ]
    },
    {
     "name": "stdout",
     "output_type": "stream",
     "text": [
      "Image path:OnzeLieveVrouwetoren_Amersfoort-683x1024.jpg\n"
     ]
    },
    {
     "data": {
      "text/html": [],
      "text/plain": [
       "<IPython.core.display.HTML object>"
      ]
     },
     "metadata": {},
     "output_type": "display_data"
    },
    {
     "name": "stderr",
     "output_type": "stream",
     "text": [
      "127.0.0.1 - - [12/Dec/2021 13:52:30] \"POST /testImage_post HTTP/1.1\" 302 -\n"
     ]
    },
    {
     "name": "stdout",
     "output_type": "stream",
     "text": [
      "{'image': '/UploadFolder/OnzeLieveVrouwetoren_Amersfoort-683x1024.jpg', 'prediction': 'gothic', 'sample_class': 'sample_visable'}\n"
     ]
    },
    {
     "data": {
      "text/html": [],
      "text/plain": [
       "<IPython.core.display.HTML object>"
      ]
     },
     "metadata": {},
     "output_type": "display_data"
    },
    {
     "data": {
      "text/html": [],
      "text/plain": [
       "<IPython.core.display.HTML object>"
      ]
     },
     "metadata": {},
     "output_type": "display_data"
    },
    {
     "data": {
      "text/html": [],
      "text/plain": [
       "<IPython.core.display.HTML object>"
      ]
     },
     "metadata": {},
     "output_type": "display_data"
    },
    {
     "data": {
      "text/html": [],
      "text/plain": [
       "<IPython.core.display.HTML object>"
      ]
     },
     "metadata": {},
     "output_type": "display_data"
    },
    {
     "data": {
      "text/html": [],
      "text/plain": [
       "<IPython.core.display.HTML object>"
      ]
     },
     "metadata": {},
     "output_type": "display_data"
    },
    {
     "data": {
      "text/html": [],
      "text/plain": [
       "<IPython.core.display.HTML object>"
      ]
     },
     "metadata": {},
     "output_type": "display_data"
    },
    {
     "data": {
      "text/html": [],
      "text/plain": [
       "<IPython.core.display.HTML object>"
      ]
     },
     "metadata": {},
     "output_type": "display_data"
    },
    {
     "data": {
      "text/html": [],
      "text/plain": [
       "<IPython.core.display.HTML object>"
      ]
     },
     "metadata": {},
     "output_type": "display_data"
    },
    {
     "data": {
      "text/html": [],
      "text/plain": [
       "<IPython.core.display.HTML object>"
      ]
     },
     "metadata": {},
     "output_type": "display_data"
    },
    {
     "data": {
      "text/html": [],
      "text/plain": [
       "<IPython.core.display.HTML object>"
      ]
     },
     "metadata": {},
     "output_type": "display_data"
    },
    {
     "data": {
      "text/html": [],
      "text/plain": [
       "<IPython.core.display.HTML object>"
      ]
     },
     "metadata": {},
     "output_type": "display_data"
    },
    {
     "data": {
      "text/html": [],
      "text/plain": [
       "<IPython.core.display.HTML object>"
      ]
     },
     "metadata": {},
     "output_type": "display_data"
    },
    {
     "data": {
      "text/html": [],
      "text/plain": [
       "<IPython.core.display.HTML object>"
      ]
     },
     "metadata": {},
     "output_type": "display_data"
    },
    {
     "data": {
      "text/html": [],
      "text/plain": [
       "<IPython.core.display.HTML object>"
      ]
     },
     "metadata": {},
     "output_type": "display_data"
    },
    {
     "name": "stderr",
     "output_type": "stream",
     "text": [
      "127.0.0.1 - - [12/Dec/2021 13:52:32] \"GET / HTTP/1.1\" 200 -\n",
      "127.0.0.1 - - [12/Dec/2021 13:52:32] \"GET /static/css/style.css HTTP/1.1\" 200 -\n",
      "127.0.0.1 - - [12/Dec/2021 13:52:32] \"GET /static//data/tudor/tudor13.png HTTP/1.1\" 308 -\n",
      "127.0.0.1 - - [12/Dec/2021 13:52:32] \"GET /static//data/federal/federal4.png HTTP/1.1\" 308 -\n",
      "127.0.0.1 - - [12/Dec/2021 13:52:32] \"GET /static//data/modern/modern8.png HTTP/1.1\" 308 -\n",
      "127.0.0.1 - - [12/Dec/2021 13:52:32] \"GET /static/pictures/Stars.png HTTP/1.1\" 304 -\n",
      "127.0.0.1 - - [12/Dec/2021 13:52:32] \"GET /static/data/moorisch/moorisch7.png HTTP/1.1\" 304 -\n",
      "127.0.0.1 - - [12/Dec/2021 13:52:32] \"GET /static/data/gothic/gothic11.png HTTP/1.1\" 304 -\n",
      "127.0.0.1 - - [12/Dec/2021 13:52:32] \"GET /static/data/roman/roman6.png HTTP/1.1\" 304 -\n",
      "127.0.0.1 - - [12/Dec/2021 13:52:32] \"GET /static/data/tudor/tudor13.png HTTP/1.1\" 200 -\n",
      "127.0.0.1 - - [12/Dec/2021 13:52:32] \"GET /static/data/federal/federal4.png HTTP/1.1\" 200 -\n",
      "127.0.0.1 - - [12/Dec/2021 13:52:32] \"GET /static/data/modern/modern8.png HTTP/1.1\" 200 -\n",
      "127.0.0.1 - - [12/Dec/2021 13:52:32] \"GET /static/data/ancient%20egyptian/ancient%20egyptian19.png HTTP/1.1\" 304 -\n",
      "127.0.0.1 - - [12/Dec/2021 13:52:32] \"GET /static/data/art%20deco/art%20deco8.png HTTP/1.1\" 304 -\n",
      "127.0.0.1 - - [12/Dec/2021 13:52:33] \"GET /static/data/baroque/baroque17.png HTTP/1.1\" 200 -\n",
      "127.0.0.1 - - [12/Dec/2021 13:52:33] \"GET /static/data/brutalism/brutalism10.png HTTP/1.1\" 304 -\n",
      "127.0.0.1 - - [12/Dec/2021 13:52:33] \"GET /static/data/cunstructivist/cunstructivist18.png HTTP/1.1\" 304 -\n",
      "127.0.0.1 - - [12/Dec/2021 13:52:33] \"GET /static/data/expressionist/expressionist9.png HTTP/1.1\" 304 -\n",
      "127.0.0.1 - - [12/Dec/2021 13:52:33] \"GET /static/data/indoislamic/indoislamic5.png HTTP/1.1\" 304 -\n",
      "127.0.0.1 - - [12/Dec/2021 13:52:33] \"GET /static//data/rococo/rococo7.png HTTP/1.1\" 308 -\n",
      "127.0.0.1 - - [12/Dec/2021 13:52:33] \"GET /static/UploadFolder/OnzeLieveVrouwetoren_Amersfoort-683x1024.jpg HTTP/1.1\" 200 -\n",
      "127.0.0.1 - - [12/Dec/2021 13:52:33] \"GET /static/data/rococo/rococo7.png HTTP/1.1\" 200 -\n"
     ]
    },
    {
     "name": "stdout",
     "output_type": "stream",
     "text": [
      "{'image': '/UploadFolder/OnzeLieveVrouwetoren_Amersfoort-683x1024.jpg', 'prediction': 'gothic', 'sample_class': 'sample_visable'}\n"
     ]
    },
    {
     "data": {
      "text/html": [],
      "text/plain": [
       "<IPython.core.display.HTML object>"
      ]
     },
     "metadata": {},
     "output_type": "display_data"
    },
    {
     "data": {
      "text/html": [],
      "text/plain": [
       "<IPython.core.display.HTML object>"
      ]
     },
     "metadata": {},
     "output_type": "display_data"
    },
    {
     "data": {
      "text/html": [],
      "text/plain": [
       "<IPython.core.display.HTML object>"
      ]
     },
     "metadata": {},
     "output_type": "display_data"
    },
    {
     "data": {
      "text/html": [],
      "text/plain": [
       "<IPython.core.display.HTML object>"
      ]
     },
     "metadata": {},
     "output_type": "display_data"
    },
    {
     "data": {
      "text/html": [],
      "text/plain": [
       "<IPython.core.display.HTML object>"
      ]
     },
     "metadata": {},
     "output_type": "display_data"
    },
    {
     "data": {
      "text/html": [],
      "text/plain": [
       "<IPython.core.display.HTML object>"
      ]
     },
     "metadata": {},
     "output_type": "display_data"
    },
    {
     "data": {
      "text/html": [],
      "text/plain": [
       "<IPython.core.display.HTML object>"
      ]
     },
     "metadata": {},
     "output_type": "display_data"
    },
    {
     "data": {
      "text/html": [],
      "text/plain": [
       "<IPython.core.display.HTML object>"
      ]
     },
     "metadata": {},
     "output_type": "display_data"
    },
    {
     "data": {
      "text/html": [],
      "text/plain": [
       "<IPython.core.display.HTML object>"
      ]
     },
     "metadata": {},
     "output_type": "display_data"
    },
    {
     "data": {
      "text/html": [],
      "text/plain": [
       "<IPython.core.display.HTML object>"
      ]
     },
     "metadata": {},
     "output_type": "display_data"
    },
    {
     "data": {
      "text/html": [],
      "text/plain": [
       "<IPython.core.display.HTML object>"
      ]
     },
     "metadata": {},
     "output_type": "display_data"
    },
    {
     "data": {
      "text/html": [],
      "text/plain": [
       "<IPython.core.display.HTML object>"
      ]
     },
     "metadata": {},
     "output_type": "display_data"
    },
    {
     "data": {
      "text/html": [],
      "text/plain": [
       "<IPython.core.display.HTML object>"
      ]
     },
     "metadata": {},
     "output_type": "display_data"
    },
    {
     "data": {
      "text/html": [],
      "text/plain": [
       "<IPython.core.display.HTML object>"
      ]
     },
     "metadata": {},
     "output_type": "display_data"
    },
    {
     "name": "stderr",
     "output_type": "stream",
     "text": [
      "127.0.0.1 - - [12/Dec/2021 13:53:54] \"GET / HTTP/1.1\" 200 -\n",
      "127.0.0.1 - - [12/Dec/2021 13:53:54] \"GET /static/css/style.css HTTP/1.1\" 200 -\n",
      "127.0.0.1 - - [12/Dec/2021 13:53:54] \"GET /static/data/ancient%20egyptian/ancient%20egyptian7.png HTTP/1.1\" 304 -\n",
      "127.0.0.1 - - [12/Dec/2021 13:53:54] \"GET /static/pictures/Stars.png HTTP/1.1\" 304 -\n",
      "127.0.0.1 - - [12/Dec/2021 13:53:54] \"GET /static/data/federal/federal9.png HTTP/1.1\" 304 -\n",
      "127.0.0.1 - - [12/Dec/2021 13:53:54] \"GET /static/data/moorisch/moorisch2.png HTTP/1.1\" 304 -\n",
      "127.0.0.1 - - [12/Dec/2021 13:53:54] \"GET /static/data/modern/modern7.png HTTP/1.1\" 304 -\n",
      "127.0.0.1 - - [12/Dec/2021 13:53:54] \"GET /static/data/gothic/gothic17.png HTTP/1.1\" 304 -\n",
      "127.0.0.1 - - [12/Dec/2021 13:53:54] \"GET /static/data/roman/roman5.png HTTP/1.1\" 304 -\n",
      "127.0.0.1 - - [12/Dec/2021 13:53:55] \"GET /static/data/tudor/tudor2.png HTTP/1.1\" 304 -\n",
      "127.0.0.1 - - [12/Dec/2021 13:53:55] \"GET /static/data/art%20deco/art%20deco1.png HTTP/1.1\" 304 -\n",
      "127.0.0.1 - - [12/Dec/2021 13:53:55] \"GET /static/data/baroque/baroque6.png HTTP/1.1\" 304 -\n",
      "127.0.0.1 - - [12/Dec/2021 13:53:55] \"GET /static/data/brutalism/brutalism19.png HTTP/1.1\" 304 -\n",
      "127.0.0.1 - - [12/Dec/2021 13:53:55] \"GET /static/data/cunstructivist/cunstructivist6.png HTTP/1.1\" 304 -\n",
      "127.0.0.1 - - [12/Dec/2021 13:53:55] \"GET /static/data/expressionist/expressionist10.png HTTP/1.1\" 304 -\n",
      "127.0.0.1 - - [12/Dec/2021 13:53:55] \"GET /static/data/indoislamic/indoislamic17.png HTTP/1.1\" 304 -\n",
      "127.0.0.1 - - [12/Dec/2021 13:53:55] \"GET /static/data/rococo/rococo11.png HTTP/1.1\" 304 -\n",
      "127.0.0.1 - - [12/Dec/2021 13:53:55] \"GET /static/UploadFolder/OnzeLieveVrouwetoren_Amersfoort-683x1024.jpg HTTP/1.1\" 304 -\n"
     ]
    },
    {
     "name": "stdout",
     "output_type": "stream",
     "text": [
      "{'image': '/UploadFolder/OnzeLieveVrouwetoren_Amersfoort-683x1024.jpg', 'prediction': 'gothic', 'sample_class': 'sample_visable'}\n"
     ]
    },
    {
     "data": {
      "text/html": [],
      "text/plain": [
       "<IPython.core.display.HTML object>"
      ]
     },
     "metadata": {},
     "output_type": "display_data"
    },
    {
     "data": {
      "text/html": [],
      "text/plain": [
       "<IPython.core.display.HTML object>"
      ]
     },
     "metadata": {},
     "output_type": "display_data"
    },
    {
     "data": {
      "text/html": [],
      "text/plain": [
       "<IPython.core.display.HTML object>"
      ]
     },
     "metadata": {},
     "output_type": "display_data"
    },
    {
     "data": {
      "text/html": [],
      "text/plain": [
       "<IPython.core.display.HTML object>"
      ]
     },
     "metadata": {},
     "output_type": "display_data"
    },
    {
     "data": {
      "text/html": [],
      "text/plain": [
       "<IPython.core.display.HTML object>"
      ]
     },
     "metadata": {},
     "output_type": "display_data"
    },
    {
     "data": {
      "text/html": [],
      "text/plain": [
       "<IPython.core.display.HTML object>"
      ]
     },
     "metadata": {},
     "output_type": "display_data"
    },
    {
     "data": {
      "text/html": [],
      "text/plain": [
       "<IPython.core.display.HTML object>"
      ]
     },
     "metadata": {},
     "output_type": "display_data"
    },
    {
     "data": {
      "text/html": [],
      "text/plain": [
       "<IPython.core.display.HTML object>"
      ]
     },
     "metadata": {},
     "output_type": "display_data"
    },
    {
     "data": {
      "text/html": [],
      "text/plain": [
       "<IPython.core.display.HTML object>"
      ]
     },
     "metadata": {},
     "output_type": "display_data"
    },
    {
     "data": {
      "text/html": [],
      "text/plain": [
       "<IPython.core.display.HTML object>"
      ]
     },
     "metadata": {},
     "output_type": "display_data"
    },
    {
     "data": {
      "text/html": [],
      "text/plain": [
       "<IPython.core.display.HTML object>"
      ]
     },
     "metadata": {},
     "output_type": "display_data"
    },
    {
     "data": {
      "text/html": [],
      "text/plain": [
       "<IPython.core.display.HTML object>"
      ]
     },
     "metadata": {},
     "output_type": "display_data"
    },
    {
     "data": {
      "text/html": [],
      "text/plain": [
       "<IPython.core.display.HTML object>"
      ]
     },
     "metadata": {},
     "output_type": "display_data"
    },
    {
     "data": {
      "text/html": [],
      "text/plain": [
       "<IPython.core.display.HTML object>"
      ]
     },
     "metadata": {},
     "output_type": "display_data"
    },
    {
     "name": "stderr",
     "output_type": "stream",
     "text": [
      "127.0.0.1 - - [12/Dec/2021 13:56:10] \"GET / HTTP/1.1\" 200 -\n",
      "127.0.0.1 - - [12/Dec/2021 13:56:10] \"GET /static/data/ancient%20egyptian/ancient%20egyptian10.png HTTP/1.1\" 304 -\n",
      "127.0.0.1 - - [12/Dec/2021 13:56:10] \"GET /static/css/style.css HTTP/1.1\" 200 -\n",
      "127.0.0.1 - - [12/Dec/2021 13:56:11] \"GET /static/data/federal/federal6.png HTTP/1.1\" 304 -\n",
      "127.0.0.1 - - [12/Dec/2021 13:56:11] \"GET /static/pictures/Stars.png HTTP/1.1\" 304 -\n",
      "127.0.0.1 - - [12/Dec/2021 13:56:11] \"GET /static/data/moorisch/moorisch11.png HTTP/1.1\" 304 -\n",
      "127.0.0.1 - - [12/Dec/2021 13:56:11] \"GET /static/data/roman/roman0.png HTTP/1.1\" 304 -\n",
      "127.0.0.1 - - [12/Dec/2021 13:56:11] \"GET /static/data/modern/modern9.png HTTP/1.1\" 304 -\n",
      "127.0.0.1 - - [12/Dec/2021 13:56:11] \"GET /static/data/gothic/gothic7.png HTTP/1.1\" 200 -\n",
      "127.0.0.1 - - [12/Dec/2021 13:56:11] \"GET /static/data/tudor/tudor8.png HTTP/1.1\" 304 -\n",
      "127.0.0.1 - - [12/Dec/2021 13:56:11] \"GET /static/data/art%20deco/art%20deco2.png HTTP/1.1\" 200 -\n",
      "127.0.0.1 - - [12/Dec/2021 13:56:11] \"GET /static/data/baroque/baroque12.png HTTP/1.1\" 304 -\n",
      "127.0.0.1 - - [12/Dec/2021 13:56:11] \"GET /static/data/brutalism/brutalism18.png HTTP/1.1\" 304 -\n",
      "127.0.0.1 - - [12/Dec/2021 13:56:11] \"GET /static/data/cunstructivist/cunstructivist8.png HTTP/1.1\" 304 -\n",
      "127.0.0.1 - - [12/Dec/2021 13:56:11] \"GET /static/data/expressionist/expressionist9.png HTTP/1.1\" 304 -\n",
      "127.0.0.1 - - [12/Dec/2021 13:56:11] \"GET /static/data/indoislamic/indoislamic3.png HTTP/1.1\" 304 -\n",
      "127.0.0.1 - - [12/Dec/2021 13:56:11] \"GET /static/data/rococo/rococo14.png HTTP/1.1\" 304 -\n",
      "127.0.0.1 - - [12/Dec/2021 13:56:11] \"GET /static/UploadFolder/OnzeLieveVrouwetoren_Amersfoort-683x1024.jpg HTTP/1.1\" 304 -\n",
      "127.0.0.1 - - [12/Dec/2021 13:58:21] \"POST /testImage_post HTTP/1.1\" 302 -\n"
     ]
    },
    {
     "name": "stdout",
     "output_type": "stream",
     "text": [
      "Image path:\n",
      "{'image': '/UploadFolder/OnzeLieveVrouwetoren_Amersfoort-683x1024.jpg', 'prediction': 'gothic', 'sample_class': 'sample_visable'}\n"
     ]
    },
    {
     "data": {
      "text/html": [],
      "text/plain": [
       "<IPython.core.display.HTML object>"
      ]
     },
     "metadata": {},
     "output_type": "display_data"
    },
    {
     "data": {
      "text/html": [],
      "text/plain": [
       "<IPython.core.display.HTML object>"
      ]
     },
     "metadata": {},
     "output_type": "display_data"
    },
    {
     "data": {
      "text/html": [],
      "text/plain": [
       "<IPython.core.display.HTML object>"
      ]
     },
     "metadata": {},
     "output_type": "display_data"
    },
    {
     "data": {
      "text/html": [],
      "text/plain": [
       "<IPython.core.display.HTML object>"
      ]
     },
     "metadata": {},
     "output_type": "display_data"
    },
    {
     "data": {
      "text/html": [],
      "text/plain": [
       "<IPython.core.display.HTML object>"
      ]
     },
     "metadata": {},
     "output_type": "display_data"
    },
    {
     "data": {
      "text/html": [],
      "text/plain": [
       "<IPython.core.display.HTML object>"
      ]
     },
     "metadata": {},
     "output_type": "display_data"
    },
    {
     "data": {
      "text/html": [],
      "text/plain": [
       "<IPython.core.display.HTML object>"
      ]
     },
     "metadata": {},
     "output_type": "display_data"
    },
    {
     "data": {
      "text/html": [],
      "text/plain": [
       "<IPython.core.display.HTML object>"
      ]
     },
     "metadata": {},
     "output_type": "display_data"
    },
    {
     "data": {
      "text/html": [],
      "text/plain": [
       "<IPython.core.display.HTML object>"
      ]
     },
     "metadata": {},
     "output_type": "display_data"
    },
    {
     "data": {
      "text/html": [],
      "text/plain": [
       "<IPython.core.display.HTML object>"
      ]
     },
     "metadata": {},
     "output_type": "display_data"
    },
    {
     "data": {
      "text/html": [],
      "text/plain": [
       "<IPython.core.display.HTML object>"
      ]
     },
     "metadata": {},
     "output_type": "display_data"
    },
    {
     "data": {
      "text/html": [],
      "text/plain": [
       "<IPython.core.display.HTML object>"
      ]
     },
     "metadata": {},
     "output_type": "display_data"
    },
    {
     "data": {
      "text/html": [],
      "text/plain": [
       "<IPython.core.display.HTML object>"
      ]
     },
     "metadata": {},
     "output_type": "display_data"
    },
    {
     "data": {
      "text/html": [],
      "text/plain": [
       "<IPython.core.display.HTML object>"
      ]
     },
     "metadata": {},
     "output_type": "display_data"
    },
    {
     "name": "stderr",
     "output_type": "stream",
     "text": [
      "127.0.0.1 - - [12/Dec/2021 13:58:23] \"GET / HTTP/1.1\" 200 -\n",
      "127.0.0.1 - - [12/Dec/2021 13:58:23] \"GET /static/css/style.css HTTP/1.1\" 304 -\n",
      "127.0.0.1 - - [12/Dec/2021 13:58:23] \"GET /static/pictures/Stars.png HTTP/1.1\" 304 -\n",
      "127.0.0.1 - - [12/Dec/2021 13:58:23] \"GET /static/data/tudor/tudor8.png HTTP/1.1\" 304 -\n",
      "127.0.0.1 - - [12/Dec/2021 13:58:23] \"GET /static/data/gothic/gothic11.png HTTP/1.1\" 304 -\n",
      "127.0.0.1 - - [12/Dec/2021 13:58:23] \"GET /static/data/modern/modern9.png HTTP/1.1\" 304 -\n",
      "127.0.0.1 - - [12/Dec/2021 13:58:23] \"GET /static/data/moorisch/moorisch13.png HTTP/1.1\" 304 -\n",
      "127.0.0.1 - - [12/Dec/2021 13:58:23] \"GET /static/data/roman/roman14.png HTTP/1.1\" 304 -\n",
      "127.0.0.1 - - [12/Dec/2021 13:58:23] \"GET /static/data/federal/federal7.png HTTP/1.1\" 304 -\n",
      "127.0.0.1 - - [12/Dec/2021 13:58:23] \"GET /static//data/cunstructivist/cunstructivist5.png HTTP/1.1\" 308 -\n",
      "127.0.0.1 - - [12/Dec/2021 13:58:23] \"GET /static/data/ancient%20egyptian/ancient%20egyptian2.png HTTP/1.1\" 304 -\n",
      "127.0.0.1 - - [12/Dec/2021 13:58:23] \"GET /static/data/art%20deco/art%20deco0.png HTTP/1.1\" 304 -\n",
      "127.0.0.1 - - [12/Dec/2021 13:58:23] \"GET /static/data/baroque/baroque6.png HTTP/1.1\" 304 -\n",
      "127.0.0.1 - - [12/Dec/2021 13:58:23] \"GET /static/data/cunstructivist/cunstructivist5.png HTTP/1.1\" 200 -\n",
      "127.0.0.1 - - [12/Dec/2021 13:58:24] \"GET /static/data/brutalism/brutalism10.png HTTP/1.1\" 304 -\n",
      "127.0.0.1 - - [12/Dec/2021 13:58:24] \"GET /static/data/expressionist/expressionist2.png HTTP/1.1\" 304 -\n",
      "127.0.0.1 - - [12/Dec/2021 13:58:24] \"GET /static//data/indoislamic/indoislamic2.png HTTP/1.1\" 308 -\n",
      "127.0.0.1 - - [12/Dec/2021 13:58:24] \"GET /static//data/rococo/rococo12.png HTTP/1.1\" 308 -\n",
      "127.0.0.1 - - [12/Dec/2021 13:58:24] \"GET /static/UploadFolder/OnzeLieveVrouwetoren_Amersfoort-683x1024.jpg HTTP/1.1\" 304 -\n",
      "127.0.0.1 - - [12/Dec/2021 13:58:24] \"GET /static/data/indoislamic/indoislamic2.png HTTP/1.1\" 200 -\n",
      "127.0.0.1 - - [12/Dec/2021 13:58:24] \"GET /static/data/rococo/rococo12.png HTTP/1.1\" 200 -\n"
     ]
    },
    {
     "name": "stdout",
     "output_type": "stream",
     "text": [
      "{'image': '/UploadFolder/OnzeLieveVrouwetoren_Amersfoort-683x1024.jpg', 'prediction': 'gothic', 'sample_class': 'sample_visable'}\n"
     ]
    },
    {
     "data": {
      "text/html": [],
      "text/plain": [
       "<IPython.core.display.HTML object>"
      ]
     },
     "metadata": {},
     "output_type": "display_data"
    },
    {
     "data": {
      "text/html": [],
      "text/plain": [
       "<IPython.core.display.HTML object>"
      ]
     },
     "metadata": {},
     "output_type": "display_data"
    },
    {
     "data": {
      "text/html": [],
      "text/plain": [
       "<IPython.core.display.HTML object>"
      ]
     },
     "metadata": {},
     "output_type": "display_data"
    },
    {
     "data": {
      "text/html": [],
      "text/plain": [
       "<IPython.core.display.HTML object>"
      ]
     },
     "metadata": {},
     "output_type": "display_data"
    },
    {
     "data": {
      "text/html": [],
      "text/plain": [
       "<IPython.core.display.HTML object>"
      ]
     },
     "metadata": {},
     "output_type": "display_data"
    },
    {
     "data": {
      "text/html": [],
      "text/plain": [
       "<IPython.core.display.HTML object>"
      ]
     },
     "metadata": {},
     "output_type": "display_data"
    },
    {
     "data": {
      "text/html": [],
      "text/plain": [
       "<IPython.core.display.HTML object>"
      ]
     },
     "metadata": {},
     "output_type": "display_data"
    },
    {
     "data": {
      "text/html": [],
      "text/plain": [
       "<IPython.core.display.HTML object>"
      ]
     },
     "metadata": {},
     "output_type": "display_data"
    },
    {
     "data": {
      "text/html": [],
      "text/plain": [
       "<IPython.core.display.HTML object>"
      ]
     },
     "metadata": {},
     "output_type": "display_data"
    },
    {
     "data": {
      "text/html": [],
      "text/plain": [
       "<IPython.core.display.HTML object>"
      ]
     },
     "metadata": {},
     "output_type": "display_data"
    },
    {
     "data": {
      "text/html": [],
      "text/plain": [
       "<IPython.core.display.HTML object>"
      ]
     },
     "metadata": {},
     "output_type": "display_data"
    },
    {
     "data": {
      "text/html": [],
      "text/plain": [
       "<IPython.core.display.HTML object>"
      ]
     },
     "metadata": {},
     "output_type": "display_data"
    },
    {
     "data": {
      "text/html": [],
      "text/plain": [
       "<IPython.core.display.HTML object>"
      ]
     },
     "metadata": {},
     "output_type": "display_data"
    },
    {
     "data": {
      "text/html": [],
      "text/plain": [
       "<IPython.core.display.HTML object>"
      ]
     },
     "metadata": {},
     "output_type": "display_data"
    },
    {
     "name": "stderr",
     "output_type": "stream",
     "text": [
      "127.0.0.1 - - [12/Dec/2021 14:01:44] \"GET / HTTP/1.1\" 200 -\n",
      "127.0.0.1 - - [12/Dec/2021 14:01:44] \"GET /static/data/ancient%20egyptian/ancient%20egyptian1.png HTTP/1.1\" 304 -\n",
      "127.0.0.1 - - [12/Dec/2021 14:01:44] \"GET /static/css/style.css HTTP/1.1\" 200 -\n",
      "127.0.0.1 - - [12/Dec/2021 14:01:45] \"GET /static/data/federal/federal8.png HTTP/1.1\" 304 -\n",
      "127.0.0.1 - - [12/Dec/2021 14:01:45] \"GET /static/pictures/Stars.png HTTP/1.1\" 304 -\n",
      "127.0.0.1 - - [12/Dec/2021 14:01:45] \"GET /static/data/indoislamic/indoislamic14.png HTTP/1.1\" 304 -\n",
      "127.0.0.1 - - [12/Dec/2021 14:01:45] \"GET /static/data/gothic/gothic3.png HTTP/1.1\" 200 -\n",
      "127.0.0.1 - - [12/Dec/2021 14:01:45] \"GET /static/data/tudor/tudor19.png HTTP/1.1\" 304 -\n",
      "127.0.0.1 - - [12/Dec/2021 14:01:45] \"GET /static/data/roman/roman19.png HTTP/1.1\" 304 -\n",
      "127.0.0.1 - - [12/Dec/2021 14:01:45] \"GET /static/data/art%20deco/art%20deco8.png HTTP/1.1\" 304 -\n",
      "127.0.0.1 - - [12/Dec/2021 14:01:45] \"GET /static/data/baroque/baroque16.png HTTP/1.1\" 304 -\n",
      "127.0.0.1 - - [12/Dec/2021 14:01:45] \"GET /static/data/brutalism/brutalism0.png HTTP/1.1\" 304 -\n",
      "127.0.0.1 - - [12/Dec/2021 14:01:45] \"GET /static/data/cunstructivist/cunstructivist10.png HTTP/1.1\" 304 -\n",
      "127.0.0.1 - - [12/Dec/2021 14:01:45] \"GET /static//data/expressionist/expressionist13.png HTTP/1.1\" 308 -\n",
      "127.0.0.1 - - [12/Dec/2021 14:01:45] \"GET /static/data/modern/modern9.png HTTP/1.1\" 304 -\n",
      "127.0.0.1 - - [12/Dec/2021 14:01:45] \"GET /static/data/moorisch/moorisch14.png HTTP/1.1\" 304 -\n",
      "127.0.0.1 - - [12/Dec/2021 14:01:45] \"GET /static/data/rococo/rococo9.png HTTP/1.1\" 304 -\n",
      "127.0.0.1 - - [12/Dec/2021 14:01:45] \"GET /static/UploadFolder/OnzeLieveVrouwetoren_Amersfoort-683x1024.jpg HTTP/1.1\" 304 -\n",
      "127.0.0.1 - - [12/Dec/2021 14:01:45] \"GET /static/data/expressionist/expressionist13.png HTTP/1.1\" 200 -\n"
     ]
    }
   ],
   "source": [
    "from flask import Flask, render_template, request, redirect, url_for\n",
    "from werkzeug.utils import secure_filename\n",
    "import os\n",
    "import re\n",
    "\n",
    "# fixes a dependancy on PosixPath by load_learner\n",
    "import pathlib\n",
    "temp = pathlib.PosixPath\n",
    "pathlib.PosixPath = pathlib.WindowsPath\n",
    "\n",
    "import random as rnd\n",
    "from fastai import *\n",
    "from fastai.vision.all import *\n",
    "\n",
    "app = Flask(__name__)\n",
    "if not os.path.isdir('UploadFolder'): os.mkdir('UploadFolder')\n",
    "app.config['UPLOAD_FOLDER'] = './static/UploadFolder'\n",
    "\n",
    "# These are the categories used in the model and the data\n",
    "DATAPATH = \"./static/data/\"\n",
    "CATEGORIES = os.listdir(DATAPATH)\n",
    "ALLOWED_IMGTYPES = ['png','jpeg','gif','jfif','jpg']\n",
    "# Every category has at least 600 images\n",
    "N_MAX = 20\n",
    "\n",
    "sample = {\"sample_class\":\"sample_hidden\"}\n",
    " \n",
    "learn = load_learner('exportBig.pkl')\n",
    "\n",
    "def format_example(imgpath,cat,prediction):\n",
    "   return {\"image\":\"/data/\"+imgpath,\n",
    "                           \"category\":cat,\n",
    "                           \"prediction\":prediction[0],\n",
    "                           \"correct_class\":\"example_\"+str(cat==prediction[0])}\n",
    "\n",
    "def format_sample(imgpath,prediction):\n",
    "   return {\"image\":\"/UploadFolder/\"+imgpath,\n",
    "            \"prediction\":prediction[0],\n",
    "            \"sample_class\":\"sample_visable\"}\n",
    "\n",
    "def get_examples():\n",
    "   examples = []\n",
    "   for cat in CATEGORIES:\n",
    "      n = rnd.choice(range(N_MAX))\n",
    "      imgpath = cat+\"/\"+cat+str(n)+\".png\"\n",
    "      prediction = learn.predict(DATAPATH+imgpath)\n",
    "\n",
    "      examples.append(format_example(imgpath,cat,prediction))\n",
    "   \n",
    "   return examples\n",
    "\n",
    "\n",
    "   \n",
    "    \n",
    "\n",
    "\n",
    "@app.route('/')\n",
    "def home():\n",
    "   global sample\n",
    "   print(sample)\n",
    "   examples = get_examples()\n",
    "   return render_template('home.html',examples=examples,sample=sample)\n",
    "\n",
    "@app.route(\"/testImage_post\", methods=['post'])\n",
    "def testImage_post():\n",
    "\n",
    "\n",
    "\n",
    "\n",
    "   # for img in os.listdir(app.config['UPLOAD_FOLDER']):\n",
    "   #    os.remove(os.path.join(app.config['UPLOAD_FOLDER'],img))\n",
    "   global sample\n",
    "   # examples are manualy set for now, straight from the model? or select some to test and test them and than compare to name using regex?\n",
    "\n",
    "   image = request.files['file']\n",
    "   #regex function to see if uploaded file was an image\n",
    "\n",
    "   imgpath = secure_filename(image.filename)\n",
    "\n",
    "   print(\"Image path:\" + imgpath)\n",
    "   \n",
    "   \n",
    "\n",
    "   if re.sub('.*\\\\.','',imgpath) not in ALLOWED_IMGTYPES:\n",
    "      return redirect(url_for('home'))\n",
    "\n",
    "   image.save(os.path.join(app.config['UPLOAD_FOLDER'], imgpath))\n",
    "\n",
    "   #test the posted image with the model\n",
    "   prediction = learn.predict(os.path.join(app.config['UPLOAD_FOLDER'], imgpath))\n",
    "\n",
    "   sample = format_sample(imgpath,prediction)\n",
    "\n",
    "\n",
    "\n",
    "   return redirect(url_for('home'))\n",
    "\n",
    "\n",
    "\n",
    "if __name__ == '__main__':\n",
    "   app.run()"
   ]
  }
 ],
 "metadata": {
  "interpreter": {
   "hash": "7713304168cbd30576c08cd8037e755ec502527db886bcfa010c8949df6f0886"
  },
  "kernelspec": {
   "display_name": "Python 3.9.7 64-bit",
   "language": "python",
   "name": "python3"
  },
  "language_info": {
   "codemirror_mode": {
    "name": "ipython",
    "version": 3
   },
   "file_extension": ".py",
   "mimetype": "text/x-python",
   "name": "python",
   "nbconvert_exporter": "python",
   "pygments_lexer": "ipython3",
   "version": "3.9.7"
  },
  "orig_nbformat": 4
 },
 "nbformat": 4,
 "nbformat_minor": 2
}
