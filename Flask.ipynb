{
 "cells": [
  {
   "cell_type": "code",
   "execution_count": 18,
   "metadata": {},
   "outputs": [],
   "source": [
    "   examples = [\n",
    "      {\"image\":\"ExampleData/art deco/art deco1.png\",\n",
    "      \"category\":\"art deco\",\n",
    "      \"prediction\":\"art deco\",\n",
    "      \"correct_class\":\"example_true\"},\n",
    "\n",
    "      {\"image\":\"ExampleData/baroque/baroque1.png\",\n",
    "      \"category\":\"baroque\",\n",
    "      \"prediction\":\"art deco\",\n",
    "      \"correct_class\":\"example_false\"},\n",
    "\n",
    "      {\"image\":\"ExampleData/roman/roman1.png\",\n",
    "      \"category\":\"roman\",\n",
    "      \"prediction\":\"roman\",\n",
    "      \"correct_class\":\"example_true\"},\n",
    "      \n",
    "      {\"image\":\"ExampleData/tudor/tudor1.png\",\n",
    "      \"category\":\"tudor\",\n",
    "      \"prediction\":\"tudor\",\n",
    "      \"correct_class\":\"example_true\"}\n",
    "   ]"
   ]
  },
  {
   "cell_type": "code",
   "execution_count": 19,
   "metadata": {},
   "outputs": [
    {
     "name": "stdout",
     "output_type": "stream",
     "text": [
      " * Serving Flask app \"__main__\" (lazy loading)\n",
      " * Environment: production\n",
      "   WARNING: This is a development server. Do not use it in a production deployment.\n",
      "   Use a production WSGI server instead.\n",
      " * Debug mode: off\n"
     ]
    },
    {
     "name": "stderr",
     "output_type": "stream",
     "text": [
      " * Running on http://127.0.0.1:5000/ (Press CTRL+C to quit)\n",
      "127.0.0.1 - - [07/Dec/2021 12:28:37] \"\u001b[37mGET / HTTP/1.1\u001b[0m\" 200 -\n",
      "127.0.0.1 - - [07/Dec/2021 12:28:37] \"\u001b[37mGET /static/css/style.css HTTP/1.1\u001b[0m\" 200 -\n",
      "127.0.0.1 - - [07/Dec/2021 12:28:37] \"\u001b[33mGET /static/ExampleData/tudor/tudor.png HTTP/1.1\u001b[0m\" 404 -\n",
      "127.0.0.1 - - [07/Dec/2021 12:28:37] \"\u001b[37mGET /static/ExampleData/baroque/baroque1.png HTTP/1.1\u001b[0m\" 200 -\n",
      "127.0.0.1 - - [07/Dec/2021 12:28:37] \"\u001b[37mGET /static/ExampleData/art%20deco/art%20deco1.png HTTP/1.1\u001b[0m\" 200 -\n",
      "127.0.0.1 - - [07/Dec/2021 12:28:37] \"\u001b[37mGET /static/ExampleData/roman/roman1.png HTTP/1.1\u001b[0m\" 200 -\n",
      "127.0.0.1 - - [07/Dec/2021 12:28:37] \"\u001b[37mGET /static/pictures/Stars.png HTTP/1.1\u001b[0m\" 200 -\n",
      "127.0.0.1 - - [07/Dec/2021 12:28:37] \"\u001b[33mGET /favicon.ico HTTP/1.1\u001b[0m\" 404 -\n"
     ]
    }
   ],
   "source": [
    "from flask import Flask, render_template, request, redirect, url_for\n",
    "from werkzeug.utils import secure_filename\n",
    "import os\n",
    "app = Flask(__name__)\n",
    "if not os.path.isdir('UploadFolder'): os.mkdir('UploadFolder')\n",
    "app.config['UPLOAD_FOLDER'] = 'UploadFolder'\n",
    "\n",
    "@app.route('/')\n",
    "def home():\n",
    "   return render_template('home.html',examples = examples)\n",
    "\n",
    "@app.route(\"/testImage_post\", methods=['post'])\n",
    "def testImage_post():\n",
    "   # examples are manualy set for now, straight from the model? or select some to test and test them and than compare to name using regex?\n",
    "\n",
    "   image = request.files['file']\n",
    "   imageName = secure_filename(image.filename)\n",
    "   image.save(os.path.join(app.config['UPLOAD_FOLDER'], imageName))\n",
    "   #test the posted image with the model\n",
    "   return redirect(url_for('home'))\n",
    "\n",
    "\n",
    "\n",
    "if __name__ == '__main__':\n",
    "   app.run()"
   ]
  }
 ],
 "metadata": {
  "interpreter": {
   "hash": "7713304168cbd30576c08cd8037e755ec502527db886bcfa010c8949df6f0886"
  },
  "kernelspec": {
   "display_name": "Python 3.9.7 64-bit",
   "language": "python",
   "name": "python3"
  },
  "language_info": {
   "codemirror_mode": {
    "name": "ipython",
    "version": 3
   },
   "file_extension": ".py",
   "mimetype": "text/x-python",
   "name": "python",
   "nbconvert_exporter": "python",
   "pygments_lexer": "ipython3",
   "version": "3.9.7"
  },
  "orig_nbformat": 4
 },
 "nbformat": 4,
 "nbformat_minor": 2
}
