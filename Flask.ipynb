{
 "cells": [
  {
   "cell_type": "code",
   "execution_count": 4,
   "metadata": {},
   "outputs": [
    {
     "name": "stdout",
     "output_type": "stream",
     "text": [
      "^C\n"
     ]
    }
   ],
   "source": [
    "#!pip install fastai"
   ]
  },
  {
   "cell_type": "code",
   "execution_count": 2,
   "metadata": {},
   "outputs": [
    {
     "name": "stdout",
     "output_type": "stream",
     "text": [
      " * Serving Flask app '__main__' (lazy loading)\n",
      " * Environment: production\n",
      "   WARNING: This is a development server. Do not use it in a production deployment.\n",
      "   Use a production WSGI server instead.\n",
      " * Debug mode: off\n"
     ]
    },
    {
     "name": "stderr",
     "output_type": "stream",
     "text": [
      " * Running on http://127.0.0.1:5000/ (Press CTRL+C to quit)\n"
     ]
    },
    {
     "data": {
      "text/html": [],
      "text/plain": [
       "<IPython.core.display.HTML object>"
      ]
     },
     "metadata": {},
     "output_type": "display_data"
    },
    {
     "data": {
      "text/html": [],
      "text/plain": [
       "<IPython.core.display.HTML object>"
      ]
     },
     "metadata": {},
     "output_type": "display_data"
    },
    {
     "data": {
      "text/html": [],
      "text/plain": [
       "<IPython.core.display.HTML object>"
      ]
     },
     "metadata": {},
     "output_type": "display_data"
    },
    {
     "data": {
      "text/html": [],
      "text/plain": [
       "<IPython.core.display.HTML object>"
      ]
     },
     "metadata": {},
     "output_type": "display_data"
    },
    {
     "name": "stderr",
     "output_type": "stream",
     "text": [
      "127.0.0.1 - - [11/Dec/2021 13:10:32] \"GET / HTTP/1.1\" 200 -\n",
      "127.0.0.1 - - [11/Dec/2021 13:10:32] \"GET /static/css/style.css HTTP/1.1\" 200 -\n",
      "127.0.0.1 - - [11/Dec/2021 13:10:32] \"GET /static//data/gothic/gothic12.png HTTP/1.1\" 308 -\n",
      "127.0.0.1 - - [11/Dec/2021 13:10:32] \"GET /static//data/roman/roman11.png HTTP/1.1\" 308 -\n",
      "127.0.0.1 - - [11/Dec/2021 13:10:32] \"GET /static//data/gothic/gothic19.png HTTP/1.1\" 308 -\n",
      "127.0.0.1 - - [11/Dec/2021 13:10:32] \"GET /static//data/roman/roman7.png HTTP/1.1\" 308 -\n",
      "127.0.0.1 - - [11/Dec/2021 13:10:32] \"GET /static/pictures/Stars.png HTTP/1.1\" 200 -\n",
      "127.0.0.1 - - [11/Dec/2021 13:10:33] \"GET /static/data/gothic/gothic12.png HTTP/1.1\" 200 -\n",
      "127.0.0.1 - - [11/Dec/2021 13:10:33] \"GET /static/data/roman/roman11.png HTTP/1.1\" 200 -\n",
      "127.0.0.1 - - [11/Dec/2021 13:10:33] \"GET /static/data/gothic/gothic19.png HTTP/1.1\" 200 -\n",
      "127.0.0.1 - - [11/Dec/2021 13:10:33] \"GET /static/data/roman/roman7.png HTTP/1.1\" 200 -\n"
     ]
    }
   ],
   "source": [
    "from flask import Flask, render_template, request, redirect, url_for\n",
    "from werkzeug.utils import secure_filename\n",
    "import os\n",
    "\n",
    "# fixes a dependancy on PosixPath by load_learner\n",
    "import pathlib\n",
    "temp = pathlib.PosixPath\n",
    "pathlib.PosixPath = pathlib.WindowsPath\n",
    "\n",
    "import random as rnd\n",
    "from fastai import *\n",
    "from fastai.vision.all import *\n",
    "\n",
    "app = Flask(__name__)\n",
    "if not os.path.isdir('UploadFolder'): os.mkdir('UploadFolder')\n",
    "app.config['UPLOAD_FOLDER'] = 'UploadFolder'\n",
    "\n",
    "# These are the categories used in the model and the data\n",
    "DATAPATH = \"./static/data/\"\n",
    "CATEGORIES = [\"art deco\",\"baroque\",\"gothic\",\"roman\",\"tudor\"]\n",
    "# Every category has at least 600 images\n",
    "N_MAX = 20\n",
    "\n",
    "\n",
    "learn = load_learner('export.pkl')\n",
    "\n",
    "def get_examples():\n",
    "   examples = []\n",
    "   for cat in CATEGORIES:\n",
    "      n = rnd.choice(range(N_MAX))\n",
    "      imgpath = cat+\"/\"+cat+str(n)+\".png\"\n",
    "      prediction = learn.predict(DATAPATH+imgpath)\n",
    "      examples.append({\"image\":\"/data/\"+imgpath,\n",
    "                           \"category\":cat,\n",
    "                           \"prediction\":prediction,\n",
    "                           \"correct_class\":\"example_\"+str(cat==prediction)})\n",
    "   \n",
    "   return examples\n",
    "\n",
    "\n",
    "   \n",
    "    \n",
    "\n",
    "\n",
    "@app.route('/')\n",
    "def home():\n",
    "   examples = get_examples()\n",
    "   return render_template('home.html',examples=examples)\n",
    "\n",
    "@app.route(\"/testImage_post\", methods=['post'])\n",
    "def testImage_post():\n",
    "   # examples are manualy set for now, straight from the model? or select some to test and test them and than compare to name using regex?\n",
    "\n",
    "   image = request.files['file']\n",
    "   imageName = secure_filename(image.filename)\n",
    "   image.save(os.path.join(app.config['UPLOAD_FOLDER'], imageName))\n",
    "   #test the posted image with the model\n",
    "   return redirect(url_for('home'))\n",
    "\n",
    "\n",
    "\n",
    "if __name__ == '__main__':\n",
    "   app.run()"
   ]
  }
 ],
 "metadata": {
  "interpreter": {
   "hash": "7713304168cbd30576c08cd8037e755ec502527db886bcfa010c8949df6f0886"
  },
  "kernelspec": {
   "display_name": "Python 3.9.7 64-bit",
   "language": "python",
   "name": "python3"
  },
  "language_info": {
   "codemirror_mode": {
    "name": "ipython",
    "version": 3
   },
   "file_extension": ".py",
   "mimetype": "text/x-python",
   "name": "python",
   "nbconvert_exporter": "python",
   "pygments_lexer": "ipython3",
   "version": "3.9.7"
  },
  "orig_nbformat": 4
 },
 "nbformat": 4,
 "nbformat_minor": 2
}
