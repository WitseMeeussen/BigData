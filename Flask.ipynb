{
 "cells": [
  {
   "cell_type": "code",
   "execution_count": 4,
   "metadata": {},
   "outputs": [
    {
     "name": "stdout",
     "output_type": "stream",
     "text": [
      "^C\n"
     ]
    }
   ],
   "source": [
    "#!pip install fastai"
   ]
  },
  {
   "cell_type": "code",
   "execution_count": 18,
   "metadata": {},
   "outputs": [
    {
     "name": "stdout",
     "output_type": "stream",
     "text": [
      " * Serving Flask app '__main__' (lazy loading)\n",
      " * Environment: production\n",
      "   WARNING: This is a development server. Do not use it in a production deployment.\n",
      "   Use a production WSGI server instead.\n",
      " * Debug mode: off\n"
     ]
    },
    {
     "name": "stderr",
     "output_type": "stream",
     "text": [
      " * Running on http://127.0.0.1:5000/ (Press CTRL+C to quit)\n",
      "[2021-12-11 14:29:50,647] ERROR in app: Exception on /testImage_post [POST]\n",
      "Traceback (most recent call last):\n",
      "  File \"C:\\Users\\32492\\AppData\\Local\\Programs\\Python\\Python39\\lib\\site-packages\\flask\\app.py\", line 2073, in wsgi_app\n",
      "    response = self.full_dispatch_request()\n",
      "  File \"C:\\Users\\32492\\AppData\\Local\\Programs\\Python\\Python39\\lib\\site-packages\\flask\\app.py\", line 1518, in full_dispatch_request\n",
      "    rv = self.handle_user_exception(e)\n",
      "  File \"C:\\Users\\32492\\AppData\\Local\\Programs\\Python\\Python39\\lib\\site-packages\\flask\\app.py\", line 1516, in full_dispatch_request\n",
      "    rv = self.dispatch_request()\n",
      "  File \"C:\\Users\\32492\\AppData\\Local\\Programs\\Python\\Python39\\lib\\site-packages\\flask\\app.py\", line 1502, in dispatch_request\n",
      "    return self.ensure_sync(self.view_functions[rule.endpoint])(**req.view_args)\n",
      "  File \"C:\\Users\\32492\\AppData\\Local\\Temp/ipykernel_21852/1521862105.py\", line 64, in testImage_post\n",
      "    os.remove(img)\n",
      "FileNotFoundError: [WinError 2] The system cannot find the file specified: 'gothic0.png'\n",
      "127.0.0.1 - - [11/Dec/2021 14:29:50] \"POST /testImage_post HTTP/1.1\" 500 -\n"
     ]
    }
   ],
   "source": [
    "from flask import Flask, render_template, request, redirect, url_for\n",
    "from werkzeug.utils import secure_filename\n",
    "import os\n",
    "\n",
    "# fixes a dependancy on PosixPath by load_learner\n",
    "import pathlib\n",
    "temp = pathlib.PosixPath\n",
    "pathlib.PosixPath = pathlib.WindowsPath\n",
    "\n",
    "import random as rnd\n",
    "from fastai import *\n",
    "from fastai.vision.all import *\n",
    "\n",
    "app = Flask(__name__)\n",
    "if not os.path.isdir('UploadFolder'): os.mkdir('UploadFolder')\n",
    "app.config['UPLOAD_FOLDER'] = './static/UploadFolder'\n",
    "\n",
    "# These are the categories used in the model and the data\n",
    "DATAPATH = \"./static/data/\"\n",
    "CATEGORIES = [\"art deco\",\"baroque\",\"gothic\",\"roman\",\"tudor\"]\n",
    "# Every category has at least 600 images\n",
    "N_MAX = 20\n",
    "\n",
    "sample = {}\n",
    " \n",
    "learn = load_learner('export.pkl')\n",
    "\n",
    "def format_example(imgpath,cat,prediction):\n",
    "   return {\"image\":\"/data/\"+imgpath,\n",
    "                           \"category\":cat,\n",
    "                           \"prediction\":prediction[0],\n",
    "                           \"correct_class\":\"example_\"+str(cat==prediction[0])}\n",
    "\n",
    "def format_sample(imgpath,prediction):\n",
    "   return {\"image\":\"/UploadFolder/\"+imgpath,\n",
    "                           \"prediction\":prediction[0]}\n",
    "\n",
    "def get_examples():\n",
    "   examples = []\n",
    "   for cat in CATEGORIES:\n",
    "      n = rnd.choice(range(N_MAX))\n",
    "      imgpath = cat+\"/\"+cat+str(n)+\".png\"\n",
    "      prediction = learn.predict(DATAPATH+imgpath)\n",
    "\n",
    "      examples.append(format_example(imgpath,cat,prediction))\n",
    "   \n",
    "   return examples\n",
    "\n",
    "\n",
    "   \n",
    "    \n",
    "\n",
    "\n",
    "@app.route('/')\n",
    "def home():\n",
    "   global sample\n",
    "   print(sample)\n",
    "   examples = get_examples()\n",
    "   return render_template('home.html',examples=examples,sample=sample)\n",
    "\n",
    "@app.route(\"/testImage_post\", methods=['post'])\n",
    "def testImage_post():\n",
    "   for img in os.listdir(app.config['UPLOAD_FOLDER']):\n",
    "      os.remove(os.path.join(app.config['UPLOAD_FOLDER'],img))\n",
    "   global sample\n",
    "   # examples are manualy set for now, straight from the model? or select some to test and test them and than compare to name using regex?\n",
    "\n",
    "   image = request.files['file']\n",
    "   imgpath = secure_filename(image.filename)\n",
    "   image.save(os.path.join(app.config['UPLOAD_FOLDER'], imgpath))\n",
    "\n",
    "   #test the posted image with the model\n",
    "   prediction = learn.predict(os.path.join(app.config['UPLOAD_FOLDER'], imgpath))\n",
    "\n",
    "   sample = format_sample(imgpath,prediction)\n",
    "\n",
    "\n",
    "\n",
    "   return redirect(url_for('home'))\n",
    "\n",
    "\n",
    "\n",
    "if __name__ == '__main__':\n",
    "   app.run()"
   ]
  },
  {
   "cell_type": "code",
   "execution_count": null,
   "metadata": {},
   "outputs": [],
   "source": []
  }
 ],
 "metadata": {
  "interpreter": {
   "hash": "7713304168cbd30576c08cd8037e755ec502527db886bcfa010c8949df6f0886"
  },
  "kernelspec": {
   "display_name": "Python 3.9.7 64-bit",
   "language": "python",
   "name": "python3"
  },
  "language_info": {
   "codemirror_mode": {
    "name": "ipython",
    "version": 3
   },
   "file_extension": ".py",
   "mimetype": "text/x-python",
   "name": "python",
   "nbconvert_exporter": "python",
   "pygments_lexer": "ipython3",
   "version": "3.9.7"
  },
  "orig_nbformat": 4
 },
 "nbformat": 4,
 "nbformat_minor": 2
}
