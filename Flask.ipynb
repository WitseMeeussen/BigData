{
 "cells": [
  {
   "cell_type": "markdown",
   "metadata": {},
   "source": [
    "<h2>Flask</h2>\n",
    "<h4>Dependencies</h4>"
   ]
  },
  {
   "cell_type": "code",
   "execution_count": 14,
   "metadata": {},
   "outputs": [
    {
     "name": "stdout",
     "output_type": "stream",
     "text": [
      "Requirement already satisfied: fastai in c:\\users\\32492\\appdata\\local\\programs\\python\\python39\\lib\\site-packages (2.5.3)\n",
      "Requirement already satisfied: matplotlib in c:\\users\\32492\\appdata\\local\\programs\\python\\python39\\lib\\site-packages (from fastai) (3.4.3)\n",
      "Requirement already satisfied: pillow>6.0.0 in c:\\users\\32492\\appdata\\local\\programs\\python\\python39\\lib\\site-packages (from fastai) (8.3.2)\n",
      "Requirement already satisfied: scipy in c:\\users\\32492\\appdata\\local\\programs\\python\\python39\\lib\\site-packages (from fastai) (1.7.1)\n",
      "Requirement already satisfied: torch<1.11,>=1.7.0 in c:\\users\\32492\\appdata\\local\\programs\\python\\python39\\lib\\site-packages (from fastai) (1.10.0)\n",
      "Requirement already satisfied: pandas in c:\\users\\32492\\appdata\\local\\programs\\python\\python39\\lib\\site-packages (from fastai) (1.3.3)\n",
      "Requirement already satisfied: pyyaml in c:\\users\\32492\\appdata\\local\\programs\\python\\python39\\lib\\site-packages (from fastai) (6.0)\n",
      "Requirement already satisfied: pip in c:\\users\\32492\\appdata\\local\\programs\\python\\python39\\lib\\site-packages (from fastai) (21.3.1)\n",
      "Requirement already satisfied: fastprogress>=0.2.4 in c:\\users\\32492\\appdata\\local\\programs\\python\\python39\\lib\\site-packages (from fastai) (1.0.0)\n",
      "Requirement already satisfied: packaging in c:\\users\\32492\\appdata\\local\\programs\\python\\python39\\lib\\site-packages (from fastai) (21.0)\n",
      "Requirement already satisfied: fastcore<1.4,>=1.3.22 in c:\\users\\32492\\appdata\\local\\programs\\python\\python39\\lib\\site-packages (from fastai) (1.3.27)\n",
      "Requirement already satisfied: fastdownload<2,>=0.0.5 in c:\\users\\32492\\appdata\\local\\programs\\python\\python39\\lib\\site-packages (from fastai) (0.0.5)\n",
      "Requirement already satisfied: torchvision>=0.8.2 in c:\\users\\32492\\appdata\\local\\programs\\python\\python39\\lib\\site-packages (from fastai) (0.11.1)\n",
      "Requirement already satisfied: requests in c:\\users\\32492\\appdata\\local\\programs\\python\\python39\\lib\\site-packages (from fastai) (2.26.0)\n",
      "Requirement already satisfied: spacy<4 in c:\\users\\32492\\appdata\\local\\programs\\python\\python39\\lib\\site-packages (from fastai) (3.2.1)\n",
      "Requirement already satisfied: scikit-learn in c:\\users\\32492\\appdata\\local\\programs\\python\\python39\\lib\\site-packages (from fastai) (1.0)\n",
      "Requirement already satisfied: numpy in c:\\users\\32492\\appdata\\local\\programs\\python\\python39\\lib\\site-packages (from fastprogress>=0.2.4->fastai) (1.19.5)\n",
      "Requirement already satisfied: typer<0.5.0,>=0.3.0 in c:\\users\\32492\\appdata\\local\\programs\\python\\python39\\lib\\site-packages (from spacy<4->fastai) (0.4.0)\n",
      "Requirement already satisfied: spacy-loggers<2.0.0,>=1.0.0 in c:\\users\\32492\\appdata\\local\\programs\\python\\python39\\lib\\site-packages (from spacy<4->fastai) (1.0.1)\n",
      "Requirement already satisfied: tqdm<5.0.0,>=4.38.0 in c:\\users\\32492\\appdata\\local\\programs\\python\\python39\\lib\\site-packages (from spacy<4->fastai) (4.62.3)\n",
      "Requirement already satisfied: cymem<2.1.0,>=2.0.2 in c:\\users\\32492\\appdata\\local\\programs\\python\\python39\\lib\\site-packages (from spacy<4->fastai) (2.0.6)\n",
      "Requirement already satisfied: pathy>=0.3.5 in c:\\users\\32492\\appdata\\local\\programs\\python\\python39\\lib\\site-packages (from spacy<4->fastai) (0.6.1)\n",
      "Requirement already satisfied: blis<0.8.0,>=0.4.0 in c:\\users\\32492\\appdata\\local\\programs\\python\\python39\\lib\\site-packages (from spacy<4->fastai) (0.7.5)\n",
      "Requirement already satisfied: preshed<3.1.0,>=3.0.2 in c:\\users\\32492\\appdata\\local\\programs\\python\\python39\\lib\\site-packages (from spacy<4->fastai) (3.0.6)\n",
      "Requirement already satisfied: langcodes<4.0.0,>=3.2.0 in c:\\users\\32492\\appdata\\local\\programs\\python\\python39\\lib\\site-packages (from spacy<4->fastai) (3.3.0)\n",
      "Requirement already satisfied: jinja2 in c:\\users\\32492\\appdata\\local\\programs\\python\\python39\\lib\\site-packages (from spacy<4->fastai) (3.0.3)\n",
      "Requirement already satisfied: pydantic!=1.8,!=1.8.1,<1.9.0,>=1.7.4 in c:\\users\\32492\\appdata\\local\\programs\\python\\python39\\lib\\site-packages (from spacy<4->fastai) (1.8.2)\n",
      "Requirement already satisfied: catalogue<2.1.0,>=2.0.6 in c:\\users\\32492\\appdata\\local\\programs\\python\\python39\\lib\\site-packages (from spacy<4->fastai) (2.0.6)\n",
      "Requirement already satisfied: srsly<3.0.0,>=2.4.1 in c:\\users\\32492\\appdata\\local\\programs\\python\\python39\\lib\\site-packages (from spacy<4->fastai) (2.4.2)\n",
      "Requirement already satisfied: spacy-legacy<3.1.0,>=3.0.8 in c:\\users\\32492\\appdata\\local\\programs\\python\\python39\\lib\\site-packages (from spacy<4->fastai) (3.0.8)\n",
      "Requirement already satisfied: wasabi<1.1.0,>=0.8.1 in c:\\users\\32492\\appdata\\local\\programs\\python\\python39\\lib\\site-packages (from spacy<4->fastai) (0.9.0)\n",
      "Requirement already satisfied: thinc<8.1.0,>=8.0.12 in c:\\users\\32492\\appdata\\local\\programs\\python\\python39\\lib\\site-packages (from spacy<4->fastai) (8.0.13)\n",
      "Requirement already satisfied: setuptools in c:\\users\\32492\\appdata\\local\\programs\\python\\python39\\lib\\site-packages (from spacy<4->fastai) (57.4.0)\n",
      "Requirement already satisfied: murmurhash<1.1.0,>=0.28.0 in c:\\users\\32492\\appdata\\local\\programs\\python\\python39\\lib\\site-packages (from spacy<4->fastai) (1.0.6)\n",
      "Requirement already satisfied: pyparsing>=2.0.2 in c:\\users\\32492\\appdata\\local\\programs\\python\\python39\\lib\\site-packages (from packaging->fastai) (2.4.7)\n",
      "Requirement already satisfied: urllib3<1.27,>=1.21.1 in c:\\users\\32492\\appdata\\local\\programs\\python\\python39\\lib\\site-packages (from requests->fastai) (1.26.7)\n",
      "Requirement already satisfied: certifi>=2017.4.17 in c:\\users\\32492\\appdata\\local\\programs\\python\\python39\\lib\\site-packages (from requests->fastai) (2021.10.8)\n",
      "Requirement already satisfied: idna<4,>=2.5 in c:\\users\\32492\\appdata\\local\\programs\\python\\python39\\lib\\site-packages (from requests->fastai) (3.3)\n",
      "Requirement already satisfied: charset-normalizer~=2.0.0 in c:\\users\\32492\\appdata\\local\\programs\\python\\python39\\lib\\site-packages (from requests->fastai) (2.0.7)\n",
      "Requirement already satisfied: typing-extensions in c:\\users\\32492\\appdata\\local\\programs\\python\\python39\\lib\\site-packages (from torch<1.11,>=1.7.0->fastai) (3.7.4.3)\n",
      "Requirement already satisfied: kiwisolver>=1.0.1 in c:\\users\\32492\\appdata\\local\\programs\\python\\python39\\lib\\site-packages (from matplotlib->fastai) (1.3.2)\n",
      "Requirement already satisfied: python-dateutil>=2.7 in c:\\users\\32492\\appdata\\local\\programs\\python\\python39\\lib\\site-packages (from matplotlib->fastai) (2.8.1)\n",
      "Requirement already satisfied: cycler>=0.10 in c:\\users\\32492\\appdata\\local\\programs\\python\\python39\\lib\\site-packages (from matplotlib->fastai) (0.10.0)\n",
      "Requirement already satisfied: pytz>=2017.3 in c:\\users\\32492\\appdata\\local\\programs\\python\\python39\\lib\\site-packages (from pandas->fastai) (2021.1)\n",
      "Requirement already satisfied: threadpoolctl>=2.0.0 in c:\\users\\32492\\appdata\\local\\programs\\python\\python39\\lib\\site-packages (from scikit-learn->fastai) (3.0.0)\n",
      "Requirement already satisfied: joblib>=0.11 in c:\\users\\32492\\appdata\\local\\programs\\python\\python39\\lib\\site-packages (from scikit-learn->fastai) (1.0.1)\n",
      "Requirement already satisfied: six in c:\\users\\32492\\appdata\\local\\programs\\python\\python39\\lib\\site-packages (from cycler>=0.10->matplotlib->fastai) (1.15.0)\n",
      "Requirement already satisfied: smart-open<6.0.0,>=5.0.0 in c:\\users\\32492\\appdata\\local\\programs\\python\\python39\\lib\\site-packages (from pathy>=0.3.5->spacy<4->fastai) (5.2.1)\n",
      "Requirement already satisfied: colorama in c:\\users\\32492\\appdata\\roaming\\python\\python39\\site-packages (from tqdm<5.0.0,>=4.38.0->spacy<4->fastai) (0.4.4)\n",
      "Requirement already satisfied: click<9.0.0,>=7.1.1 in c:\\users\\32492\\appdata\\local\\programs\\python\\python39\\lib\\site-packages (from typer<0.5.0,>=0.3.0->spacy<4->fastai) (7.1.2)\n",
      "Requirement already satisfied: MarkupSafe>=2.0 in c:\\users\\32492\\appdata\\local\\programs\\python\\python39\\lib\\site-packages (from jinja2->spacy<4->fastai) (2.0.1)\n",
      "Requirement already satisfied: flask in c:\\users\\32492\\appdata\\local\\programs\\python\\python39\\lib\\site-packages (2.0.2)\n",
      "Requirement already satisfied: Werkzeug>=2.0 in c:\\users\\32492\\appdata\\local\\programs\\python\\python39\\lib\\site-packages (from flask) (2.0.2)\n",
      "Requirement already satisfied: Jinja2>=3.0 in c:\\users\\32492\\appdata\\local\\programs\\python\\python39\\lib\\site-packages (from flask) (3.0.3)\n",
      "Requirement already satisfied: click>=7.1.2 in c:\\users\\32492\\appdata\\local\\programs\\python\\python39\\lib\\site-packages (from flask) (7.1.2)\n",
      "Requirement already satisfied: itsdangerous>=2.0 in c:\\users\\32492\\appdata\\local\\programs\\python\\python39\\lib\\site-packages (from flask) (2.0.1)\n",
      "Requirement already satisfied: MarkupSafe>=2.0 in c:\\users\\32492\\appdata\\local\\programs\\python\\python39\\lib\\site-packages (from Jinja2>=3.0->flask) (2.0.1)\n"
     ]
    }
   ],
   "source": [
    "!pip install fastai\n",
    "!pip install flask"
   ]
  },
  {
   "cell_type": "markdown",
   "metadata": {},
   "source": [
    "<h3>Imports</h3>\n",
    "The imports for the flask website.\n",
    "We used os to make directories and re to do some regex on the uploaded files.\n",
    "\n",
    "There was also a dependency issue with load_learner from fastai.vision.all,\n",
    "tt used PosixPath but that isn't used in windows so we fixed it by replacing PosixPath with the WindowsPath."
   ]
  },
  {
   "cell_type": "code",
   "execution_count": 17,
   "metadata": {},
   "outputs": [],
   "source": [
    "from flask import Flask, render_template, request, redirect, url_for\n",
    "from werkzeug.utils import secure_filename\n",
    "import os\n",
    "import re\n",
    "\n",
    "\n",
    "import random as rnd\n",
    "from fastai import *\n",
    "from fastai.vision.all import *\n",
    "\n",
    "# fixes a dependancy on PosixPath by load_learner\n",
    "import pathlib\n",
    "temp = pathlib.PosixPath\n",
    "pathlib.PosixPath = pathlib.WindowsPath"
   ]
  },
  {
   "cell_type": "markdown",
   "metadata": {},
   "source": [
    "<h3>Global variables</h3>\n",
    "\n",
    "These contain fixed data that is used by the website.\n",
    "The image that is uploaded on the website to be tested by the model is saved in the uploadfolder."
   ]
  },
  {
   "cell_type": "code",
   "execution_count": 18,
   "metadata": {},
   "outputs": [],
   "source": [
    "app = Flask(__name__)\n",
    "app.config['UPLOAD_FOLDER'] = './static/UploadFolder'\n",
    "\n",
    "DATAPATH = \"./static/data/\"\n",
    "# These are the categories used in the model and the data\n",
    "CATEGORIES = os.listdir(DATAPATH)\n",
    "ALLOWED_IMGTYPES = ['png','jpeg','gif','jfif','jpg']\n",
    "# uses top 20 images from the scrapers\n",
    "N_MAX = 20\n",
    "\n",
    "# learn is the model that is loaded from the pkl file. this file contains a model that predicts 14 different archtectal styles\n",
    "learn = load_learner('exportBig.pkl')"
   ]
  },
  {
   "cell_type": "markdown",
   "metadata": {},
   "source": [
    "<h3>Format functions</h3>\n",
    "\n",
    "These functions are used to format the data that has to be represented in the webpage.\n",
    "Example is a 'card' containing the right category, the image and the predicted category.\n",
    "\n",
    "Sample is the formatting of the uploaded image to be tested."
   ]
  },
  {
   "cell_type": "code",
   "execution_count": 19,
   "metadata": {},
   "outputs": [],
   "source": [
    "def format_example(imgpath,cat,prediction):\n",
    "   return {\"image\":\"/data/\"+imgpath,\n",
    "                           \"category\":cat,\n",
    "                           \"prediction\":prediction[0],\n",
    "                           \"correct_class\":\"example_\"+str(cat==prediction[0])}\n",
    "\n",
    "def format_sample(imgpath,prediction):\n",
    "   return {\"image\":\"/UploadFolder/\"+imgpath,\n",
    "            \"prediction\":prediction[0],\n",
    "            \"sample_class\":\"sample_visable\"}"
   ]
  },
  {
   "cell_type": "markdown",
   "metadata": {},
   "source": [
    "<h3>Examples function</h3>\n",
    "\n",
    "This function gets a random image from every category and returns a list of all the formatted examples."
   ]
  },
  {
   "cell_type": "code",
   "execution_count": 20,
   "metadata": {},
   "outputs": [],
   "source": [
    "def get_examples():\n",
    "   examples = []\n",
    "   for cat in CATEGORIES:\n",
    "      n = rnd.choice(range(N_MAX))\n",
    "      imgpath = cat+\"/\"+cat+str(n)+\".png\"\n",
    "      prediction = learn.predict(DATAPATH+imgpath)\n",
    "\n",
    "      examples.append(format_example(imgpath,cat,prediction))\n",
    "   \n",
    "   return examples"
   ]
  },
  {
   "cell_type": "markdown",
   "metadata": {},
   "source": [
    "<h3>Flask routed functions</h3>\n",
    "\n",
    "These functions are routed by Flask and return the same template (home).\n",
    "The difference is that the initial routing is used when no image is uploaded and the second function is used when an image is uploaded.\n"
   ]
  },
  {
   "cell_type": "code",
   "execution_count": 21,
   "metadata": {},
   "outputs": [],
   "source": [
    "@app.route('/')\n",
    "def home():\n",
    "   examples = get_examples()\n",
    "   return render_template('home.html',examples=examples,sample={\"sample_class\":\"sample_hidden\"})\n",
    "\n",
    "@app.route(\"/testImage_post\", methods=['post'])\n",
    "def testImage_post():\n",
    "\n",
    "   # clears the upload folder, to prevent to much space being used\n",
    "   for img in os.listdir(app.config['UPLOAD_FOLDER']):\n",
    "      os.remove(os.path.join(app.config['UPLOAD_FOLDER'],img))\n",
    "\n",
    "   # requests file from the posted files, this is suposed to be an image\n",
    "   image = request.files['file']\n",
    "   imgpath = secure_filename(image.filename)\n",
    "\n",
    "   #regex function to see if uploaded file was an image, else return to home function\n",
    "   if re.sub('.*\\\\.','',imgpath) not in ALLOWED_IMGTYPES:\n",
    "      return redirect(url_for('home'))\n",
    "\n",
    "   image.save(os.path.join(app.config['UPLOAD_FOLDER'], imgpath))\n",
    "\n",
    "   #test the posted image with the model\n",
    "   prediction = learn.predict(os.path.join(app.config['UPLOAD_FOLDER'], imgpath))\n",
    "\n",
    "   sample = format_sample(imgpath,prediction)\n",
    "   examples = get_examples()\n",
    "   return render_template('home.html',examples=examples,sample=sample)"
   ]
  },
  {
   "cell_type": "markdown",
   "metadata": {},
   "source": [
    "<h3>Run the server</h3>"
   ]
  },
  {
   "cell_type": "code",
   "execution_count": 22,
   "metadata": {},
   "outputs": [
    {
     "name": "stdout",
     "output_type": "stream",
     "text": [
      " * Serving Flask app '__main__' (lazy loading)\n",
      " * Environment: production\n",
      "   WARNING: This is a development server. Do not use it in a production deployment.\n",
      "   Use a production WSGI server instead.\n",
      " * Debug mode: off\n"
     ]
    },
    {
     "name": "stderr",
     "output_type": "stream",
     "text": [
      " * Running on http://127.0.0.1:5000/ (Press CTRL+C to quit)\n"
     ]
    },
    {
     "data": {
      "text/html": [],
      "text/plain": [
       "<IPython.core.display.HTML object>"
      ]
     },
     "metadata": {},
     "output_type": "display_data"
    },
    {
     "data": {
      "text/html": [],
      "text/plain": [
       "<IPython.core.display.HTML object>"
      ]
     },
     "metadata": {},
     "output_type": "display_data"
    },
    {
     "data": {
      "text/html": [],
      "text/plain": [
       "<IPython.core.display.HTML object>"
      ]
     },
     "metadata": {},
     "output_type": "display_data"
    },
    {
     "data": {
      "text/html": [],
      "text/plain": [
       "<IPython.core.display.HTML object>"
      ]
     },
     "metadata": {},
     "output_type": "display_data"
    },
    {
     "data": {
      "text/html": [],
      "text/plain": [
       "<IPython.core.display.HTML object>"
      ]
     },
     "metadata": {},
     "output_type": "display_data"
    },
    {
     "data": {
      "text/html": [],
      "text/plain": [
       "<IPython.core.display.HTML object>"
      ]
     },
     "metadata": {},
     "output_type": "display_data"
    },
    {
     "data": {
      "text/html": [],
      "text/plain": [
       "<IPython.core.display.HTML object>"
      ]
     },
     "metadata": {},
     "output_type": "display_data"
    },
    {
     "data": {
      "text/html": [],
      "text/plain": [
       "<IPython.core.display.HTML object>"
      ]
     },
     "metadata": {},
     "output_type": "display_data"
    },
    {
     "data": {
      "text/html": [],
      "text/plain": [
       "<IPython.core.display.HTML object>"
      ]
     },
     "metadata": {},
     "output_type": "display_data"
    },
    {
     "data": {
      "text/html": [],
      "text/plain": [
       "<IPython.core.display.HTML object>"
      ]
     },
     "metadata": {},
     "output_type": "display_data"
    },
    {
     "data": {
      "text/html": [],
      "text/plain": [
       "<IPython.core.display.HTML object>"
      ]
     },
     "metadata": {},
     "output_type": "display_data"
    },
    {
     "data": {
      "text/html": [],
      "text/plain": [
       "<IPython.core.display.HTML object>"
      ]
     },
     "metadata": {},
     "output_type": "display_data"
    },
    {
     "data": {
      "text/html": [],
      "text/plain": [
       "<IPython.core.display.HTML object>"
      ]
     },
     "metadata": {},
     "output_type": "display_data"
    },
    {
     "data": {
      "text/html": [],
      "text/plain": [
       "<IPython.core.display.HTML object>"
      ]
     },
     "metadata": {},
     "output_type": "display_data"
    },
    {
     "data": {
      "text/html": [],
      "text/plain": [
       "<IPython.core.display.HTML object>"
      ]
     },
     "metadata": {},
     "output_type": "display_data"
    },
    {
     "name": "stderr",
     "output_type": "stream",
     "text": [
      "127.0.0.1 - - [12/Dec/2021 19:46:21] \"POST /testImage_post HTTP/1.1\" 200 -\n",
      "127.0.0.1 - - [12/Dec/2021 19:46:21] \"GET /static//data/ancient%20egyptian/ancient%20egyptian7.png HTTP/1.1\" 308 -\n",
      "127.0.0.1 - - [12/Dec/2021 19:46:21] \"GET /static/css/style.css HTTP/1.1\" 304 -\n",
      "127.0.0.1 - - [12/Dec/2021 19:46:21] \"GET /static//data/tudor/tudor5.png HTTP/1.1\" 308 -\n",
      "127.0.0.1 - - [12/Dec/2021 19:46:21] \"GET /static//data/gothic/gothic1.png HTTP/1.1\" 308 -\n",
      "127.0.0.1 - - [12/Dec/2021 19:46:21] \"GET /static//data/federal/federal11.png HTTP/1.1\" 308 -\n",
      "127.0.0.1 - - [12/Dec/2021 19:46:21] \"GET /static/UploadFolder/OnzeLieveVrouwetoren_Amersfoort-683x1024.jpg HTTP/1.1\" 200 -\n",
      "127.0.0.1 - - [12/Dec/2021 19:46:21] \"GET /static/data/roman/roman7.png HTTP/1.1\" 304 -\n",
      "127.0.0.1 - - [12/Dec/2021 19:46:21] \"GET /static/data/indoislamic/indoislamic10.png HTTP/1.1\" 304 -\n",
      "127.0.0.1 - - [12/Dec/2021 19:46:21] \"GET /static/data/tudor/tudor5.png HTTP/1.1\" 200 -\n",
      "127.0.0.1 - - [12/Dec/2021 19:46:21] \"GET /static/data/gothic/gothic1.png HTTP/1.1\" 200 -\n",
      "127.0.0.1 - - [12/Dec/2021 19:46:21] \"GET /static/data/federal/federal11.png HTTP/1.1\" 200 -\n",
      "127.0.0.1 - - [12/Dec/2021 19:46:21] \"GET /static//data/art%20deco/art%20deco15.png HTTP/1.1\" 308 -\n",
      "127.0.0.1 - - [12/Dec/2021 19:46:21] \"GET /static//data/brutalism/brutalism11.png HTTP/1.1\" 308 -\n",
      "127.0.0.1 - - [12/Dec/2021 19:46:21] \"GET /static//data/cunstructivist/cunstructivist12.png HTTP/1.1\" 308 -\n",
      "127.0.0.1 - - [12/Dec/2021 19:46:22] \"GET /static/data/art%20deco/art%20deco15.png HTTP/1.1\" 200 -\n",
      "127.0.0.1 - - [12/Dec/2021 19:46:22] \"GET /static/data/baroque/baroque6.png HTTP/1.1\" 304 -\n",
      "127.0.0.1 - - [12/Dec/2021 19:46:22] \"GET /static//data/expressionist/expressionist12.png HTTP/1.1\" 308 -\n",
      "127.0.0.1 - - [12/Dec/2021 19:46:22] \"GET /static/data/ancient%20egyptian/ancient%20egyptian7.png HTTP/1.1\" 304 -\n",
      "127.0.0.1 - - [12/Dec/2021 19:46:22] \"GET /static/data/brutalism/brutalism11.png HTTP/1.1\" 200 -\n",
      "127.0.0.1 - - [12/Dec/2021 19:46:22] \"GET /static/data/cunstructivist/cunstructivist12.png HTTP/1.1\" 200 -\n",
      "127.0.0.1 - - [12/Dec/2021 19:46:22] \"GET /static/data/modern/modern9.png HTTP/1.1\" 304 -\n",
      "127.0.0.1 - - [12/Dec/2021 19:46:22] \"GET /static//data/moorisch/moorisch0.png HTTP/1.1\" 308 -\n",
      "127.0.0.1 - - [12/Dec/2021 19:46:22] \"GET /static/data/expressionist/expressionist12.png HTTP/1.1\" 200 -\n",
      "127.0.0.1 - - [12/Dec/2021 19:46:22] \"GET /static//data/rococo/rococo5.png HTTP/1.1\" 308 -\n",
      "127.0.0.1 - - [12/Dec/2021 19:46:22] \"GET /static/data/moorisch/moorisch0.png HTTP/1.1\" 200 -\n",
      "127.0.0.1 - - [12/Dec/2021 19:46:22] \"GET /static/data/rococo/rococo5.png HTTP/1.1\" 200 -\n"
     ]
    },
    {
     "data": {
      "text/html": [],
      "text/plain": [
       "<IPython.core.display.HTML object>"
      ]
     },
     "metadata": {},
     "output_type": "display_data"
    },
    {
     "data": {
      "text/html": [],
      "text/plain": [
       "<IPython.core.display.HTML object>"
      ]
     },
     "metadata": {},
     "output_type": "display_data"
    },
    {
     "data": {
      "text/html": [],
      "text/plain": [
       "<IPython.core.display.HTML object>"
      ]
     },
     "metadata": {},
     "output_type": "display_data"
    },
    {
     "data": {
      "text/html": [],
      "text/plain": [
       "<IPython.core.display.HTML object>"
      ]
     },
     "metadata": {},
     "output_type": "display_data"
    },
    {
     "data": {
      "text/html": [],
      "text/plain": [
       "<IPython.core.display.HTML object>"
      ]
     },
     "metadata": {},
     "output_type": "display_data"
    },
    {
     "data": {
      "text/html": [],
      "text/plain": [
       "<IPython.core.display.HTML object>"
      ]
     },
     "metadata": {},
     "output_type": "display_data"
    },
    {
     "data": {
      "text/html": [],
      "text/plain": [
       "<IPython.core.display.HTML object>"
      ]
     },
     "metadata": {},
     "output_type": "display_data"
    },
    {
     "data": {
      "text/html": [],
      "text/plain": [
       "<IPython.core.display.HTML object>"
      ]
     },
     "metadata": {},
     "output_type": "display_data"
    },
    {
     "data": {
      "text/html": [],
      "text/plain": [
       "<IPython.core.display.HTML object>"
      ]
     },
     "metadata": {},
     "output_type": "display_data"
    },
    {
     "data": {
      "text/html": [],
      "text/plain": [
       "<IPython.core.display.HTML object>"
      ]
     },
     "metadata": {},
     "output_type": "display_data"
    },
    {
     "data": {
      "text/html": [],
      "text/plain": [
       "<IPython.core.display.HTML object>"
      ]
     },
     "metadata": {},
     "output_type": "display_data"
    },
    {
     "data": {
      "text/html": [],
      "text/plain": [
       "<IPython.core.display.HTML object>"
      ]
     },
     "metadata": {},
     "output_type": "display_data"
    },
    {
     "data": {
      "text/html": [],
      "text/plain": [
       "<IPython.core.display.HTML object>"
      ]
     },
     "metadata": {},
     "output_type": "display_data"
    },
    {
     "data": {
      "text/html": [],
      "text/plain": [
       "<IPython.core.display.HTML object>"
      ]
     },
     "metadata": {},
     "output_type": "display_data"
    },
    {
     "data": {
      "text/html": [],
      "text/plain": [
       "<IPython.core.display.HTML object>"
      ]
     },
     "metadata": {},
     "output_type": "display_data"
    },
    {
     "name": "stderr",
     "output_type": "stream",
     "text": [
      "127.0.0.1 - - [12/Dec/2021 19:46:38] \"POST /testImage_post HTTP/1.1\" 200 -\n",
      "127.0.0.1 - - [12/Dec/2021 19:46:38] \"GET /static//data/ancient%20egyptian/ancient%20egyptian0.png HTTP/1.1\" 308 -\n",
      "127.0.0.1 - - [12/Dec/2021 19:46:38] \"GET /static/css/style.css HTTP/1.1\" 304 -\n",
      "127.0.0.1 - - [12/Dec/2021 19:46:39] \"GET /static//data/roman/roman8.png HTTP/1.1\" 308 -\n",
      "127.0.0.1 - - [12/Dec/2021 19:46:39] \"GET /static//data/tudor/tudor15.png HTTP/1.1\" 308 -\n",
      "127.0.0.1 - - [12/Dec/2021 19:46:39] \"GET /static//data/indoislamic/indoislamic4.png HTTP/1.1\" 308 -\n",
      "127.0.0.1 - - [12/Dec/2021 19:46:39] \"GET /static//data/gothic/gothic18.png HTTP/1.1\" 308 -\n",
      "127.0.0.1 - - [12/Dec/2021 19:46:39] \"GET /static/UploadFolder/image.jpeg HTTP/1.1\" 200 -\n",
      "127.0.0.1 - - [12/Dec/2021 19:46:39] \"GET /static/data/federal/federal2.png HTTP/1.1\" 304 -\n",
      "127.0.0.1 - - [12/Dec/2021 19:46:39] \"GET /static/data/roman/roman8.png HTTP/1.1\" 200 -\n",
      "127.0.0.1 - - [12/Dec/2021 19:46:39] \"GET /static/data/tudor/tudor15.png HTTP/1.1\" 200 -\n",
      "127.0.0.1 - - [12/Dec/2021 19:46:39] \"GET /static/data/indoislamic/indoislamic4.png HTTP/1.1\" 200 -\n",
      "127.0.0.1 - - [12/Dec/2021 19:46:39] \"GET /static/data/gothic/gothic18.png HTTP/1.1\" 200 -\n",
      "127.0.0.1 - - [12/Dec/2021 19:46:39] \"GET /static//data/art%20deco/art%20deco5.png HTTP/1.1\" 308 -\n",
      "127.0.0.1 - - [12/Dec/2021 19:46:39] \"GET /static//data/baroque/baroque3.png HTTP/1.1\" 308 -\n",
      "127.0.0.1 - - [12/Dec/2021 19:46:39] \"GET /static/data/art%20deco/art%20deco5.png HTTP/1.1\" 200 -\n",
      "127.0.0.1 - - [12/Dec/2021 19:46:39] \"GET /static/data/baroque/baroque3.png HTTP/1.1\" 200 -\n",
      "127.0.0.1 - - [12/Dec/2021 19:46:39] \"GET /static//data/brutalism/brutalism13.png HTTP/1.1\" 308 -\n",
      "127.0.0.1 - - [12/Dec/2021 19:46:39] \"GET /static//data/cunstructivist/cunstructivist0.png HTTP/1.1\" 308 -\n",
      "127.0.0.1 - - [12/Dec/2021 19:46:39] \"GET /static/data/ancient%20egyptian/ancient%20egyptian0.png HTTP/1.1\" 200 -\n",
      "127.0.0.1 - - [12/Dec/2021 19:46:39] \"GET /static//data/expressionist/expressionist0.png HTTP/1.1\" 308 -\n",
      "127.0.0.1 - - [12/Dec/2021 19:46:40] \"GET /static/data/modern/modern15.png HTTP/1.1\" 304 -\n",
      "127.0.0.1 - - [12/Dec/2021 19:46:40] \"GET /static//data/moorisch/moorisch3.png HTTP/1.1\" 308 -\n",
      "127.0.0.1 - - [12/Dec/2021 19:46:40] \"GET /static/data/brutalism/brutalism13.png HTTP/1.1\" 200 -\n",
      "127.0.0.1 - - [12/Dec/2021 19:46:40] \"GET /static/data/cunstructivist/cunstructivist0.png HTTP/1.1\" 200 -\n",
      "127.0.0.1 - - [12/Dec/2021 19:46:40] \"GET /static//data/rococo/rococo16.png HTTP/1.1\" 308 -\n",
      "127.0.0.1 - - [12/Dec/2021 19:46:40] \"GET /static/data/expressionist/expressionist0.png HTTP/1.1\" 200 -\n",
      "127.0.0.1 - - [12/Dec/2021 19:46:40] \"GET /static/data/moorisch/moorisch3.png HTTP/1.1\" 200 -\n",
      "127.0.0.1 - - [12/Dec/2021 19:46:40] \"GET /static/data/rococo/rococo16.png HTTP/1.1\" 200 -\n"
     ]
    },
    {
     "data": {
      "text/html": [],
      "text/plain": [
       "<IPython.core.display.HTML object>"
      ]
     },
     "metadata": {},
     "output_type": "display_data"
    },
    {
     "data": {
      "text/html": [],
      "text/plain": [
       "<IPython.core.display.HTML object>"
      ]
     },
     "metadata": {},
     "output_type": "display_data"
    },
    {
     "data": {
      "text/html": [],
      "text/plain": [
       "<IPython.core.display.HTML object>"
      ]
     },
     "metadata": {},
     "output_type": "display_data"
    },
    {
     "data": {
      "text/html": [],
      "text/plain": [
       "<IPython.core.display.HTML object>"
      ]
     },
     "metadata": {},
     "output_type": "display_data"
    },
    {
     "data": {
      "text/html": [],
      "text/plain": [
       "<IPython.core.display.HTML object>"
      ]
     },
     "metadata": {},
     "output_type": "display_data"
    },
    {
     "data": {
      "text/html": [],
      "text/plain": [
       "<IPython.core.display.HTML object>"
      ]
     },
     "metadata": {},
     "output_type": "display_data"
    },
    {
     "data": {
      "text/html": [],
      "text/plain": [
       "<IPython.core.display.HTML object>"
      ]
     },
     "metadata": {},
     "output_type": "display_data"
    },
    {
     "data": {
      "text/html": [],
      "text/plain": [
       "<IPython.core.display.HTML object>"
      ]
     },
     "metadata": {},
     "output_type": "display_data"
    },
    {
     "data": {
      "text/html": [],
      "text/plain": [
       "<IPython.core.display.HTML object>"
      ]
     },
     "metadata": {},
     "output_type": "display_data"
    },
    {
     "data": {
      "text/html": [],
      "text/plain": [
       "<IPython.core.display.HTML object>"
      ]
     },
     "metadata": {},
     "output_type": "display_data"
    },
    {
     "data": {
      "text/html": [],
      "text/plain": [
       "<IPython.core.display.HTML object>"
      ]
     },
     "metadata": {},
     "output_type": "display_data"
    },
    {
     "data": {
      "text/html": [],
      "text/plain": [
       "<IPython.core.display.HTML object>"
      ]
     },
     "metadata": {},
     "output_type": "display_data"
    },
    {
     "data": {
      "text/html": [],
      "text/plain": [
       "<IPython.core.display.HTML object>"
      ]
     },
     "metadata": {},
     "output_type": "display_data"
    },
    {
     "data": {
      "text/html": [],
      "text/plain": [
       "<IPython.core.display.HTML object>"
      ]
     },
     "metadata": {},
     "output_type": "display_data"
    },
    {
     "data": {
      "text/html": [],
      "text/plain": [
       "<IPython.core.display.HTML object>"
      ]
     },
     "metadata": {},
     "output_type": "display_data"
    },
    {
     "name": "stderr",
     "output_type": "stream",
     "text": [
      "127.0.0.1 - - [12/Dec/2021 19:46:54] \"POST /testImage_post HTTP/1.1\" 200 -\n",
      "127.0.0.1 - - [12/Dec/2021 19:46:54] \"GET /static//data/ancient%20egyptian/ancient%20egyptian14.png HTTP/1.1\" 308 -\n",
      "127.0.0.1 - - [12/Dec/2021 19:46:54] \"GET /static/css/style.css HTTP/1.1\" 304 -\n",
      "127.0.0.1 - - [12/Dec/2021 19:46:54] \"GET /static//data/gothic/gothic10.png HTTP/1.1\" 308 -\n",
      "127.0.0.1 - - [12/Dec/2021 19:46:54] \"GET /static//data/tudor/tudor0.png HTTP/1.1\" 308 -\n",
      "127.0.0.1 - - [12/Dec/2021 19:46:54] \"GET /static//data/indoislamic/indoislamic2.png HTTP/1.1\" 308 -\n",
      "127.0.0.1 - - [12/Dec/2021 19:46:54] \"GET /static/data/federal/federal7.png HTTP/1.1\" 304 -\n",
      "127.0.0.1 - - [12/Dec/2021 19:46:54] \"GET /static/UploadFolder/OnzeLieveVrouwetoren_Amersfoort-683x1024.jpg HTTP/1.1\" 200 -\n",
      "127.0.0.1 - - [12/Dec/2021 19:46:54] \"GET /static/data/roman/roman5.png HTTP/1.1\" 304 -\n",
      "127.0.0.1 - - [12/Dec/2021 19:46:54] \"GET /static/data/gothic/gothic10.png HTTP/1.1\" 200 -\n",
      "127.0.0.1 - - [12/Dec/2021 19:46:54] \"GET /static/data/tudor/tudor0.png HTTP/1.1\" 200 -\n",
      "127.0.0.1 - - [12/Dec/2021 19:46:54] \"GET /static/data/indoislamic/indoislamic2.png HTTP/1.1\" 200 -\n",
      "127.0.0.1 - - [12/Dec/2021 19:46:54] \"GET /static//data/brutalism/brutalism4.png HTTP/1.1\" 308 -\n",
      "127.0.0.1 - - [12/Dec/2021 19:46:54] \"GET /static//data/cunstructivist/cunstructivist5.png HTTP/1.1\" 308 -\n",
      "127.0.0.1 - - [12/Dec/2021 19:46:54] \"GET /static/data/art%20deco/art%20deco12.png HTTP/1.1\" 304 -\n",
      "127.0.0.1 - - [12/Dec/2021 19:46:55] \"GET /static/data/baroque/baroque18.png HTTP/1.1\" 304 -\n",
      "127.0.0.1 - - [12/Dec/2021 19:46:55] \"GET /static/data/ancient%20egyptian/ancient%20egyptian14.png HTTP/1.1\" 200 -\n",
      "127.0.0.1 - - [12/Dec/2021 19:46:55] \"GET /static/data/expressionist/expressionist0.png HTTP/1.1\" 304 -\n",
      "127.0.0.1 - - [12/Dec/2021 19:46:55] \"GET /static/data/brutalism/brutalism4.png HTTP/1.1\" 200 -\n",
      "127.0.0.1 - - [12/Dec/2021 19:46:55] \"GET /static/data/cunstructivist/cunstructivist5.png HTTP/1.1\" 200 -\n",
      "127.0.0.1 - - [12/Dec/2021 19:46:55] \"GET /static//data/modern/modern19.png HTTP/1.1\" 308 -\n",
      "127.0.0.1 - - [12/Dec/2021 19:46:55] \"GET /static//data/moorisch/moorisch8.png HTTP/1.1\" 308 -\n",
      "127.0.0.1 - - [12/Dec/2021 19:46:55] \"GET /static/data/rococo/rococo2.png HTTP/1.1\" 304 -\n",
      "127.0.0.1 - - [12/Dec/2021 19:46:55] \"GET /static/data/modern/modern19.png HTTP/1.1\" 200 -\n",
      "127.0.0.1 - - [12/Dec/2021 19:46:55] \"GET /static/data/moorisch/moorisch8.png HTTP/1.1\" 200 -\n"
     ]
    }
   ],
   "source": [
    "\n",
    "if __name__ == '__main__':\n",
    "   app.run()"
   ]
  }
 ],
 "metadata": {
  "interpreter": {
   "hash": "7713304168cbd30576c08cd8037e755ec502527db886bcfa010c8949df6f0886"
  },
  "kernelspec": {
   "display_name": "Python 3.9.7 64-bit",
   "language": "python",
   "name": "python3"
  },
  "language_info": {
   "codemirror_mode": {
    "name": "ipython",
    "version": 3
   },
   "file_extension": ".py",
   "mimetype": "text/x-python",
   "name": "python",
   "nbconvert_exporter": "python",
   "pygments_lexer": "ipython3",
   "version": "3.9.7"
  },
  "orig_nbformat": 4
 },
 "nbformat": 4,
 "nbformat_minor": 2
}
