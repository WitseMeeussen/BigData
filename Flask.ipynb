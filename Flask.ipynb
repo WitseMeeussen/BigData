{
 "cells": [
  {
   "cell_type": "code",
   "execution_count": 49,
   "metadata": {},
   "outputs": [],
   "source": [
    "#!pip install fastai"
   ]
  },
  {
   "cell_type": "code",
   "execution_count": 50,
   "metadata": {},
   "outputs": [
    {
     "name": "stdout",
     "output_type": "stream",
     "text": [
      " * Serving Flask app '__main__' (lazy loading)\n",
      " * Environment: production\n",
      "   WARNING: This is a development server. Do not use it in a production deployment.\n",
      "   Use a production WSGI server instead.\n",
      " * Debug mode: off\n"
     ]
    },
    {
     "name": "stderr",
     "output_type": "stream",
     "text": [
      " * Running on http://127.0.0.1:5000/ (Press CTRL+C to quit)\n"
     ]
    },
    {
     "name": "stdout",
     "output_type": "stream",
     "text": [
      "Image path:gothic10.png\n"
     ]
    },
    {
     "data": {
      "text/html": [],
      "text/plain": [
       "<IPython.core.display.HTML object>"
      ]
     },
     "metadata": {},
     "output_type": "display_data"
    },
    {
     "name": "stderr",
     "output_type": "stream",
     "text": [
      "127.0.0.1 - - [11/Dec/2021 15:16:31] \"POST /testImage_post HTTP/1.1\" 302 -\n"
     ]
    },
    {
     "name": "stdout",
     "output_type": "stream",
     "text": [
      "{'image': '/UploadFolder/gothic10.png', 'prediction': 'gothic', 'sample_class': 'sample_visable'}\n"
     ]
    },
    {
     "data": {
      "text/html": [],
      "text/plain": [
       "<IPython.core.display.HTML object>"
      ]
     },
     "metadata": {},
     "output_type": "display_data"
    },
    {
     "data": {
      "text/html": [],
      "text/plain": [
       "<IPython.core.display.HTML object>"
      ]
     },
     "metadata": {},
     "output_type": "display_data"
    },
    {
     "data": {
      "text/html": [],
      "text/plain": [
       "<IPython.core.display.HTML object>"
      ]
     },
     "metadata": {},
     "output_type": "display_data"
    },
    {
     "data": {
      "text/html": [],
      "text/plain": [
       "<IPython.core.display.HTML object>"
      ]
     },
     "metadata": {},
     "output_type": "display_data"
    },
    {
     "data": {
      "text/html": [],
      "text/plain": [
       "<IPython.core.display.HTML object>"
      ]
     },
     "metadata": {},
     "output_type": "display_data"
    },
    {
     "name": "stderr",
     "output_type": "stream",
     "text": [
      "127.0.0.1 - - [11/Dec/2021 15:16:31] \"GET / HTTP/1.1\" 200 -\n",
      "127.0.0.1 - - [11/Dec/2021 15:16:31] \"GET /static/css/style.css HTTP/1.1\" 304 -\n",
      "127.0.0.1 - - [11/Dec/2021 15:16:32] \"GET /static//data/roman/roman3.png HTTP/1.1\" 308 -\n",
      "127.0.0.1 - - [11/Dec/2021 15:16:32] \"GET /static//data/tudor/tudor7.png HTTP/1.1\" 308 -\n",
      "127.0.0.1 - - [11/Dec/2021 15:16:32] \"GET /static//UploadFolder/gothic10.png HTTP/1.1\" 308 -\n",
      "127.0.0.1 - - [11/Dec/2021 15:16:32] \"GET /static/data/art%20deco/art%20deco19.png HTTP/1.1\" 304 -\n",
      "127.0.0.1 - - [11/Dec/2021 15:16:32] \"GET /static/data/baroque/baroque13.png HTTP/1.1\" 304 -\n",
      "127.0.0.1 - - [11/Dec/2021 15:16:32] \"GET /static/data/gothic/gothic6.png HTTP/1.1\" 304 -\n",
      "127.0.0.1 - - [11/Dec/2021 15:16:32] \"GET /static/data/tudor/tudor7.png HTTP/1.1\" 200 -\n",
      "127.0.0.1 - - [11/Dec/2021 15:16:32] \"GET /static/data/roman/roman3.png HTTP/1.1\" 200 -\n",
      "127.0.0.1 - - [11/Dec/2021 15:16:32] \"GET /static/UploadFolder/gothic10.png HTTP/1.1\" 200 -\n"
     ]
    },
    {
     "name": "stdout",
     "output_type": "stream",
     "text": [
      "{'image': '/UploadFolder/gothic10.png', 'prediction': 'gothic', 'sample_class': 'sample_visable'}\n"
     ]
    },
    {
     "data": {
      "text/html": [],
      "text/plain": [
       "<IPython.core.display.HTML object>"
      ]
     },
     "metadata": {},
     "output_type": "display_data"
    },
    {
     "data": {
      "text/html": [],
      "text/plain": [
       "<IPython.core.display.HTML object>"
      ]
     },
     "metadata": {},
     "output_type": "display_data"
    },
    {
     "data": {
      "text/html": [],
      "text/plain": [
       "<IPython.core.display.HTML object>"
      ]
     },
     "metadata": {},
     "output_type": "display_data"
    },
    {
     "data": {
      "text/html": [],
      "text/plain": [
       "<IPython.core.display.HTML object>"
      ]
     },
     "metadata": {},
     "output_type": "display_data"
    },
    {
     "data": {
      "text/html": [],
      "text/plain": [
       "<IPython.core.display.HTML object>"
      ]
     },
     "metadata": {},
     "output_type": "display_data"
    },
    {
     "name": "stderr",
     "output_type": "stream",
     "text": [
      "127.0.0.1 - - [11/Dec/2021 15:17:39] \"GET / HTTP/1.1\" 200 -\n",
      "127.0.0.1 - - [11/Dec/2021 15:17:39] \"GET /static/css/style.css HTTP/1.1\" 304 -\n",
      "127.0.0.1 - - [11/Dec/2021 15:17:39] \"GET /static//data/gothic/gothic19.png HTTP/1.1\" 308 -\n",
      "127.0.0.1 - - [11/Dec/2021 15:17:39] \"GET /static/data/gothic/gothic19.png HTTP/1.1\" 200 -\n",
      "127.0.0.1 - - [11/Dec/2021 15:17:39] \"GET /static/UploadFolder/gothic10.png HTTP/1.1\" 304 -\n",
      "127.0.0.1 - - [11/Dec/2021 15:17:39] \"GET /static/data/art%20deco/art%20deco0.png HTTP/1.1\" 304 -\n",
      "127.0.0.1 - - [11/Dec/2021 15:17:39] \"GET /static/data/baroque/baroque15.png HTTP/1.1\" 304 -\n",
      "127.0.0.1 - - [11/Dec/2021 15:17:39] \"GET /static/data/roman/roman10.png HTTP/1.1\" 304 -\n",
      "127.0.0.1 - - [11/Dec/2021 15:17:39] \"GET /static/data/tudor/tudor6.png HTTP/1.1\" 304 -\n"
     ]
    },
    {
     "name": "stdout",
     "output_type": "stream",
     "text": [
      "{'image': '/UploadFolder/gothic10.png', 'prediction': 'gothic', 'sample_class': 'sample_visable'}\n"
     ]
    },
    {
     "data": {
      "text/html": [],
      "text/plain": [
       "<IPython.core.display.HTML object>"
      ]
     },
     "metadata": {},
     "output_type": "display_data"
    },
    {
     "data": {
      "text/html": [],
      "text/plain": [
       "<IPython.core.display.HTML object>"
      ]
     },
     "metadata": {},
     "output_type": "display_data"
    },
    {
     "data": {
      "text/html": [],
      "text/plain": [
       "<IPython.core.display.HTML object>"
      ]
     },
     "metadata": {},
     "output_type": "display_data"
    },
    {
     "data": {
      "text/html": [],
      "text/plain": [
       "<IPython.core.display.HTML object>"
      ]
     },
     "metadata": {},
     "output_type": "display_data"
    },
    {
     "data": {
      "text/html": [],
      "text/plain": [
       "<IPython.core.display.HTML object>"
      ]
     },
     "metadata": {},
     "output_type": "display_data"
    },
    {
     "name": "stderr",
     "output_type": "stream",
     "text": [
      "127.0.0.1 - - [11/Dec/2021 15:17:45] \"GET / HTTP/1.1\" 200 -\n",
      "127.0.0.1 - - [11/Dec/2021 15:17:45] \"GET /static//data/art%20deco/art%20deco10.png HTTP/1.1\" 308 -\n",
      "127.0.0.1 - - [11/Dec/2021 15:17:45] \"GET /static/css/style.css HTTP/1.1\" 304 -\n",
      "127.0.0.1 - - [11/Dec/2021 15:17:45] \"GET /static//data/baroque/baroque4.png HTTP/1.1\" 308 -\n",
      "127.0.0.1 - - [11/Dec/2021 15:17:45] \"GET /static/data/roman/roman10.png HTTP/1.1\" 304 -\n",
      "127.0.0.1 - - [11/Dec/2021 15:17:45] \"GET /static/data/gothic/gothic19.png HTTP/1.1\" 304 -\n",
      "127.0.0.1 - - [11/Dec/2021 15:17:45] \"GET /static/data/tudor/tudor3.png HTTP/1.1\" 304 -\n",
      "127.0.0.1 - - [11/Dec/2021 15:17:45] \"GET /static/data/art%20deco/art%20deco10.png HTTP/1.1\" 200 -\n",
      "127.0.0.1 - - [11/Dec/2021 15:17:45] \"GET /static/UploadFolder/gothic10.png HTTP/1.1\" 304 -\n",
      "127.0.0.1 - - [11/Dec/2021 15:17:45] \"GET /static/data/baroque/baroque4.png HTTP/1.1\" 200 -\n"
     ]
    },
    {
     "name": "stdout",
     "output_type": "stream",
     "text": [
      "{'image': '/UploadFolder/gothic10.png', 'prediction': 'gothic', 'sample_class': 'sample_visable'}\n"
     ]
    },
    {
     "data": {
      "text/html": [],
      "text/plain": [
       "<IPython.core.display.HTML object>"
      ]
     },
     "metadata": {},
     "output_type": "display_data"
    },
    {
     "data": {
      "text/html": [],
      "text/plain": [
       "<IPython.core.display.HTML object>"
      ]
     },
     "metadata": {},
     "output_type": "display_data"
    },
    {
     "data": {
      "text/html": [],
      "text/plain": [
       "<IPython.core.display.HTML object>"
      ]
     },
     "metadata": {},
     "output_type": "display_data"
    },
    {
     "data": {
      "text/html": [],
      "text/plain": [
       "<IPython.core.display.HTML object>"
      ]
     },
     "metadata": {},
     "output_type": "display_data"
    },
    {
     "data": {
      "text/html": [],
      "text/plain": [
       "<IPython.core.display.HTML object>"
      ]
     },
     "metadata": {},
     "output_type": "display_data"
    },
    {
     "name": "stderr",
     "output_type": "stream",
     "text": [
      "127.0.0.1 - - [11/Dec/2021 15:17:49] \"GET / HTTP/1.1\" 200 -\n",
      "127.0.0.1 - - [11/Dec/2021 15:17:49] \"GET /static//data/art%20deco/art%20deco11.png HTTP/1.1\" 308 -\n",
      "127.0.0.1 - - [11/Dec/2021 15:17:49] \"GET /static/css/style.css HTTP/1.1\" 304 -\n",
      "127.0.0.1 - - [11/Dec/2021 15:17:49] \"GET /static//data/baroque/baroque11.png HTTP/1.1\" 308 -\n",
      "127.0.0.1 - - [11/Dec/2021 15:17:49] \"GET /static//data/gothic/gothic8.png HTTP/1.1\" 308 -\n",
      "127.0.0.1 - - [11/Dec/2021 15:17:49] \"GET /static/UploadFolder/gothic10.png HTTP/1.1\" 304 -\n",
      "127.0.0.1 - - [11/Dec/2021 15:17:49] \"GET /static//data/roman/roman12.png HTTP/1.1\" 308 -\n",
      "127.0.0.1 - - [11/Dec/2021 15:17:50] \"GET /static/data/tudor/tudor7.png HTTP/1.1\" 304 -\n",
      "127.0.0.1 - - [11/Dec/2021 15:17:50] \"GET /static/data/art%20deco/art%20deco11.png HTTP/1.1\" 200 -\n",
      "127.0.0.1 - - [11/Dec/2021 15:17:50] \"GET /static/data/baroque/baroque11.png HTTP/1.1\" 200 -\n",
      "127.0.0.1 - - [11/Dec/2021 15:17:50] \"GET /static/data/gothic/gothic8.png HTTP/1.1\" 200 -\n",
      "127.0.0.1 - - [11/Dec/2021 15:17:50] \"GET /static/data/roman/roman12.png HTTP/1.1\" 200 -\n"
     ]
    },
    {
     "name": "stdout",
     "output_type": "stream",
     "text": [
      "{'image': '/UploadFolder/gothic10.png', 'prediction': 'gothic', 'sample_class': 'sample_visable'}\n"
     ]
    },
    {
     "data": {
      "text/html": [],
      "text/plain": [
       "<IPython.core.display.HTML object>"
      ]
     },
     "metadata": {},
     "output_type": "display_data"
    },
    {
     "data": {
      "text/html": [],
      "text/plain": [
       "<IPython.core.display.HTML object>"
      ]
     },
     "metadata": {},
     "output_type": "display_data"
    },
    {
     "data": {
      "text/html": [],
      "text/plain": [
       "<IPython.core.display.HTML object>"
      ]
     },
     "metadata": {},
     "output_type": "display_data"
    },
    {
     "data": {
      "text/html": [],
      "text/plain": [
       "<IPython.core.display.HTML object>"
      ]
     },
     "metadata": {},
     "output_type": "display_data"
    },
    {
     "data": {
      "text/html": [],
      "text/plain": [
       "<IPython.core.display.HTML object>"
      ]
     },
     "metadata": {},
     "output_type": "display_data"
    },
    {
     "name": "stderr",
     "output_type": "stream",
     "text": [
      "127.0.0.1 - - [11/Dec/2021 15:17:53] \"GET / HTTP/1.1\" 200 -\n",
      "127.0.0.1 - - [11/Dec/2021 15:17:53] \"GET /static//data/art%20deco/art%20deco13.png HTTP/1.1\" 308 -\n",
      "127.0.0.1 - - [11/Dec/2021 15:17:53] \"GET /static/css/style.css HTTP/1.1\" 304 -\n",
      "127.0.0.1 - - [11/Dec/2021 15:17:53] \"GET /static//data/baroque/baroque1.png HTTP/1.1\" 308 -\n",
      "127.0.0.1 - - [11/Dec/2021 15:17:53] \"GET /static/UploadFolder/gothic10.png HTTP/1.1\" 304 -\n",
      "127.0.0.1 - - [11/Dec/2021 15:17:53] \"GET /static/data/gothic/gothic16.png HTTP/1.1\" 304 -\n",
      "127.0.0.1 - - [11/Dec/2021 15:17:53] \"GET /static/data/roman/roman15.png HTTP/1.1\" 304 -\n",
      "127.0.0.1 - - [11/Dec/2021 15:17:53] \"GET /static/data/tudor/tudor12.png HTTP/1.1\" 304 -\n",
      "127.0.0.1 - - [11/Dec/2021 15:17:53] \"GET /static/data/art%20deco/art%20deco13.png HTTP/1.1\" 200 -\n",
      "127.0.0.1 - - [11/Dec/2021 15:17:54] \"GET /static/data/baroque/baroque1.png HTTP/1.1\" 200 -\n"
     ]
    },
    {
     "name": "stdout",
     "output_type": "stream",
     "text": [
      "{'image': '/UploadFolder/gothic10.png', 'prediction': 'gothic', 'sample_class': 'sample_visable'}\n"
     ]
    },
    {
     "data": {
      "text/html": [],
      "text/plain": [
       "<IPython.core.display.HTML object>"
      ]
     },
     "metadata": {},
     "output_type": "display_data"
    },
    {
     "data": {
      "text/html": [],
      "text/plain": [
       "<IPython.core.display.HTML object>"
      ]
     },
     "metadata": {},
     "output_type": "display_data"
    },
    {
     "data": {
      "text/html": [],
      "text/plain": [
       "<IPython.core.display.HTML object>"
      ]
     },
     "metadata": {},
     "output_type": "display_data"
    },
    {
     "data": {
      "text/html": [],
      "text/plain": [
       "<IPython.core.display.HTML object>"
      ]
     },
     "metadata": {},
     "output_type": "display_data"
    },
    {
     "data": {
      "text/html": [],
      "text/plain": [
       "<IPython.core.display.HTML object>"
      ]
     },
     "metadata": {},
     "output_type": "display_data"
    },
    {
     "name": "stderr",
     "output_type": "stream",
     "text": [
      "127.0.0.1 - - [11/Dec/2021 15:17:59] \"GET / HTTP/1.1\" 200 -\n",
      "127.0.0.1 - - [11/Dec/2021 15:17:59] \"GET /static/css/style.css HTTP/1.1\" 304 -\n",
      "127.0.0.1 - - [11/Dec/2021 15:17:59] \"GET /static//data/gothic/gothic9.png HTTP/1.1\" 308 -\n",
      "127.0.0.1 - - [11/Dec/2021 15:17:59] \"GET /static/data/gothic/gothic9.png HTTP/1.1\" 200 -\n",
      "127.0.0.1 - - [11/Dec/2021 15:17:59] \"GET /static/UploadFolder/gothic10.png HTTP/1.1\" 304 -\n",
      "127.0.0.1 - - [11/Dec/2021 15:17:59] \"GET /static/data/baroque/baroque19.png HTTP/1.1\" 304 -\n",
      "127.0.0.1 - - [11/Dec/2021 15:17:59] \"GET /static/data/art%20deco/art%20deco3.png HTTP/1.1\" 304 -\n",
      "127.0.0.1 - - [11/Dec/2021 15:17:59] \"GET /static/data/roman/roman19.png HTTP/1.1\" 304 -\n",
      "127.0.0.1 - - [11/Dec/2021 15:17:59] \"GET /static/data/tudor/tudor19.png HTTP/1.1\" 304 -\n"
     ]
    },
    {
     "name": "stdout",
     "output_type": "stream",
     "text": [
      "{'image': '/UploadFolder/gothic10.png', 'prediction': 'gothic', 'sample_class': 'sample_visable'}\n"
     ]
    },
    {
     "data": {
      "text/html": [],
      "text/plain": [
       "<IPython.core.display.HTML object>"
      ]
     },
     "metadata": {},
     "output_type": "display_data"
    },
    {
     "data": {
      "text/html": [],
      "text/plain": [
       "<IPython.core.display.HTML object>"
      ]
     },
     "metadata": {},
     "output_type": "display_data"
    },
    {
     "data": {
      "text/html": [],
      "text/plain": [
       "<IPython.core.display.HTML object>"
      ]
     },
     "metadata": {},
     "output_type": "display_data"
    },
    {
     "data": {
      "text/html": [],
      "text/plain": [
       "<IPython.core.display.HTML object>"
      ]
     },
     "metadata": {},
     "output_type": "display_data"
    },
    {
     "data": {
      "text/html": [],
      "text/plain": [
       "<IPython.core.display.HTML object>"
      ]
     },
     "metadata": {},
     "output_type": "display_data"
    },
    {
     "name": "stderr",
     "output_type": "stream",
     "text": [
      "127.0.0.1 - - [11/Dec/2021 15:18:02] \"GET / HTTP/1.1\" 200 -\n",
      "127.0.0.1 - - [11/Dec/2021 15:18:02] \"GET /static/css/style.css HTTP/1.1\" 304 -\n",
      "127.0.0.1 - - [11/Dec/2021 15:18:02] \"GET /static/data/art%20deco/art%20deco17.png HTTP/1.1\" 304 -\n",
      "127.0.0.1 - - [11/Dec/2021 15:18:02] \"GET /static/data/baroque/baroque11.png HTTP/1.1\" 304 -\n",
      "127.0.0.1 - - [11/Dec/2021 15:18:02] \"GET /static/data/roman/roman17.png HTTP/1.1\" 304 -\n",
      "127.0.0.1 - - [11/Dec/2021 15:18:02] \"GET /static/data/gothic/gothic7.png HTTP/1.1\" 304 -\n",
      "127.0.0.1 - - [11/Dec/2021 15:18:02] \"GET /static/data/tudor/tudor17.png HTTP/1.1\" 304 -\n",
      "127.0.0.1 - - [11/Dec/2021 15:18:02] \"GET /static/UploadFolder/gothic10.png HTTP/1.1\" 304 -\n"
     ]
    },
    {
     "name": "stdout",
     "output_type": "stream",
     "text": [
      "{'image': '/UploadFolder/gothic10.png', 'prediction': 'gothic', 'sample_class': 'sample_visable'}\n"
     ]
    },
    {
     "data": {
      "text/html": [],
      "text/plain": [
       "<IPython.core.display.HTML object>"
      ]
     },
     "metadata": {},
     "output_type": "display_data"
    },
    {
     "data": {
      "text/html": [],
      "text/plain": [
       "<IPython.core.display.HTML object>"
      ]
     },
     "metadata": {},
     "output_type": "display_data"
    },
    {
     "data": {
      "text/html": [],
      "text/plain": [
       "<IPython.core.display.HTML object>"
      ]
     },
     "metadata": {},
     "output_type": "display_data"
    },
    {
     "data": {
      "text/html": [],
      "text/plain": [
       "<IPython.core.display.HTML object>"
      ]
     },
     "metadata": {},
     "output_type": "display_data"
    },
    {
     "data": {
      "text/html": [],
      "text/plain": [
       "<IPython.core.display.HTML object>"
      ]
     },
     "metadata": {},
     "output_type": "display_data"
    },
    {
     "name": "stderr",
     "output_type": "stream",
     "text": [
      "127.0.0.1 - - [11/Dec/2021 15:18:08] \"GET / HTTP/1.1\" 200 -\n",
      "127.0.0.1 - - [11/Dec/2021 15:18:09] \"GET /static/css/style.css HTTP/1.1\" 304 -\n",
      "127.0.0.1 - - [11/Dec/2021 15:18:09] \"GET /static/data/art%20deco/art%20deco1.png HTTP/1.1\" 304 -\n",
      "127.0.0.1 - - [11/Dec/2021 15:18:09] \"GET /static/data/roman/roman5.png HTTP/1.1\" 304 -\n",
      "127.0.0.1 - - [11/Dec/2021 15:18:09] \"GET /static/UploadFolder/gothic10.png HTTP/1.1\" 304 -\n",
      "127.0.0.1 - - [11/Dec/2021 15:18:09] \"GET /static/data/baroque/baroque18.png HTTP/1.1\" 304 -\n",
      "127.0.0.1 - - [11/Dec/2021 15:18:09] \"GET /static/data/gothic/gothic14.png HTTP/1.1\" 304 -\n",
      "127.0.0.1 - - [11/Dec/2021 15:18:09] \"GET /static/data/tudor/tudor12.png HTTP/1.1\" 304 -\n"
     ]
    },
    {
     "name": "stdout",
     "output_type": "stream",
     "text": [
      "{'image': '/UploadFolder/gothic10.png', 'prediction': 'gothic', 'sample_class': 'sample_visable'}\n"
     ]
    },
    {
     "data": {
      "text/html": [],
      "text/plain": [
       "<IPython.core.display.HTML object>"
      ]
     },
     "metadata": {},
     "output_type": "display_data"
    },
    {
     "data": {
      "text/html": [],
      "text/plain": [
       "<IPython.core.display.HTML object>"
      ]
     },
     "metadata": {},
     "output_type": "display_data"
    },
    {
     "data": {
      "text/html": [],
      "text/plain": [
       "<IPython.core.display.HTML object>"
      ]
     },
     "metadata": {},
     "output_type": "display_data"
    },
    {
     "data": {
      "text/html": [],
      "text/plain": [
       "<IPython.core.display.HTML object>"
      ]
     },
     "metadata": {},
     "output_type": "display_data"
    },
    {
     "data": {
      "text/html": [],
      "text/plain": [
       "<IPython.core.display.HTML object>"
      ]
     },
     "metadata": {},
     "output_type": "display_data"
    },
    {
     "name": "stderr",
     "output_type": "stream",
     "text": [
      "127.0.0.1 - - [11/Dec/2021 15:18:12] \"GET / HTTP/1.1\" 200 -\n",
      "127.0.0.1 - - [11/Dec/2021 15:18:12] \"GET /static/css/style.css HTTP/1.1\" 304 -\n",
      "127.0.0.1 - - [11/Dec/2021 15:18:13] \"GET /static//data/baroque/baroque9.png HTTP/1.1\" 308 -\n",
      "127.0.0.1 - - [11/Dec/2021 15:18:13] \"GET /static/data/art%20deco/art%20deco13.png HTTP/1.1\" 304 -\n",
      "127.0.0.1 - - [11/Dec/2021 15:18:13] \"GET /static/data/gothic/gothic6.png HTTP/1.1\" 304 -\n",
      "127.0.0.1 - - [11/Dec/2021 15:18:13] \"GET /static/data/roman/roman9.png HTTP/1.1\" 304 -\n",
      "127.0.0.1 - - [11/Dec/2021 15:18:13] \"GET /static/data/tudor/tudor15.png HTTP/1.1\" 304 -\n",
      "127.0.0.1 - - [11/Dec/2021 15:18:13] \"GET /static/UploadFolder/gothic10.png HTTP/1.1\" 304 -\n",
      "127.0.0.1 - - [11/Dec/2021 15:18:13] \"GET /static/data/baroque/baroque9.png HTTP/1.1\" 200 -\n"
     ]
    },
    {
     "name": "stdout",
     "output_type": "stream",
     "text": [
      "{'image': '/UploadFolder/gothic10.png', 'prediction': 'gothic', 'sample_class': 'sample_visable'}\n"
     ]
    },
    {
     "data": {
      "text/html": [],
      "text/plain": [
       "<IPython.core.display.HTML object>"
      ]
     },
     "metadata": {},
     "output_type": "display_data"
    },
    {
     "data": {
      "text/html": [],
      "text/plain": [
       "<IPython.core.display.HTML object>"
      ]
     },
     "metadata": {},
     "output_type": "display_data"
    },
    {
     "data": {
      "text/html": [],
      "text/plain": [
       "<IPython.core.display.HTML object>"
      ]
     },
     "metadata": {},
     "output_type": "display_data"
    },
    {
     "data": {
      "text/html": [],
      "text/plain": [
       "<IPython.core.display.HTML object>"
      ]
     },
     "metadata": {},
     "output_type": "display_data"
    },
    {
     "data": {
      "text/html": [],
      "text/plain": [
       "<IPython.core.display.HTML object>"
      ]
     },
     "metadata": {},
     "output_type": "display_data"
    },
    {
     "name": "stderr",
     "output_type": "stream",
     "text": [
      "127.0.0.1 - - [11/Dec/2021 15:18:25] \"GET / HTTP/1.1\" 200 -\n",
      "127.0.0.1 - - [11/Dec/2021 15:18:25] \"GET /static/css/style.css HTTP/1.1\" 304 -\n",
      "127.0.0.1 - - [11/Dec/2021 15:18:25] \"GET /static/data/art%20deco/art%20deco1.png HTTP/1.1\" 304 -\n",
      "127.0.0.1 - - [11/Dec/2021 15:18:26] \"GET /static/UploadFolder/gothic10.png HTTP/1.1\" 304 -\n",
      "127.0.0.1 - - [11/Dec/2021 15:18:26] \"GET /static/data/baroque/baroque0.png HTTP/1.1\" 304 -\n",
      "127.0.0.1 - - [11/Dec/2021 15:18:26] \"GET /static/data/gothic/gothic19.png HTTP/1.1\" 304 -\n",
      "127.0.0.1 - - [11/Dec/2021 15:18:26] \"GET /static/data/roman/roman4.png HTTP/1.1\" 304 -\n",
      "127.0.0.1 - - [11/Dec/2021 15:18:26] \"GET /static/data/tudor/tudor6.png HTTP/1.1\" 304 -\n"
     ]
    },
    {
     "name": "stdout",
     "output_type": "stream",
     "text": [
      "{'image': '/UploadFolder/gothic10.png', 'prediction': 'gothic', 'sample_class': 'sample_visable'}\n"
     ]
    },
    {
     "data": {
      "text/html": [],
      "text/plain": [
       "<IPython.core.display.HTML object>"
      ]
     },
     "metadata": {},
     "output_type": "display_data"
    },
    {
     "data": {
      "text/html": [],
      "text/plain": [
       "<IPython.core.display.HTML object>"
      ]
     },
     "metadata": {},
     "output_type": "display_data"
    },
    {
     "data": {
      "text/html": [],
      "text/plain": [
       "<IPython.core.display.HTML object>"
      ]
     },
     "metadata": {},
     "output_type": "display_data"
    },
    {
     "data": {
      "text/html": [],
      "text/plain": [
       "<IPython.core.display.HTML object>"
      ]
     },
     "metadata": {},
     "output_type": "display_data"
    },
    {
     "data": {
      "text/html": [],
      "text/plain": [
       "<IPython.core.display.HTML object>"
      ]
     },
     "metadata": {},
     "output_type": "display_data"
    },
    {
     "name": "stderr",
     "output_type": "stream",
     "text": [
      "127.0.0.1 - - [11/Dec/2021 15:18:29] \"GET / HTTP/1.1\" 200 -\n",
      "127.0.0.1 - - [11/Dec/2021 15:18:29] \"GET /static/css/style.css HTTP/1.1\" 304 -\n",
      "127.0.0.1 - - [11/Dec/2021 15:18:29] \"GET /static/data/art%20deco/art%20deco16.png HTTP/1.1\" 304 -\n",
      "127.0.0.1 - - [11/Dec/2021 15:18:29] \"GET /static/data/baroque/baroque12.png HTTP/1.1\" 304 -\n",
      "127.0.0.1 - - [11/Dec/2021 15:18:29] \"GET /static/data/gothic/gothic9.png HTTP/1.1\" 304 -\n",
      "127.0.0.1 - - [11/Dec/2021 15:18:29] \"GET /static/data/roman/roman10.png HTTP/1.1\" 304 -\n",
      "127.0.0.1 - - [11/Dec/2021 15:18:29] \"GET /static/data/tudor/tudor6.png HTTP/1.1\" 304 -\n",
      "127.0.0.1 - - [11/Dec/2021 15:18:29] \"GET /static/UploadFolder/gothic10.png HTTP/1.1\" 304 -\n"
     ]
    },
    {
     "name": "stdout",
     "output_type": "stream",
     "text": [
      "Image path:WIN_20190105_17_15_53_Pro.jpg\n"
     ]
    },
    {
     "data": {
      "text/html": [],
      "text/plain": [
       "<IPython.core.display.HTML object>"
      ]
     },
     "metadata": {},
     "output_type": "display_data"
    },
    {
     "name": "stderr",
     "output_type": "stream",
     "text": [
      "127.0.0.1 - - [11/Dec/2021 15:18:45] \"POST /testImage_post HTTP/1.1\" 302 -\n"
     ]
    },
    {
     "name": "stdout",
     "output_type": "stream",
     "text": [
      "{'image': '/UploadFolder/WIN_20190105_17_15_53_Pro.jpg', 'prediction': 'baroque', 'sample_class': 'sample_visable'}\n"
     ]
    },
    {
     "data": {
      "text/html": [],
      "text/plain": [
       "<IPython.core.display.HTML object>"
      ]
     },
     "metadata": {},
     "output_type": "display_data"
    },
    {
     "data": {
      "text/html": [],
      "text/plain": [
       "<IPython.core.display.HTML object>"
      ]
     },
     "metadata": {},
     "output_type": "display_data"
    },
    {
     "data": {
      "text/html": [],
      "text/plain": [
       "<IPython.core.display.HTML object>"
      ]
     },
     "metadata": {},
     "output_type": "display_data"
    },
    {
     "data": {
      "text/html": [],
      "text/plain": [
       "<IPython.core.display.HTML object>"
      ]
     },
     "metadata": {},
     "output_type": "display_data"
    },
    {
     "data": {
      "text/html": [],
      "text/plain": [
       "<IPython.core.display.HTML object>"
      ]
     },
     "metadata": {},
     "output_type": "display_data"
    },
    {
     "name": "stderr",
     "output_type": "stream",
     "text": [
      "127.0.0.1 - - [11/Dec/2021 15:18:46] \"GET / HTTP/1.1\" 200 -\n",
      "127.0.0.1 - - [11/Dec/2021 15:18:46] \"GET /static/css/style.css HTTP/1.1\" 304 -\n",
      "127.0.0.1 - - [11/Dec/2021 15:18:46] \"GET /static//data/tudor/tudor4.png HTTP/1.1\" 308 -\n",
      "127.0.0.1 - - [11/Dec/2021 15:18:46] \"GET /static/data/art%20deco/art%20deco2.png HTTP/1.1\" 304 -\n",
      "127.0.0.1 - - [11/Dec/2021 15:18:46] \"GET /static/data/baroque/baroque12.png HTTP/1.1\" 304 -\n",
      "127.0.0.1 - - [11/Dec/2021 15:18:46] \"GET /static/data/gothic/gothic14.png HTTP/1.1\" 304 -\n",
      "127.0.0.1 - - [11/Dec/2021 15:18:46] \"GET /static/data/roman/roman1.png HTTP/1.1\" 304 -\n",
      "127.0.0.1 - - [11/Dec/2021 15:18:46] \"GET /static//UploadFolder/WIN_20190105_17_15_53_Pro.jpg HTTP/1.1\" 308 -\n",
      "127.0.0.1 - - [11/Dec/2021 15:18:46] \"GET /static/data/tudor/tudor4.png HTTP/1.1\" 200 -\n",
      "127.0.0.1 - - [11/Dec/2021 15:18:46] \"GET /static/UploadFolder/WIN_20190105_17_15_53_Pro.jpg HTTP/1.1\" 200 -\n"
     ]
    },
    {
     "name": "stdout",
     "output_type": "stream",
     "text": [
      "Image path:fotoTM.jpg\n"
     ]
    },
    {
     "data": {
      "text/html": [],
      "text/plain": [
       "<IPython.core.display.HTML object>"
      ]
     },
     "metadata": {},
     "output_type": "display_data"
    },
    {
     "name": "stderr",
     "output_type": "stream",
     "text": [
      "127.0.0.1 - - [11/Dec/2021 15:19:03] \"POST /testImage_post HTTP/1.1\" 302 -\n"
     ]
    },
    {
     "name": "stdout",
     "output_type": "stream",
     "text": [
      "{'image': '/UploadFolder/fotoTM.jpg', 'prediction': 'art deco', 'sample_class': 'sample_visable'}\n"
     ]
    },
    {
     "data": {
      "text/html": [],
      "text/plain": [
       "<IPython.core.display.HTML object>"
      ]
     },
     "metadata": {},
     "output_type": "display_data"
    },
    {
     "data": {
      "text/html": [],
      "text/plain": [
       "<IPython.core.display.HTML object>"
      ]
     },
     "metadata": {},
     "output_type": "display_data"
    },
    {
     "data": {
      "text/html": [],
      "text/plain": [
       "<IPython.core.display.HTML object>"
      ]
     },
     "metadata": {},
     "output_type": "display_data"
    },
    {
     "data": {
      "text/html": [],
      "text/plain": [
       "<IPython.core.display.HTML object>"
      ]
     },
     "metadata": {},
     "output_type": "display_data"
    },
    {
     "data": {
      "text/html": [],
      "text/plain": [
       "<IPython.core.display.HTML object>"
      ]
     },
     "metadata": {},
     "output_type": "display_data"
    },
    {
     "name": "stderr",
     "output_type": "stream",
     "text": [
      "127.0.0.1 - - [11/Dec/2021 15:19:04] \"GET / HTTP/1.1\" 200 -\n",
      "127.0.0.1 - - [11/Dec/2021 15:19:04] \"GET /static/css/style.css HTTP/1.1\" 304 -\n",
      "127.0.0.1 - - [11/Dec/2021 15:19:04] \"GET /static/data/art%20deco/art%20deco11.png HTTP/1.1\" 304 -\n",
      "127.0.0.1 - - [11/Dec/2021 15:19:04] \"GET /static/data/baroque/baroque8.png HTTP/1.1\" 304 -\n",
      "127.0.0.1 - - [11/Dec/2021 15:19:04] \"GET /static/data/gothic/gothic3.png HTTP/1.1\" 304 -\n",
      "127.0.0.1 - - [11/Dec/2021 15:19:04] \"GET /static/data/roman/roman10.png HTTP/1.1\" 304 -\n",
      "127.0.0.1 - - [11/Dec/2021 15:19:04] \"GET /static//UploadFolder/fotoTM.jpg HTTP/1.1\" 308 -\n",
      "127.0.0.1 - - [11/Dec/2021 15:19:04] \"GET /static/data/tudor/tudor16.png HTTP/1.1\" 304 -\n",
      "127.0.0.1 - - [11/Dec/2021 15:19:04] \"GET /static/UploadFolder/fotoTM.jpg HTTP/1.1\" 200 -\n"
     ]
    },
    {
     "name": "stdout",
     "output_type": "stream",
     "text": [
      "Image path:idVoorkant.jpg\n"
     ]
    },
    {
     "data": {
      "text/html": [],
      "text/plain": [
       "<IPython.core.display.HTML object>"
      ]
     },
     "metadata": {},
     "output_type": "display_data"
    },
    {
     "name": "stderr",
     "output_type": "stream",
     "text": [
      "127.0.0.1 - - [11/Dec/2021 15:19:17] \"POST /testImage_post HTTP/1.1\" 302 -\n"
     ]
    },
    {
     "name": "stdout",
     "output_type": "stream",
     "text": [
      "{'image': '/UploadFolder/idVoorkant.jpg', 'prediction': 'baroque', 'sample_class': 'sample_visable'}\n"
     ]
    },
    {
     "data": {
      "text/html": [],
      "text/plain": [
       "<IPython.core.display.HTML object>"
      ]
     },
     "metadata": {},
     "output_type": "display_data"
    },
    {
     "data": {
      "text/html": [],
      "text/plain": [
       "<IPython.core.display.HTML object>"
      ]
     },
     "metadata": {},
     "output_type": "display_data"
    },
    {
     "data": {
      "text/html": [],
      "text/plain": [
       "<IPython.core.display.HTML object>"
      ]
     },
     "metadata": {},
     "output_type": "display_data"
    },
    {
     "data": {
      "text/html": [],
      "text/plain": [
       "<IPython.core.display.HTML object>"
      ]
     },
     "metadata": {},
     "output_type": "display_data"
    },
    {
     "data": {
      "text/html": [],
      "text/plain": [
       "<IPython.core.display.HTML object>"
      ]
     },
     "metadata": {},
     "output_type": "display_data"
    },
    {
     "name": "stderr",
     "output_type": "stream",
     "text": [
      "127.0.0.1 - - [11/Dec/2021 15:19:18] \"GET / HTTP/1.1\" 200 -\n",
      "127.0.0.1 - - [11/Dec/2021 15:19:18] \"GET /static//data/gothic/gothic13.png HTTP/1.1\" 308 -\n",
      "127.0.0.1 - - [11/Dec/2021 15:19:18] \"GET /static//data/tudor/tudor18.png HTTP/1.1\" 308 -\n",
      "127.0.0.1 - - [11/Dec/2021 15:19:18] \"GET /static/css/style.css HTTP/1.1\" 304 -\n",
      "127.0.0.1 - - [11/Dec/2021 15:19:18] \"GET /static/data/art%20deco/art%20deco5.png HTTP/1.1\" 304 -\n",
      "127.0.0.1 - - [11/Dec/2021 15:19:18] \"GET /static/data/baroque/baroque15.png HTTP/1.1\" 304 -\n",
      "127.0.0.1 - - [11/Dec/2021 15:19:18] \"GET /static/data/roman/roman15.png HTTP/1.1\" 304 -\n",
      "127.0.0.1 - - [11/Dec/2021 15:19:18] \"GET /static/data/gothic/gothic13.png HTTP/1.1\" 200 -\n",
      "127.0.0.1 - - [11/Dec/2021 15:19:18] \"GET /static//UploadFolder/idVoorkant.jpg HTTP/1.1\" 308 -\n",
      "127.0.0.1 - - [11/Dec/2021 15:19:18] \"GET /static/data/tudor/tudor18.png HTTP/1.1\" 200 -\n",
      "127.0.0.1 - - [11/Dec/2021 15:19:19] \"GET /static/UploadFolder/idVoorkant.jpg HTTP/1.1\" 200 -\n"
     ]
    },
    {
     "name": "stdout",
     "output_type": "stream",
     "text": [
      "Image path:4k-resolution-wallpapers-Ultra-HD.jpg\n"
     ]
    },
    {
     "data": {
      "text/html": [],
      "text/plain": [
       "<IPython.core.display.HTML object>"
      ]
     },
     "metadata": {},
     "output_type": "display_data"
    },
    {
     "name": "stderr",
     "output_type": "stream",
     "text": [
      "127.0.0.1 - - [11/Dec/2021 15:19:31] \"POST /testImage_post HTTP/1.1\" 302 -\n"
     ]
    },
    {
     "name": "stdout",
     "output_type": "stream",
     "text": [
      "{'image': '/UploadFolder/4k-resolution-wallpapers-Ultra-HD.jpg', 'prediction': 'gothic', 'sample_class': 'sample_visable'}\n"
     ]
    },
    {
     "data": {
      "text/html": [],
      "text/plain": [
       "<IPython.core.display.HTML object>"
      ]
     },
     "metadata": {},
     "output_type": "display_data"
    },
    {
     "data": {
      "text/html": [],
      "text/plain": [
       "<IPython.core.display.HTML object>"
      ]
     },
     "metadata": {},
     "output_type": "display_data"
    },
    {
     "data": {
      "text/html": [],
      "text/plain": [
       "<IPython.core.display.HTML object>"
      ]
     },
     "metadata": {},
     "output_type": "display_data"
    },
    {
     "data": {
      "text/html": [],
      "text/plain": [
       "<IPython.core.display.HTML object>"
      ]
     },
     "metadata": {},
     "output_type": "display_data"
    },
    {
     "data": {
      "text/html": [],
      "text/plain": [
       "<IPython.core.display.HTML object>"
      ]
     },
     "metadata": {},
     "output_type": "display_data"
    },
    {
     "name": "stderr",
     "output_type": "stream",
     "text": [
      "127.0.0.1 - - [11/Dec/2021 15:19:31] \"GET / HTTP/1.1\" 200 -\n",
      "127.0.0.1 - - [11/Dec/2021 15:19:31] \"GET /static/css/style.css HTTP/1.1\" 304 -\n",
      "127.0.0.1 - - [11/Dec/2021 15:19:32] \"GET /static/data/baroque/baroque9.png HTTP/1.1\" 304 -\n",
      "127.0.0.1 - - [11/Dec/2021 15:19:32] \"GET /static/data/art%20deco/art%20deco6.png HTTP/1.1\" 200 -\n",
      "127.0.0.1 - - [11/Dec/2021 15:19:32] \"GET /static/data/gothic/gothic3.png HTTP/1.1\" 304 -\n",
      "127.0.0.1 - - [11/Dec/2021 15:19:32] \"GET /static/data/roman/roman7.png HTTP/1.1\" 304 -\n",
      "127.0.0.1 - - [11/Dec/2021 15:19:32] \"GET /static//UploadFolder/4k-resolution-wallpapers-Ultra-HD.jpg HTTP/1.1\" 308 -\n",
      "127.0.0.1 - - [11/Dec/2021 15:19:32] \"GET /static/data/tudor/tudor15.png HTTP/1.1\" 304 -\n",
      "127.0.0.1 - - [11/Dec/2021 15:19:32] \"GET /static/UploadFolder/4k-resolution-wallpapers-Ultra-HD.jpg HTTP/1.1\" 200 -\n"
     ]
    }
   ],
   "source": [
    "from flask import Flask, render_template, request, redirect, url_for\n",
    "from werkzeug.utils import secure_filename\n",
    "import os\n",
    "import re\n",
    "\n",
    "# fixes a dependancy on PosixPath by load_learner\n",
    "import pathlib\n",
    "temp = pathlib.PosixPath\n",
    "pathlib.PosixPath = pathlib.WindowsPath\n",
    "\n",
    "import random as rnd\n",
    "from fastai import *\n",
    "from fastai.vision.all import *\n",
    "\n",
    "app = Flask(__name__)\n",
    "if not os.path.isdir('UploadFolder'): os.mkdir('UploadFolder')\n",
    "app.config['UPLOAD_FOLDER'] = './static/UploadFolder'\n",
    "\n",
    "# These are the categories used in the model and the data\n",
    "DATAPATH = \"./static/data/\"\n",
    "CATEGORIES = os.listdir(DATAPATH)\n",
    "ALLOWED_IMGTYPES = ['png','jpeg','gif','jfif','jpg']\n",
    "# Every category has at least 600 images\n",
    "N_MAX = 20\n",
    "\n",
    "sample = {\"sample_class\":\"sample_hidden\"}\n",
    " \n",
    "learn = load_learner('export.pkl')\n",
    "\n",
    "def format_example(imgpath,cat,prediction):\n",
    "   return {\"image\":\"/data/\"+imgpath,\n",
    "                           \"category\":cat,\n",
    "                           \"prediction\":prediction[0],\n",
    "                           \"correct_class\":\"example_\"+str(cat==prediction[0])}\n",
    "\n",
    "def format_sample(imgpath,prediction):\n",
    "   return {\"image\":\"/UploadFolder/\"+imgpath,\n",
    "            \"prediction\":prediction[0],\n",
    "            \"sample_class\":\"sample_visable\"}\n",
    "\n",
    "def get_examples():\n",
    "   examples = []\n",
    "   for cat in CATEGORIES:\n",
    "      n = rnd.choice(range(N_MAX))\n",
    "      imgpath = cat+\"/\"+cat+str(n)+\".png\"\n",
    "      prediction = learn.predict(DATAPATH+imgpath)\n",
    "\n",
    "      examples.append(format_example(imgpath,cat,prediction))\n",
    "   \n",
    "   return examples\n",
    "\n",
    "\n",
    "   \n",
    "    \n",
    "\n",
    "\n",
    "@app.route('/')\n",
    "def home():\n",
    "   global sample\n",
    "   print(sample)\n",
    "   examples = get_examples()\n",
    "   return render_template('home.html',examples=examples,sample=sample)\n",
    "\n",
    "@app.route(\"/testImage_post\", methods=['post'])\n",
    "def testImage_post():\n",
    "\n",
    "\n",
    "\n",
    "\n",
    "   # for img in os.listdir(app.config['UPLOAD_FOLDER']):\n",
    "   #    os.remove(os.path.join(app.config['UPLOAD_FOLDER'],img))\n",
    "   global sample\n",
    "   # examples are manualy set for now, straight from the model? or select some to test and test them and than compare to name using regex?\n",
    "\n",
    "   image = request.files['file']\n",
    "   #regex function to see if uploaded file was an image\n",
    "\n",
    "   imgpath = secure_filename(image.filename)\n",
    "\n",
    "   print(\"Image path:\" + imgpath)\n",
    "   \n",
    "   \n",
    "\n",
    "   if re.sub('.*\\\\.','',imgpath) not in ALLOWED_IMGTYPES:\n",
    "      return redirect(url_for('home'))\n",
    "\n",
    "   image.save(os.path.join(app.config['UPLOAD_FOLDER'], imgpath))\n",
    "\n",
    "   #test the posted image with the model\n",
    "   prediction = learn.predict(os.path.join(app.config['UPLOAD_FOLDER'], imgpath))\n",
    "\n",
    "   sample = format_sample(imgpath,prediction)\n",
    "\n",
    "\n",
    "\n",
    "   return redirect(url_for('home'))\n",
    "\n",
    "\n",
    "\n",
    "if __name__ == '__main__':\n",
    "   app.run()"
   ]
  }
 ],
 "metadata": {
  "interpreter": {
   "hash": "7713304168cbd30576c08cd8037e755ec502527db886bcfa010c8949df6f0886"
  },
  "kernelspec": {
   "display_name": "Python 3.9.7 64-bit",
   "language": "python",
   "name": "python3"
  },
  "language_info": {
   "codemirror_mode": {
    "name": "ipython",
    "version": 3
   },
   "file_extension": ".py",
   "mimetype": "text/x-python",
   "name": "python",
   "nbconvert_exporter": "python",
   "pygments_lexer": "ipython3",
   "version": "3.9.7"
  },
  "orig_nbformat": 4
 },
 "nbformat": 4,
 "nbformat_minor": 2
}
