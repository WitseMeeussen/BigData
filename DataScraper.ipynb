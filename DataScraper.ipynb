{
 "cells": [
  {
   "cell_type": "code",
   "execution_count": 9,
   "metadata": {},
   "outputs": [],
   "source": [
    "# !pip install selenium\n",
    "# !pip install webdriver_manager"
   ]
  },
  {
   "cell_type": "code",
   "execution_count": 10,
   "metadata": {},
   "outputs": [],
   "source": [
    "import os\n",
    "import re\n",
    "from selenium import webdriver\n",
    "import time\n",
    "from webdriver_manager.chrome import ChromeDriverManager\n",
    "from bs4 import BeautifulSoup\n",
    "import urllib.request\n",
    "\n"
   ]
  },
  {
   "cell_type": "markdown",
   "metadata": {},
   "source": [
    "<h3>Chrome Driver</h3>\n",
    "The raw html data of a google search has a very limited amount of images.\n",
    "\n",
    "That is why we use a chrome driver to open a chrome browser tab and make a search on google images. Then we tell the driver to scroll down a few times and at last it gives us the raw html data that is loaded."
   ]
  },
  {
   "cell_type": "code",
   "execution_count": 11,
   "metadata": {},
   "outputs": [],
   "source": [
    "def getHtml(query,scrolls = 10):\n",
    "    driver = webdriver.Chrome(ChromeDriverManager().install())\n",
    "\n",
    "    search_url=\"https://www.google.com/search?q={q}&tbm=isch&tbs=sur%3Afc&hl=en&ved=0CAIQpwVqFwoTCKCa1c6s4-oCFQAAAAAdAAAAABAC&biw=1251&bih=568\"\n",
    "\n",
    "    driver.get(search_url.format(q=query))\n",
    "\n",
    "    #Scroll to the end of the page\n",
    "    scrollsDone = 0\n",
    "    clicked = False\n",
    "    while scrollsDone<scrolls:\n",
    "        print(scrolls)\n",
    "        if scrollsDone > 3 and not clicked:\n",
    "            driver.find_element_by_xpath(\"//input[@jsaction= 'Pmjnye']\").click()\n",
    "            clicked=True\n",
    "            time.sleep(2)\n",
    "        driver.execute_script(\"window.scrollTo(0, document.body.scrollHeight);\")\n",
    "        time.sleep(1)#sleep_between_interactions\n",
    "        scrollsDone +=1\n",
    "    \n",
    "\n",
    "    #Locate the images to be scraped from the current page \n",
    "    html = driver.page_source\n",
    "    driver.quit\n",
    "    return html"
   ]
  },
  {
   "cell_type": "markdown",
   "metadata": {},
   "source": [
    "<input jsaction=\"Pmjnye\" class=\"mye4qd\" type=\"button\" value=\"Show more results\">\n",
    "https://www.google.com/search?q=architecture&tbm=isch&tbs=sur%3Afc&hl=en&ved=0CAIQpwVqFwoTCKCa1c6s4-oCFQAAAAAdAAAAABAC&biw=1251&bih=568"
   ]
  },
  {
   "cell_type": "markdown",
   "metadata": {},
   "source": [
    "<h3>BeautifullSoup</h3>\n",
    "\n",
    "We use BeautifullSoup to read and search the raw html for the right images."
   ]
  },
  {
   "cell_type": "code",
   "execution_count": 12,
   "metadata": {},
   "outputs": [],
   "source": [
    "def getImages(html):\n",
    "    soup = BeautifulSoup(html,\"html.parser\")\n",
    "    return soup.find_all(\"img\" ,attrs={\"src\":True})"
   ]
  },
  {
   "cell_type": "markdown",
   "metadata": {},
   "source": [
    "<h3> Saving the images </h3>\n",
    "\n",
    "This is a loop that loops true the images data and downloads the image via the url in the src atribute."
   ]
  },
  {
   "cell_type": "code",
   "execution_count": 13,
   "metadata": {},
   "outputs": [],
   "source": [
    "def saveImages(images,location,name = \"\",count=-1):\n",
    "    number = 0\n",
    "    for image in images:\n",
    "        image_src=image[\"src\"]\n",
    "        \n",
    "        urllib.request.urlretrieve(image_src, location+ name + str(number)+ \".png\")\n",
    "        number += 1\n",
    "        count -=1\n",
    "        if count == 0:\n",
    "            return"
   ]
  },
  {
   "cell_type": "code",
   "execution_count": 14,
   "metadata": {},
   "outputs": [],
   "source": [
    "def getData(query,n,name):\n",
    "    images = getImages(getHtml(query,scrolls=round(n/80)+1))\n",
    "    if not os.path.isdir(\"./Data/\"+name): os.mkdir(\"./Data/\"+name)\n",
    "    saveImages(images,location=\"./Data/\"+name+ \"/\", name=name,count=n)"
   ]
  },
  {
   "cell_type": "code",
   "execution_count": 15,
   "metadata": {},
   "outputs": [],
   "source": [
    "def getGoolgleImages(querys,n):\n",
    "    if not os.path.isdir(\"./Data\"): os.mkdir(\"./Data\")\n",
    "    for q in querys:\n",
    "        getData(query=q,n=n,name=re.sub(\" architecture\",\"\",q))"
   ]
  },
  {
   "cell_type": "code",
   "execution_count": 16,
   "metadata": {},
   "outputs": [
    {
     "name": "stderr",
     "output_type": "stream",
     "text": [
      "\n",
      "\n",
      "====== WebDriver manager ======\n",
      "Current google-chrome version is 96.0.4664\n",
      "Get LATEST chromedriver version for 96.0.4664 google-chrome\n",
      "Driver [C:\\Users\\32492\\.wdm\\drivers\\chromedriver\\win32\\96.0.4664.45\\chromedriver.exe] found in cache\n",
      "C:\\Users\\32492\\AppData\\Local\\Temp/ipykernel_5732/314755281.py:2: DeprecationWarning: executable_path has been deprecated, please pass in a Service object\n",
      "  driver = webdriver.Chrome(ChromeDriverManager().install())\n"
     ]
    },
    {
     "name": "stdout",
     "output_type": "stream",
     "text": [
      "13\n",
      "13\n",
      "13\n",
      "13\n",
      "13\n",
      "13\n"
     ]
    },
    {
     "name": "stderr",
     "output_type": "stream",
     "text": [
      "C:\\Users\\32492\\AppData\\Local\\Temp/ipykernel_5732/314755281.py:14: DeprecationWarning: find_element_by_* commands are deprecated. Please use find_element() instead\n",
      "  driver.find_element_by_xpath(\"//input[@jsaction= 'Pmjnye']\").click()\n"
     ]
    },
    {
     "name": "stdout",
     "output_type": "stream",
     "text": [
      "13\n",
      "13\n",
      "13\n",
      "13\n",
      "13\n",
      "13\n",
      "13\n"
     ]
    },
    {
     "name": "stderr",
     "output_type": "stream",
     "text": [
      "\n",
      "\n",
      "====== WebDriver manager ======\n",
      "Current google-chrome version is 96.0.4664\n",
      "Get LATEST chromedriver version for 96.0.4664 google-chrome\n",
      "Driver [C:\\Users\\32492\\.wdm\\drivers\\chromedriver\\win32\\96.0.4664.45\\chromedriver.exe] found in cache\n"
     ]
    },
    {
     "name": "stdout",
     "output_type": "stream",
     "text": [
      "13\n",
      "13\n",
      "13\n",
      "13\n",
      "13\n",
      "13\n",
      "13\n",
      "13\n",
      "13\n",
      "13\n",
      "13\n",
      "13\n",
      "13\n"
     ]
    }
   ],
   "source": [
    "querys = [\"gotic architecture\",\"art deco architecture\"]\n",
    "getGoolgleImages(querys,n=1000)"
   ]
  }
 ],
 "metadata": {
  "interpreter": {
   "hash": "7713304168cbd30576c08cd8037e755ec502527db886bcfa010c8949df6f0886"
  },
  "kernelspec": {
   "display_name": "Python 3.9.7 64-bit",
   "language": "python",
   "name": "python3"
  },
  "language_info": {
   "codemirror_mode": {
    "name": "ipython",
    "version": 3
   },
   "file_extension": ".py",
   "mimetype": "text/x-python",
   "name": "python",
   "nbconvert_exporter": "python",
   "pygments_lexer": "ipython3",
   "version": "3.9.7"
  },
  "orig_nbformat": 4
 },
 "nbformat": 4,
 "nbformat_minor": 2
}
